{
 "cells": [
  {
   "cell_type": "code",
   "execution_count": 1,
   "metadata": {},
   "outputs": [],
   "source": [
    "import glob\n",
    "from collections import Counter\n",
    "import pickle\n",
    "import torch\n",
    "from torch import nn\n",
    "from torch import optim\n",
    "from torch.nn import functional as F\n",
    "from torch.utils.data import TensorDataset, DataLoader\n",
    "import numpy as np\n",
    "\n",
    "from model import SimpleRNNModel\n",
    "%load_ext autoreload\n",
    "%autoreload 2"
   ]
  },
  {
   "cell_type": "code",
   "execution_count": 2,
   "metadata": {},
   "outputs": [],
   "source": [
    "# load the dataset\n",
    "poems = []\n",
    "\n",
    "for path in glob.iglob(\"data/*.txt\"):\n",
    "    with open(path, 'r') as f:\n",
    "        x = f.read()\n",
    "        poems.append(x.lower().split(' '))"
   ]
  },
  {
   "cell_type": "code",
   "execution_count": 3,
   "metadata": {},
   "outputs": [
    {
     "name": "stdout",
     "output_type": "stream",
     "text": [
      "['coplas', 'elegíacas', '\\n', '¡', 'ay', 'del', 'que', 'llega', 'sediento', '\\n', 'a', 'ver', 'el', 'agua', 'correr', ',', '\\n', 'y', 'dice', ':', 'la', 'sed', 'que', 'siento', '\\n', 'no', 'me', 'la', 'calma', 'el', 'beber', '!', '\\n', '¡', 'ay', 'de', 'quien', 'bebe', 'y', ',', 'saciada', '\\n', 'la', 'sed', ',', 'desprecia', 'la', 'vida', ':', '\\n', 'moneda', 'al', 'tahúr', 'prestada', ',', '\\n', 'que', 'sea', 'al', 'azar', 'rendida', '!', '\\n', 'del', 'iluso', 'que', 'suspira', '\\n', 'bajo', 'el', 'orden', 'soberano', ',', '\\n', 'y', 'del', 'que', 'sueña', 'la', 'lira', '\\n', 'pitagórica', 'en', 'su', 'mano', '.', '\\n', '¡', 'ay', 'del', 'noble', 'peregrino', '\\n', 'que', 'se', 'para', 'a', 'meditar', ',', '\\n', 'después', 'de', 'largo', 'camino', '\\n', 'en', 'el', 'horror', 'de', 'llegar', '!', '\\n', '¡', 'ay', 'de', 'la', 'melancolía', '\\n', 'que', 'llorando', 'se', 'consuela', ',', '\\n', 'y', 'de', 'la', 'melomanía', '\\n', 'de', 'un', 'corazón', 'de', 'zarzuela', '!', '\\n', '¡', 'ay', 'de', 'nuestro', 'ruiseñor', ',', '\\n', 'si', 'en', 'una', 'noche', 'serena', '\\n', 'se', 'cura', 'del', 'mal', 'de', 'amor', '\\n', 'que', 'llora', 'y', 'canta', 'sin', 'pena', '!', '\\n', '¡', 'de', 'los', 'jardines', 'secretos', ',', '\\n', 'de', 'los', 'pensiles', 'soñados', ',', '\\n', 'y', 'de', 'los', 'sueños', 'poblados', '\\n', 'de', 'propósitos', 'discretos', '!', '\\n', '¡', 'ay', 'del', 'galán', 'sin', 'fortuna', '\\n', 'que', 'ronda', 'a', 'la', 'luna', 'bella', ';', '\\n', 'de', 'cuantos', 'caen', 'de', 'la', 'luna', ',', '\\n', 'de', 'cuantos', 'se', 'marchan', 'a', 'ella', '!', '\\n', '¡', 'de', 'quien', 'el', 'fruto', 'prendido', '\\n', 'en', 'la', 'rama', 'no', 'alcanzó', ',', '\\n', 'de', 'quien', 'el', 'fruto', 'ha', 'mordido', '\\n', 'y', 'el', 'gusto', 'amargo', 'probó', '!', '\\n', '¡', 'y', 'de', 'nuestro', 'amor', 'primero', '\\n', 'y', 'de', 'su', 'fe', 'mal', 'pagada', ',', '\\n', 'y', ',', 'también', ',', 'del', 'verdadero', '\\n', 'amante', 'de', 'nuestra', 'amada', '!', '\\n', '<end>']\n"
     ]
    }
   ],
   "source": [
    "print(poems[0])"
   ]
  },
  {
   "cell_type": "code",
   "execution_count": 4,
   "metadata": {},
   "outputs": [
    {
     "name": "stdout",
     "output_type": "stream",
     "text": [
      "6298\n",
      "Most common: [('\\n', 12658), (',', 5864), ('.', 5174), ('de', 3176), ('y', 2805), ('la', 2739), ('el', 2583), ('en', 1611), ('que', 1466), ('un', 888)]\n",
      "Most uncommon: [('arrancaste', 1), ('clamar', 1), ('voluntad', 1), ('solos', 1), ('perdemos', 1), ('perderá', 1), ('adivínala', 1), ('fetiche', 1), ('ofrenda', 1), ('puñetazos', 1)]\n"
     ]
    }
   ],
   "source": [
    "word_counter = Counter()\n",
    "\n",
    "for words in poems:\n",
    "    word_counter.update(words)\n",
    "\n",
    "print(len(word_counter)) # 6926 distinct words, OMG!!!\n",
    "print(\"Most common:\", word_counter.most_common(10))\n",
    "print(\"Most uncommon:\", word_counter.most_common()[-10:])"
   ]
  },
  {
   "cell_type": "code",
   "execution_count": 5,
   "metadata": {},
   "outputs": [
    {
     "name": "stdout",
     "output_type": "stream",
     "text": [
      "6298\n"
     ]
    }
   ],
   "source": [
    "min_word_appearance = 1 # (optional) if > 1 gets rid of words that only appear N times\n",
    "\n",
    "word_idx = {e[0]: idx+1 for idx, e in enumerate(word_counter.most_common()) if e[1] >= min_word_appearance}\n",
    "idx_word = {v: k for k, v in word_idx.items()}\n",
    "\n",
    "with open('word_idx.pkl', 'wb') as file:\n",
    "    pickle.dump(word_idx, file)\n",
    "\n",
    "with open('idx_word.pkl', 'wb') as file:\n",
    "    pickle.dump(idx_word, file)\n",
    "\n",
    "print(len(word_idx))"
   ]
  },
  {
   "cell_type": "code",
   "execution_count": 5,
   "metadata": {},
   "outputs": [],
   "source": [
    "with open('word_idx.pkl', 'rb') as file:\n",
    "    word_idx = pickle.load(file)\n",
    "    \n",
    "with open('idx_word.pkl', 'rb') as file:\n",
    "    idx_word = pickle.load(file)"
   ]
  },
  {
   "cell_type": "code",
   "execution_count": 6,
   "metadata": {},
   "outputs": [
    {
     "name": "stdout",
     "output_type": "stream",
     "text": [
      "['coplas', 'elegíacas', '\\n', '¡', 'ay', 'del', 'que', 'llega', 'sediento', '\\n', 'a', 'ver', 'el', 'agua', 'correr', ',', '\\n', 'y', 'dice', ':', 'la', 'sed', 'que', 'siento', '\\n', 'no', 'me', 'la', 'calma', 'el', 'beber', '!', '\\n', '¡', 'ay', 'de', 'quien', 'bebe', 'y', ',', 'saciada', '\\n', 'la', 'sed', ',', 'desprecia', 'la', 'vida', ':', '\\n', 'moneda', 'al', 'tahúr', 'prestada', ',', '\\n', 'que', 'sea', 'al', 'azar', 'rendida', '!', '\\n', 'del', 'iluso', 'que', 'suspira', '\\n', 'bajo', 'el', 'orden', 'soberano', ',', '\\n', 'y', 'del', 'que', 'sueña', 'la', 'lira', '\\n', 'pitagórica', 'en', 'su', 'mano', '.', '\\n', '¡', 'ay', 'del', 'noble', 'peregrino', '\\n', 'que', 'se', 'para', 'a', 'meditar', ',', '\\n', 'después', 'de', 'largo', 'camino', '\\n', 'en', 'el', 'horror', 'de', 'llegar', '!', '\\n', '¡', 'ay', 'de', 'la', 'melancolía', '\\n', 'que', 'llorando', 'se', 'consuela', ',', '\\n', 'y', 'de', 'la', 'melomanía', '\\n', 'de', 'un', 'corazón', 'de', 'zarzuela', '!', '\\n', '¡', 'ay', 'de', 'nuestro', 'ruiseñor', ',', '\\n', 'si', 'en', 'una', 'noche', 'serena', '\\n', 'se', 'cura', 'del', 'mal', 'de', 'amor', '\\n', 'que', 'llora', 'y', 'canta', 'sin', 'pena', '!', '\\n', '¡', 'de', 'los', 'jardines', 'secretos', ',', '\\n', 'de', 'los', 'pensiles', 'soñados', ',', '\\n', 'y', 'de', 'los', 'sueños', 'poblados', '\\n', 'de', 'propósitos', 'discretos', '!', '\\n', '¡', 'ay', 'del', 'galán', 'sin', 'fortuna', '\\n', 'que', 'ronda', 'a', 'la', 'luna', 'bella', ';', '\\n', 'de', 'cuantos', 'caen', 'de', 'la', 'luna', ',', '\\n', 'de', 'cuantos', 'se', 'marchan', 'a', 'ella', '!', '\\n', '¡', 'de', 'quien', 'el', 'fruto', 'prendido', '\\n', 'en', 'la', 'rama', 'no', 'alcanzó', ',', '\\n', 'de', 'quien', 'el', 'fruto', 'ha', 'mordido', '\\n', 'y', 'el', 'gusto', 'amargo', 'probó', '!', '\\n', '¡', 'y', 'de', 'nuestro', 'amor', 'primero', '\\n', 'y', 'de', 'su', 'fe', 'mal', 'pagada', ',', '\\n', 'y', ',', 'también', ',', 'del', 'verdadero', '\\n', 'amante', 'de', 'nuestra', 'amada', '!', '\\n', '<end>']\n",
      "[684, 2727, 1, 15, 229, 13, 9, 266, 2285, 1, 12, 267, 7, 40, 1628, 2, 1, 5, 122, 27, 6, 294, 9, 1458, 1, 25, 54, 6, 2286, 7, 1217, 14, 1, 15, 229, 4, 103, 2728, 5, 2, 2729, 1, 6, 294, 2, 1218, 6, 91, 27, 1, 590, 20, 745, 2730, 2, 1, 9, 959, 20, 1113, 2731, 14, 1, 13, 2732, 9, 1629, 1, 65, 7, 2287, 2733, 2, 1, 5, 13, 9, 141, 6, 470, 1, 2734, 8, 18, 69, 3, 1, 15, 229, 13, 508, 685, 1, 9, 19, 55, 12, 509, 2, 1, 471, 4, 268, 82, 1, 8, 7, 960, 4, 1630, 14, 1, 15, 229, 4, 6, 348, 1, 9, 2735, 19, 2736, 2, 1, 5, 4, 6, 2737, 1, 4, 10, 38, 4, 2738, 14, 1, 15, 229, 4, 472, 591, 2, 1, 64, 8, 22, 77, 324, 1, 19, 2739, 13, 349, 4, 52, 1, 9, 1459, 5, 212, 58, 282, 14, 1, 15, 4, 11, 403, 1631, 2, 1, 4, 11, 2740, 2741, 2, 1, 5, 4, 11, 142, 2742, 1, 4, 2743, 2744, 14, 1, 15, 229, 13, 1219, 58, 448, 1, 9, 2745, 12, 6, 68, 592, 16, 1, 4, 1632, 2746, 4, 6, 68, 2, 1, 4, 1632, 19, 2747, 12, 230, 14, 1, 15, 4, 103, 7, 295, 2748, 1, 8, 6, 422, 25, 2749, 2, 1, 4, 103, 7, 295, 42, 2750, 1, 5, 7, 2751, 746, 2752, 14, 1, 15, 5, 4, 472, 52, 686, 1, 5, 4, 18, 231, 349, 2753, 2, 1, 5, 2, 423, 2, 13, 510, 1, 449, 4, 473, 239, 14, 1, 24]\n",
      "---\n",
      "llega -> 266\n"
     ]
    }
   ],
   "source": [
    "tokenized = []\n",
    "for poem in poems:\n",
    "    tokenized.append([word_idx[word] for word in poem])\n",
    "\n",
    "print(poems[0])\n",
    "print(tokenized[0])\n",
    "print(\"---\")\n",
    "print(poems[0][7], \"->\", word_idx[poems[0][7]])"
   ]
  },
  {
   "cell_type": "code",
   "execution_count": 7,
   "metadata": {},
   "outputs": [
    {
     "name": "stdout",
     "output_type": "stream",
     "text": [
      "4758\n",
      "13\n"
     ]
    }
   ],
   "source": [
    "lengths = [len(sequence) for sequence in tokenized]\n",
    "print(max(lengths))\n",
    "print(min(lengths))"
   ]
  },
  {
   "cell_type": "code",
   "execution_count": 8,
   "metadata": {},
   "outputs": [
    {
     "name": "stdout",
     "output_type": "stream",
     "text": [
      "(445, 400) (445, 399) (445, 399)\n"
     ]
    }
   ],
   "source": [
    "max_seq_length = 400 #4758\n",
    "\n",
    "padded = []\n",
    "for sequence in tokenized:\n",
    "    trimmed = sequence[-max_seq_length:]\n",
    "    padding = [0] * (max_seq_length - len(trimmed))\n",
    "    padded.append(padding + trimmed)\n",
    "    \n",
    "padded = np.array(padded)\n",
    "print(padded.shape, padded[:,:-1].shape, padded[:,1:].shape)"
   ]
  },
  {
   "cell_type": "code",
   "execution_count": 9,
   "metadata": {},
   "outputs": [],
   "source": [
    "# create data loader\n",
    "batch_size = 128\n",
    "\n",
    "dataset = TensorDataset(torch.from_numpy(padded[:,:-1]), torch.from_numpy(padded[:,1:]))\n",
    "dataloader = DataLoader(dataset, batch_size=batch_size, shuffle=True)"
   ]
  },
  {
   "cell_type": "code",
   "execution_count": 10,
   "metadata": {},
   "outputs": [
    {
     "name": "stdout",
     "output_type": "stream",
     "text": [
      "torch.Size([128, 399]) torch.Size([128, 399])\n",
      "tensor([ 451,   12, 5308,   20, 5309,    4,    6, 5310,    3,    1])\n",
      "tensor([  12, 5308,   20, 5309,    4,    6, 5310,    3,    1,   24])\n"
     ]
    }
   ],
   "source": [
    "x, y = next(iter(dataloader))\n",
    "\n",
    "print(x.shape, y.shape)\n",
    "\n",
    "print(x[0, -10:])\n",
    "print(y[0, -10:])"
   ]
  },
  {
   "cell_type": "code",
   "execution_count": 11,
   "metadata": {},
   "outputs": [
    {
     "data": {
      "text/plain": [
       "SimpleRNNModel(\n",
       "  (embedding_layer): Embedding(6299, 200, padding_idx=0)\n",
       "  (rnn): GRU(200, 512, num_layers=2, batch_first=True, dropout=0.5)\n",
       "  (dropout): Dropout(p=0.5)\n",
       "  (fc): Linear(in_features=512, out_features=6299, bias=True)\n",
       ")"
      ]
     },
     "execution_count": 11,
     "metadata": {},
     "output_type": "execute_result"
    }
   ],
   "source": [
    "model = SimpleRNNModel(len(word_idx) + 1)\n",
    "model"
   ]
  },
  {
   "cell_type": "code",
   "execution_count": 12,
   "metadata": {},
   "outputs": [
    {
     "name": "stdout",
     "output_type": "stream",
     "text": [
      "torch.Size([51072, 6299])\n",
      "tensor(1.0000, grad_fn=<SumBackward0>)\n"
     ]
    }
   ],
   "source": [
    "out = model(x)\n",
    "print(out.shape)\n",
    "print(torch.exp(out[0]).sum())"
   ]
  },
  {
   "cell_type": "code",
   "execution_count": 17,
   "metadata": {
    "scrolled": true
   },
   "outputs": [
    {
     "name": "stdout",
     "output_type": "stream",
     "text": [
      "EPOCH 1 - loss 0.4178 - acc 0.8740 ---------------------- \n",
      "EPOCH 2 - loss 0.1226 - acc 0.9747 ---------------------- \n",
      "EPOCH 3 - loss 0.1167 - acc 0.9764 ---------------------- \n",
      "EPOCH 4 - loss 0.1088 - acc 0.9780 ---------------------- \n",
      "EPOCH 5 - loss 0.1047 - acc 0.9787 ---------------------- \n",
      "EPOCH 6 - loss 0.0992 - acc 0.9801 ---------------------- \n",
      "EPOCH 7 - loss 0.0954 - acc 0.9806 ---------------------- \n",
      "EPOCH 8 - loss 0.0929 - acc 0.9816 ---------------------- \n",
      "EPOCH 9 - loss 0.0910 - acc 0.9817 ---------------------- \n",
      "EPOCH 10 - loss 0.0897 - acc 0.9821 ---------------------- \n",
      "EPOCH 11 - loss 0.0867 - acc 0.9826 ---------------------- \n",
      "EPOCH 12 - loss 0.0848 - acc 0.9833 ---------------------- \n",
      "EPOCH 13 - loss 0.0848 - acc 0.9832 ---------------------- \n",
      "EPOCH 14 - loss 0.0824 - acc 0.9836 ---------------------- \n",
      "EPOCH 15 - loss 0.0820 - acc 0.9836 ---------------------- \n",
      "EPOCH 16 - loss 0.0811 - acc 0.9842 ---------------------- \n",
      "EPOCH 17 - loss 0.0796 - acc 0.9846 ---------------------- \n",
      "EPOCH 18 - loss 0.0808 - acc 0.9837 ---------------------- \n",
      "EPOCH 19 - loss 0.0803 - acc 0.9840 ---------------------- \n",
      "EPOCH 20 - loss 0.0770 - acc 0.9847 ---------------------- \n",
      "EPOCH 21 - loss 0.0776 - acc 0.9847 ---------------------- \n",
      "EPOCH 22 - loss 0.0751 - acc 0.9850 ---------------------- \n",
      "EPOCH 23 - loss 0.0760 - acc 0.9848 ---------------------- \n",
      "EPOCH 24 - loss 0.0741 - acc 0.9854 ---------------------- \n",
      "EPOCH 25 - loss 0.0762 - acc 0.9849 ---------------------- \n",
      "EPOCH 26 - loss 0.0743 - acc 0.9853 ---------------------- \n",
      "EPOCH 27 - loss 0.0742 - acc 0.9853 ---------------------- \n",
      "EPOCH 28 - loss 0.0730 - acc 0.9854 ---------------------- \n",
      "EPOCH 29 - loss 0.0732 - acc 0.9855 ---------------------- \n",
      "EPOCH 30 - loss 0.0734 - acc 0.9853 ---------------------- \n",
      "EPOCH 31 - loss 0.0730 - acc 0.9856 ---------------------- \n",
      "EPOCH 32 - loss 0.0723 - acc 0.9857 ---------------------- \n",
      "EPOCH 33 - loss 0.0706 - acc 0.9861 ---------------------- \n",
      "EPOCH 34 - loss 0.0707 - acc 0.9859 ---------------------- \n",
      "EPOCH 35 - loss 0.0712 - acc 0.9860 ---------------------- \n",
      "EPOCH 36 - loss 0.0693 - acc 0.9860 ---------------------- \n",
      "EPOCH 37 - loss 0.0696 - acc 0.9865 ---------------------- \n",
      "EPOCH 38 - loss 0.0693 - acc 0.9864 ---------------------- \n",
      "EPOCH 39 - loss 0.0693 - acc 0.9863 ---------------------- \n",
      "EPOCH 40 - loss 0.0693 - acc 0.9863 ---------------------- \n",
      "EPOCH 41 - loss 0.0678 - acc 0.9866 ---------------------- \n",
      "EPOCH 42 - loss 0.0679 - acc 0.9865 ---------------------- \n",
      "EPOCH 43 - loss 0.0662 - acc 0.9872 ---------------------- \n",
      "EPOCH 44 - loss 0.0668 - acc 0.9867 ---------------------- \n",
      "EPOCH 45 - loss 0.0671 - acc 0.9867 ---------------------- \n",
      "EPOCH 46 - loss 0.0667 - acc 0.9868 ---------------------- \n",
      "EPOCH 47 - loss 0.0651 - acc 0.9871 ---------------------- \n",
      "EPOCH 48 - loss 0.0659 - acc 0.9870 ---------------------- \n",
      "EPOCH 49 - loss 0.0657 - acc 0.9871 ---------------------- \n",
      "EPOCH 50 - loss 0.0657 - acc 0.9871 ---------------------- \n",
      "EPOCH 51 - loss 0.0642 - acc 0.9877 ---------------------- \n",
      "EPOCH 52 - loss 0.0653 - acc 0.9870 ---------------------- \n",
      "EPOCH 53 - loss 0.0650 - acc 0.9874 ---------------------- \n",
      "EPOCH 54 - loss 0.0650 - acc 0.9876 ---------------------- \n",
      "EPOCH 55 - loss 0.0644 - acc 0.9874 ---------------------- \n",
      "EPOCH 56 - loss 0.0645 - acc 0.9874 ---------------------- \n",
      "EPOCH 57 - loss 0.0652 - acc 0.9873 ---------------------- \n",
      "EPOCH 58 - loss 0.0629 - acc 0.9878 ---------------------- \n",
      "EPOCH 59 - loss 0.0631 - acc 0.9877 ---------------------- \n",
      "EPOCH 60 - loss 0.0616 - acc 0.9881 ---------------------- \n",
      "EPOCH 61 - loss 0.0627 - acc 0.9877 ---------------------- \n",
      "EPOCH 62 - loss 0.0604 - acc 0.9882 ---------------------- \n",
      "EPOCH 63 - loss 0.0608 - acc 0.9882 ---------------------- \n",
      "EPOCH 64 - loss 0.0625 - acc 0.9879 ---------------------- \n",
      "EPOCH 65 - loss 0.0600 - acc 0.9889 ---------------------- \n",
      "EPOCH 66 - loss 0.0600 - acc 0.9887 ---------------------- \n",
      "EPOCH 67 - loss 0.0602 - acc 0.9882 ---------------------- \n",
      "EPOCH 68 - loss 0.0594 - acc 0.9887 ---------------------- \n",
      "EPOCH 69 - loss 0.0591 - acc 0.9887 ---------------------- \n",
      "EPOCH 70 - loss 0.0595 - acc 0.9884 ---------------------- \n",
      "EPOCH 71 - loss 0.0584 - acc 0.9890 ---------------------- \n",
      "EPOCH 72 - loss 0.0590 - acc 0.9887 ---------------------- \n",
      "EPOCH 73 - loss 0.0587 - acc 0.9890 ---------------------- \n",
      "EPOCH 74 - loss 0.0586 - acc 0.9887 ---------------------- \n",
      "EPOCH 75 - loss 0.0593 - acc 0.9889 ---------------------- \n",
      "EPOCH 76 - loss 0.0593 - acc 0.9887 ---------------------- \n",
      "EPOCH 77 - loss 0.0584 - acc 0.9893 ---------------------- \n",
      "EPOCH 78 - loss 0.0573 - acc 0.9892 ---------------------- \n",
      "EPOCH 79 - loss 0.0572 - acc 0.9889 ---------------------- \n",
      "EPOCH 80 - loss 0.0558 - acc 0.9897 ---------------------- \n",
      "EPOCH 81 - loss 0.0566 - acc 0.9894 ---------------------- \n",
      "EPOCH 82 - loss 0.0557 - acc 0.9895 ---------------------- \n",
      "EPOCH 83 - loss 0.0566 - acc 0.9895 ---------------------- \n",
      "EPOCH 84 - loss 0.0544 - acc 0.9897 ---------------------- \n",
      "EPOCH 85 - loss 0.0557 - acc 0.9895 ---------------------- \n",
      "EPOCH 86 - loss 0.0558 - acc 0.9893 ---------------------- \n",
      "EPOCH 87 - loss 0.0552 - acc 0.9897 ---------------------- \n",
      "EPOCH 88 - loss 0.0540 - acc 0.9899 ---------------------- \n",
      "EPOCH 89 - loss 0.0550 - acc 0.9896 ---------------------- \n",
      "EPOCH 90 - loss 0.0542 - acc 0.9898 ---------------------- \n",
      "EPOCH 91 - loss 0.0543 - acc 0.9899 ---------------------- \n",
      "EPOCH 92 - loss 0.0535 - acc 0.9899 ---------------------- \n",
      "EPOCH 93 - loss 0.0547 - acc 0.9900 ---------------------- \n",
      "EPOCH 94 - loss 0.0552 - acc 0.9899 ---------------------- \n",
      "EPOCH 95 - loss 0.0546 - acc 0.9905 ---------------------- \n",
      "EPOCH 96 - loss 0.0546 - acc 0.9901 ---------------------- \n",
      "EPOCH 97 - loss 0.0544 - acc 0.9901 ---------------------- \n",
      "EPOCH 98 - loss 0.0539 - acc 0.9900 ---------------------- \n",
      "EPOCH 99 - loss 0.0533 - acc 0.9900 ---------------------- \n",
      "EPOCH 100 - loss 0.0523 - acc 0.9901 ---------------------- \n",
      "EPOCH 101 - loss 0.0523 - acc 0.9903 ---------------------- \n",
      "EPOCH 102 - loss 0.0528 - acc 0.9902 ---------------------- \n",
      "EPOCH 103 - loss 0.0520 - acc 0.9901 ---------------------- \n",
      "EPOCH 104 - loss 0.0523 - acc 0.9906 ---------------------- \n",
      "EPOCH 105 - loss 0.0538 - acc 0.9902 ---------------------- \n",
      "EPOCH 106 - loss 0.0519 - acc 0.9905 ---------------------- \n",
      "EPOCH 107 - loss 0.0514 - acc 0.9906 ---------------------- \n",
      "EPOCH 108 - loss 0.0519 - acc 0.9905 ---------------------- \n",
      "EPOCH 109 - loss 0.0524 - acc 0.9901 ---------------------- \n",
      "EPOCH 110 - loss 0.0505 - acc 0.9906 ---------------------- \n",
      "EPOCH 111 - loss 0.0512 - acc 0.9906 ---------------------- \n",
      "EPOCH 112 - loss 0.0509 - acc 0.9902 ---------------------- \n",
      "EPOCH 113 - loss 0.0510 - acc 0.9907 ---------------------- \n",
      "EPOCH 114 - loss 0.0509 - acc 0.9907 ---------------------- \n",
      "EPOCH 115 - loss 0.0499 - acc 0.9909 ---------------------- \n",
      "EPOCH 116 - loss 0.0500 - acc 0.9906 ---------------------- \n",
      "EPOCH 117 - loss 0.0496 - acc 0.9907 ---------------------- \n",
      "EPOCH 118 - loss 0.0492 - acc 0.9910 ---------------------- \n",
      "EPOCH 119 - loss 0.0497 - acc 0.9907 ---------------------- \n",
      "EPOCH 120 - loss 0.0494 - acc 0.9909 ---------------------- \n",
      "EPOCH 121 - loss 0.0530 - acc 0.9908 ---------------------- \n",
      "EPOCH 122 - loss 0.0506 - acc 0.9909 ---------------------- \n",
      "EPOCH 123 - loss 0.0515 - acc 0.9906 ---------------------- \n",
      "EPOCH 124 - loss 0.0495 - acc 0.9910 ---------------------- \n",
      "EPOCH 125 - loss 0.0497 - acc 0.9908 ---------------------- \n",
      "EPOCH 126 - loss 0.0489 - acc 0.9910 ---------------------- \n",
      "EPOCH 127 - loss 0.0481 - acc 0.9912 ---------------------- \n",
      "EPOCH 128 - loss 0.0483 - acc 0.9912 ---------------------- \n",
      "EPOCH 129 - loss 0.0474 - acc 0.9915 ---------------------- \n",
      "EPOCH 130 - loss 0.0478 - acc 0.9912 ---------------------- \n",
      "EPOCH 131 - loss 0.0481 - acc 0.9911 ---------------------- \n",
      "EPOCH 132 - loss 0.0487 - acc 0.9911 ---------------------- \n",
      "EPOCH 133 - loss 0.0472 - acc 0.9914 ---------------------- \n",
      "EPOCH 134 - loss 0.0477 - acc 0.9914 ---------------------- \n",
      "EPOCH 135 - loss 0.0482 - acc 0.9912 ---------------------- \n",
      "EPOCH 136 - loss 0.0481 - acc 0.9912 ---------------------- \n",
      "EPOCH 137 - loss 0.0477 - acc 0.9916 ---------------------- \n",
      "EPOCH 138 - loss 0.0472 - acc 0.9914 ---------------------- \n",
      "EPOCH 139 - loss 0.0470 - acc 0.9913 ---------------------- \n",
      "EPOCH 140 - loss 0.0473 - acc 0.9915 ---------------------- \n",
      "EPOCH 141 - loss 0.0473 - acc 0.9914 ---------------------- \n",
      "EPOCH 142 - loss 0.0471 - acc 0.9915 ---------------------- \n",
      "EPOCH 143 - loss 0.0472 - acc 0.9915 ---------------------- \n",
      "EPOCH 144 - loss 0.0470 - acc 0.9914 ---------------------- \n",
      "EPOCH 145 - loss 0.0476 - acc 0.9913 ---------------------- \n",
      "EPOCH 146 - loss 0.0466 - acc 0.9915 ---------------------- \n",
      "EPOCH 147 - loss 0.0470 - acc 0.9913 ---------------------- \n",
      "EPOCH 148 - loss 0.0469 - acc 0.9916 ---------------------- \n",
      "EPOCH 149 - loss 0.0461 - acc 0.9916 ---------------------- \n",
      "EPOCH 150 - loss 0.0466 - acc 0.9916 ---------------------- \n",
      "EPOCH 151 - loss 0.0458 - acc 0.9920 ---------------------- \n",
      "EPOCH 152 - loss 0.0457 - acc 0.9917 ---------------------- \n",
      "EPOCH 153 - loss 0.0467 - acc 0.9916 ---------------------- \n",
      "EPOCH 154 - loss 0.0487 - acc 0.9910 ---------------------- \n",
      "EPOCH 155 - loss 0.0488 - acc 0.9916 ---------------------- \n",
      "EPOCH 156 - loss 0.0464 - acc 0.9919 ---------------------- \n",
      "EPOCH 157 - loss 0.0470 - acc 0.9917 ---------------------- \n",
      "EPOCH 158 - loss 0.0467 - acc 0.9920 ---------------------- \n",
      "EPOCH 159 - loss 0.0454 - acc 0.9922 ---------------------- \n",
      "EPOCH 160 - loss 0.0457 - acc 0.9919 ---------------------- \n",
      "EPOCH 161 - loss 0.0447 - acc 0.9920 ---------------------- \n",
      "EPOCH 162 - loss 0.0447 - acc 0.9921 ---------------------- \n",
      "EPOCH 163 - loss 0.0455 - acc 0.9918 ---------------------- \n",
      "EPOCH 164 - loss 0.0446 - acc 0.9920 ---------------------- \n",
      "EPOCH 165 - loss 0.0441 - acc 0.9920 ---------------------- \n",
      "EPOCH 166 - loss 0.0436 - acc 0.9921 ---------------------- \n",
      "EPOCH 167 - loss 0.0445 - acc 0.9921 ---------------------- \n",
      "EPOCH 168 - loss 0.0443 - acc 0.9923 ---------------------- \n",
      "EPOCH 169 - loss 0.0461 - acc 0.9916 ---------------------- \n",
      "EPOCH 170 - loss 0.0449 - acc 0.9919 ---------------------- \n",
      "EPOCH 171 - loss 0.0440 - acc 0.9921 ---------------------- \n",
      "EPOCH 172 - loss 0.0436 - acc 0.9923 ---------------------- \n",
      "EPOCH 173 - loss 0.0430 - acc 0.9925 ---------------------- \n",
      "EPOCH 174 - loss 0.0440 - acc 0.9921 ---------------------- \n",
      "EPOCH 175 - loss 0.0436 - acc 0.9924 ---------------------- \n",
      "EPOCH 176 - loss 0.0441 - acc 0.9921 ---------------------- \n",
      "EPOCH 177 - loss 0.0427 - acc 0.9925 ---------------------- \n",
      "EPOCH 178 - loss 0.0444 - acc 0.9920 ---------------------- \n",
      "EPOCH 179 - loss 0.0437 - acc 0.9921 ---------------------- \n",
      "EPOCH 180 - loss 0.0434 - acc 0.9923 ---------------------- \n",
      "EPOCH 181 - loss 0.0433 - acc 0.9923 ---------------------- \n",
      "EPOCH 182 - loss 0.0428 - acc 0.9923 ---------------------- \n",
      "EPOCH 183 - loss 0.0430 - acc 0.9922 ---------------------- \n",
      "EPOCH 184 - loss 0.0438 - acc 0.9923 ---------------------- \n",
      "EPOCH 185 - loss 0.0441 - acc 0.9922 ---------------------- \n",
      "EPOCH 186 - loss 0.0441 - acc 0.9922 ---------------------- \n",
      "EPOCH 187 - loss 0.0435 - acc 0.9921 ---------------------- \n",
      "Epoch   187: reducing learning rate of group 0 to 1.0000e-04.\n",
      "EPOCH 188 - loss 0.0431 - acc 0.9924 ---------------------- \n",
      "EPOCH 189 - loss 0.0429 - acc 0.9925 ---------------------- \n",
      "EPOCH 190 - loss 0.0427 - acc 0.9926 ---------------------- \n",
      "EPOCH 191 - loss 0.0419 - acc 0.9926 ---------------------- \n",
      "EPOCH 192 - loss 0.0414 - acc 0.9927 ---------------------- \n",
      "EPOCH 193 - loss 0.0413 - acc 0.9928 ---------------------- \n",
      "EPOCH 194 - loss 0.0401 - acc 0.9931 ---------------------- \n",
      "EPOCH 195 - loss 0.0401 - acc 0.9932 ---------------------- \n",
      "EPOCH 196 - loss 0.0408 - acc 0.9930 ---------------------- \n",
      "EPOCH 197 - loss 0.0398 - acc 0.9932 ---------------------- \n",
      "EPOCH 198 - loss 0.0400 - acc 0.9932 ---------------------- \n",
      "EPOCH 199 - loss 0.0400 - acc 0.9932 ---------------------- \n",
      "EPOCH 200 - loss 0.0396 - acc 0.9935 ---------------------- \n"
     ]
    }
   ],
   "source": [
    "epochs = 200\n",
    "\n",
    "optimizer = optim.Adam(model.parameters(), lr=0.001)\n",
    "criterion = nn.NLLLoss() #ignore_index=0\n",
    "scheduler = optim.lr_scheduler.ReduceLROnPlateau(optimizer, factor=0.1, patience=10, verbose=True)\n",
    "\n",
    "model.train()\n",
    "model.cuda()\n",
    "for e in range(1, epochs+1):\n",
    "    total_loss = 0\n",
    "    total_accuracy = 0\n",
    "    batch = 0\n",
    "    for x, y in dataloader:\n",
    "        batch += 1\n",
    "        x, y = x.cuda(), y.cuda()\n",
    "        \n",
    "        optimizer.zero_grad()\n",
    "        model.hidden = None\n",
    "        \n",
    "        pred = model(x)\n",
    "        loss = criterion(pred, y.view(-1))\n",
    "        \n",
    "        loss.backward()\n",
    "        nn.utils.clip_grad_norm_(model.parameters(), 4)\n",
    "        optimizer.step()\n",
    "        \n",
    "        total_loss += loss.item()\n",
    "        \n",
    "        equals = torch.argmax(pred, dim=1).view(-1) == y.view(-1)\n",
    "        total_accuracy += torch.mean(equals.type(torch.FloatTensor))\n",
    "            \n",
    "        print(f\"EPOCH {e} ({batch}/{len(dataloader)}) - loss {total_loss/batch:.4f} - acc {total_accuracy/batch:.4f}\", end='\\r') \n",
    "        \n",
    "    scheduler.step(total_loss)\n",
    "    print(f\"EPOCH {e} - loss {total_loss/len(dataloader):.4f} - acc {total_accuracy/len(dataloader):.4f} ---------------------- \")\n",
    "    "
   ]
  },
  {
   "cell_type": "code",
   "execution_count": 18,
   "metadata": {},
   "outputs": [],
   "source": [
    "model.cpu()\n",
    "torch.save(model.state_dict(), 'model.pt')"
   ]
  },
  {
   "cell_type": "code",
   "execution_count": 16,
   "metadata": {},
   "outputs": [],
   "source": [
    "checkpoint = torch.load('model.pt')\n",
    "model.load_state_dict(checkpoint)"
   ]
  },
  {
   "cell_type": "code",
   "execution_count": 19,
   "metadata": {},
   "outputs": [
    {
     "name": "stdout",
     "output_type": "stream",
     "text": [
      "el amor enfático . \n",
      " en el solitario parque , la sonora \n",
      " copia borbollante del agua cantora \n",
      " me guió a la fuente . la fuente vertía \n",
      " sobre el blanco mármol su monotonía . \n",
      " la fuente cantaba : ¿ te recuerda , hermano , \n",
      " un sueño lejano mi canto presente ? \n",
      " fue una tarde lenta del lento verano . \n",
      " respondí a la fuente : \n",
      " no recuerdo , hermana , \n",
      " mas sé que tu copla presente es lejana . \n",
      " fue esta misma tarde : mi cristal vertía \n",
      " como hoy sobre el mármol su monotonía . \n",
      " ¿ recuerdas , hermano ? . . . los mirtos talares , \n",
      " que ves , sombreaban los claros cantares \n",
      " que escuchas . del rubio color de la llama , \n",
      " el fruto maduro pendía en la rama , \n",
      " lo mismo que ahora . ¿ recuerdas , hermano ? . . . \n",
      " fue esta misma lenta tarde de verano . \n",
      " — no sé qué me dice tu copla riente \n",
      " de ensueños lejanos , hermana la fuente . \n",
      " yo sé que tu claro cristal de alegría \n",
      " ya supo del árbol la fruta bermeja ; \n",
      " yo sé que es lejana la amargura mía \n",
      " que sueña en la tarde de verano vieja . \n",
      " yo sé que tus bellos espejos cantores \n",
      " copiaron antiguos delirios de amores : \n",
      " mas cuéntame , fuente de lengua encantada , \n",
      " cuéntame mi alegre leyenda olvidada . \n",
      " — yo no sé leyendas de antigua alegría , \n",
      " sino historias viejas de melancolía . \n",
      " fue una clara tarde del lento verano . . . \n",
      " tú venías solo con tu pena , hermano ; \n",
      " tus labios besaron mi linfa serena , \n",
      "\n"
     ]
    }
   ],
   "source": [
    "# sample generation\n",
    "seed = 'el amor'\n",
    "predictions = []\n",
    "\n",
    "model.cpu()\n",
    "model.eval()\n",
    "with torch.no_grad():\n",
    "    model.hidden = None\n",
    "    last_token = None\n",
    "    \n",
    "    # initialize hidden state using seed\n",
    "    for word in seed.split(' '):\n",
    "        token = np.array([word_idx[word]])\n",
    "        token = torch.from_numpy(token).view(1, 1)\n",
    "        last_state = model(token)\n",
    "        \n",
    "    for i in range(300):\n",
    "        last_prediction = torch.argmax(last_state, dim=1).view(1, 1)\n",
    "        last_state = model(last_prediction)\n",
    "        idx = torch.argmax(last_state, dim=1).numpy()[0]\n",
    "        word = idx_word[idx]\n",
    "        if word == '<end>':\n",
    "            break\n",
    "        predictions.append(word)\n",
    "        \n",
    "print(seed + ' ' +  ' '.join(predictions))"
   ]
  },
  {
   "cell_type": "code",
   "execution_count": null,
   "metadata": {},
   "outputs": [],
   "source": []
  }
 ],
 "metadata": {
  "kernelspec": {
   "display_name": "Python 3",
   "language": "python",
   "name": "python3"
  },
  "language_info": {
   "codemirror_mode": {
    "name": "ipython",
    "version": 3
   },
   "file_extension": ".py",
   "mimetype": "text/x-python",
   "name": "python",
   "nbconvert_exporter": "python",
   "pygments_lexer": "ipython3",
   "version": "3.6.5"
  }
 },
 "nbformat": 4,
 "nbformat_minor": 2
}
