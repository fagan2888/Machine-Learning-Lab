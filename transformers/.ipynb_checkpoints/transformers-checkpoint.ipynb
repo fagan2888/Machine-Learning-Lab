{
 "cells": [
  {
   "cell_type": "code",
   "execution_count": 2,
   "metadata": {},
   "outputs": [],
   "source": [
    "import numpy as np\n",
    "import torch\n",
    "from torch import nn\n",
    "from torch import optim\n",
    "import torch.nn.functional as F\n",
    "import math\n",
    "import matplotlib.pyplot as plt\n",
    "import transformer\n",
    "import glob\n",
    "import pickle\n",
    "from torch.utils.data import TensorDataset, DataLoader"
   ]
  },
  {
   "cell_type": "code",
   "execution_count": 3,
   "metadata": {},
   "outputs": [
    {
     "name": "stdout",
     "output_type": "stream",
     "text": [
      "['proverbios', 'y', 'cantares', '-', 'ix', '\\n', 'el', 'hombre', ',', 'a', 'quien', 'el', 'hambre', 'de', 'la', 'rapiña', 'acucia', ',', '\\n', 'de', 'ingénita', 'malicia', 'y', 'natural', 'astucia', ',', '\\n', 'formó', 'la', 'inteligencia', 'y', 'acaparó', 'la', 'tierra', '.', '\\n', '¡', 'y', 'aún', 'la', 'verdad', 'proclama', '!', '¡', 'supremo', 'ardid', 'de', 'guerra', '!', '\\n', '<end>']\n"
     ]
    }
   ],
   "source": [
    "# load the dataset\n",
    "poems = []\n",
    "\n",
    "for path in glob.iglob(\"poemas_machado/*.txt\"):\n",
    "    with open(path, 'r') as f:\n",
    "        x = f.read()\n",
    "        poems.append(x.lower().split(' '))\n",
    "        \n",
    "print(poems[0])"
   ]
  },
  {
   "cell_type": "code",
   "execution_count": 4,
   "metadata": {},
   "outputs": [
    {
     "name": "stdout",
     "output_type": "stream",
     "text": [
      "6299\n"
     ]
    }
   ],
   "source": [
    "with open('word_idx.pkl', 'rb') as file:\n",
    "    word_idx = pickle.load(file)\n",
    "    \n",
    "with open('idx_word.pkl', 'rb') as file:\n",
    "    idx_word = pickle.load(file)\n",
    "\n",
    "vocabulary_size = len(word_idx) + 1\n",
    "print(vocabulary_size)"
   ]
  },
  {
   "cell_type": "code",
   "execution_count": 5,
   "metadata": {},
   "outputs": [
    {
     "name": "stdout",
     "output_type": "stream",
     "text": [
      "['proverbios', 'y', 'cantares', '-', 'ix', '\\n', 'el', 'hombre', ',', 'a', 'quien', 'el', 'hambre', 'de', 'la', 'rapiña', 'acucia', ',', '\\n', 'de', 'ingénita', 'malicia', 'y', 'natural', 'astucia', ',', '\\n', 'formó', 'la', 'inteligencia', 'y', 'acaparó', 'la', 'tierra', '.', '\\n', '¡', 'y', 'aún', 'la', 'verdad', 'proclama', '!', '¡', 'supremo', 'ardid', 'de', 'guerra', '!', '\\n', '<end>']\n",
      "[50, 5, 49, 73, 1321, 1, 7, 134, 2, 12, 103, 7, 2389, 4, 6, 5334, 5335, 2, 1, 4, 5336, 5337, 5, 2293, 5338, 2, 1, 5339, 6, 5340, 5, 5341, 6, 34, 3, 1, 15, 5, 306, 6, 86, 5342, 14, 15, 5343, 5344, 4, 275, 14, 1, 24]\n",
      "---\n",
      "hombre -> 134\n"
     ]
    }
   ],
   "source": [
    "tokenized = []\n",
    "for poem in poems:\n",
    "    tokenized.append([word_idx[word] for word in poem])\n",
    "\n",
    "print(poems[0])\n",
    "print(tokenized[0])\n",
    "print(\"---\")\n",
    "print(poems[0][7], \"->\", word_idx[poems[0][7]])"
   ]
  },
  {
   "cell_type": "code",
   "execution_count": 6,
   "metadata": {},
   "outputs": [
    {
     "name": "stdout",
     "output_type": "stream",
     "text": [
      "4758\n",
      "13\n"
     ]
    }
   ],
   "source": [
    "lengths = [len(sequence) for sequence in tokenized]\n",
    "print(max(lengths))\n",
    "print(min(lengths))"
   ]
  },
  {
   "cell_type": "code",
   "execution_count": 7,
   "metadata": {},
   "outputs": [
    {
     "name": "stdout",
     "output_type": "stream",
     "text": [
      "(445, 400) (445, 399) (445, 399)\n"
     ]
    }
   ],
   "source": [
    "max_seq_length = 400 #4758\n",
    "\n",
    "padded = []\n",
    "for sequence in tokenized:\n",
    "    trimmed = sequence[-max_seq_length:]\n",
    "    padding = [0] * (max_seq_length - len(trimmed))\n",
    "    padded.append(padding + trimmed)\n",
    "    \n",
    "padded = np.array(padded)\n",
    "print(padded.shape, padded[:,:-1].shape, padded[:,1:].shape)"
   ]
  },
  {
   "cell_type": "code",
   "execution_count": 8,
   "metadata": {},
   "outputs": [],
   "source": [
    "# create data loader\n",
    "batch_size = 16\n",
    "\n",
    "dataset = TensorDataset(torch.from_numpy(padded[:,:-1]), torch.from_numpy(padded[:,1:]))\n",
    "dataloader = DataLoader(dataset, batch_size=batch_size, shuffle=True)"
   ]
  },
  {
   "cell_type": "code",
   "execution_count": 9,
   "metadata": {},
   "outputs": [
    {
     "name": "stdout",
     "output_type": "stream",
     "text": [
      "torch.Size([16, 399]) torch.Size([16, 399])\n",
      "tensor([ 353,    9,   74,    2,    1,  198,    2, 2016,    3,    1])\n",
      "tensor([   9,   74,    2,    1,  198,    2, 2016,    3,    1,   24])\n"
     ]
    }
   ],
   "source": [
    "x, y = next(iter(dataloader))\n",
    "\n",
    "print(x.shape, y.shape)\n",
    "\n",
    "print(x[0, -10:])\n",
    "print(y[0, -10:])"
   ]
  },
  {
   "cell_type": "code",
   "execution_count": 32,
   "metadata": {},
   "outputs": [],
   "source": [
    "model = transformer.Transformer(vocabulary_size, 64, max_seq_length-1, blocks=1, heads=1)\n",
    "for p in model.parameters():\n",
    "    if p.dim() > 1:\n",
    "        nn.init.xavier_uniform_(p)\n",
    "# model"
   ]
  },
  {
   "cell_type": "code",
   "execution_count": 33,
   "metadata": {
    "scrolled": true
   },
   "outputs": [
    {
     "name": "stdout",
     "output_type": "stream",
     "text": [
      "EPOCH 1 - loss 8.5953 - acc 0.0235 ---------------------- \n",
      "EPOCH 2 - loss 8.3616 - acc 0.0509 ---------------------- \n",
      "EPOCH 3 - loss 8.1585 - acc 0.0511 ---------------------- \n",
      "EPOCH 4 - loss 7.9536 - acc 0.0511 ---------------------- \n",
      "EPOCH 5 - loss 7.7504 - acc 0.0511 ---------------------- \n",
      "EPOCH 6 - loss 7.5528 - acc 0.0510 ---------------------- \n",
      "EPOCH 7 - loss 7.3617 - acc 0.0511 ---------------------- \n",
      "EPOCH 8 - loss 7.1764 - acc 0.0511 ---------------------- \n",
      "EPOCH 9 - loss 6.9969 - acc 0.0510 ---------------------- \n",
      "EPOCH 10 - loss 6.8310 - acc 0.0510 ---------------------- \n"
     ]
    }
   ],
   "source": [
    "# training\n",
    "epochs = 10\n",
    "\n",
    "optimizer = torch.optim.Adam(model.parameters(), lr=0.0001) #, betas=(0.9, 0.98), eps=1e-9)\n",
    "scheduler = optim.lr_scheduler.ReduceLROnPlateau(optimizer, factor=0.1, patience=10, verbose=True)\n",
    "\n",
    "model.train()\n",
    "for e in range(1, epochs+1):\n",
    "    total_loss = 0\n",
    "    total_accuracy = 0\n",
    "    batch = 0\n",
    "    for x, y in dataloader:\n",
    "        batch += 1\n",
    "        optimizer.zero_grad()\n",
    "    \n",
    "        mask = transformer.gen_target_mask(x, 0)\n",
    "    \n",
    "        preds = model.encoder(x, mask)\n",
    "        preds = model.out(preds)\n",
    "        \n",
    "        loss = F.cross_entropy(preds.view(-1, preds.size(-1)), y.view(-1), ignore_index=0)\n",
    "        total_loss += loss.item()\n",
    "    \n",
    "        loss.backward()\n",
    "        optimizer.step()\n",
    "        \n",
    "        equals = torch.argmax(preds, dim=-1).view(-1) == y.view(-1)\n",
    "        total_accuracy += torch.mean(equals.type(torch.FloatTensor))\n",
    "    \n",
    "        print(f\"EPOCH {e} ({batch}/{len(dataloader)}) - loss {total_loss/batch:.4f} - acc {total_accuracy/batch:.4f}\", end='\\r') \n",
    "\n",
    "    scheduler.step(total_loss)\n",
    "    print(f\"EPOCH {e} - loss {total_loss/len(dataloader):.4f} - acc {total_accuracy/len(dataloader):.4f} ---------------------- \")"
   ]
  },
  {
   "cell_type": "code",
   "execution_count": 34,
   "metadata": {},
   "outputs": [
    {
     "name": "stdout",
     "output_type": "stream",
     "text": [
      "el amor de una mujer \n",
      " \n",
      " \n",
      " \n",
      " \n",
      " \n",
      " \n",
      " \n",
      " \n",
      " \n",
      " \n",
      "\n"
     ]
    }
   ],
   "source": [
    "# inference\n",
    "seed = 'el amor de una mujer \\n'\n",
    "seed = [word_idx[word] for word in seed.split(' ')]\n",
    "\n",
    "model.eval()\n",
    "with torch.no_grad():\n",
    "    for i in range(10):\n",
    "        x = torch.from_numpy(np.array(seed)).unsqueeze(0)\n",
    "        mask = transformer.gen_target_mask(x, 0)\n",
    "        encoded = model.encoder(x, mask)\n",
    "        out = model.out(encoded)\n",
    "        out = F.softmax(out, dim=-1)\n",
    "        out = torch.argmax(out, dim=-1)\n",
    "        \n",
    "        idx = out[:,-1].item()\n",
    "        seed.append(idx)\n",
    "        word = idx_word[idx]\n",
    "        if word == '<end>':\n",
    "            break\n",
    "\n",
    "print(' '.join([idx_word[idx] for idx in seed]))"
   ]
  },
  {
   "cell_type": "code",
   "execution_count": null,
   "metadata": {},
   "outputs": [],
   "source": []
  }
 ],
 "metadata": {
  "kernelspec": {
   "display_name": "Python 3",
   "language": "python",
   "name": "python3"
  },
  "language_info": {
   "codemirror_mode": {
    "name": "ipython",
    "version": 3
   },
   "file_extension": ".py",
   "mimetype": "text/x-python",
   "name": "python",
   "nbconvert_exporter": "python",
   "pygments_lexer": "ipython3",
   "version": "3.6.5"
  }
 },
 "nbformat": 4,
 "nbformat_minor": 2
}
