{
 "cells": [
  {
   "cell_type": "markdown",
   "metadata": {},
   "source": [
    "Let's study a little bit the available activation functions in Keras.  \n",
    "Specifically, I'll do some studies for the following:\n",
    "- sigmoid\n",
    "- tanh\n",
    "- softmax\n",
    "- relu\n",
    "- leaky relu\n",
    "- elu"
   ]
  },
  {
   "cell_type": "markdown",
   "metadata": {},
   "source": [
    "#### Regression problem"
   ]
  },
  {
   "cell_type": "code",
   "execution_count": 1,
   "metadata": {},
   "outputs": [
    {
     "name": "stdout",
     "output_type": "stream",
     "text": [
      "(5, 10) (5, 2)\n",
      "[ 0.79717564  0.87209177 -0.3974849   1.18673285 -1.13802196  0.18775299\n",
      " -0.9921518  -2.07637854 -0.94907527 -0.13578667]\n",
      "[0.1 0.5]\n"
     ]
    }
   ],
   "source": [
    "import numpy as np\n",
    "\n",
    "# Lets start by defining a fake dataset for a tipical classification problem with 3 classes\n",
    "x = np.random.randn(5, 10)\n",
    "y = np.array([[0.1, 0.5], [0.3, 0.7], [0, 1], [1, 0], [0.5, 0.5]])\n",
    "\n",
    "# we will have 5 inputs of 10 random parameters, and 5 outputs of 3 classes using one-hot encoding\n",
    "print(x.shape, y.shape)\n",
    "print(x[0])\n",
    "print(y[0])"
   ]
  },
  {
   "cell_type": "markdown",
   "metadata": {},
   "source": [
    "Now, we can just create a very simple shallow Keras model using those activations"
   ]
  },
  {
   "cell_type": "code",
   "execution_count": 3,
   "metadata": {},
   "outputs": [],
   "source": [
    "from keras.models import Sequential\n",
    "from keras.layers import Dense, Activation, LeakyReLU\n",
    "from keras.activations import sigmoid, tanh, softmax, elu, relu"
   ]
  },
  {
   "cell_type": "code",
   "execution_count": 7,
   "metadata": {},
   "outputs": [
    {
     "name": "stdout",
     "output_type": "stream",
     "text": [
      "_________________________________________________________________\n",
      "Layer (type)                 Output Shape              Param #   \n",
      "=================================================================\n",
      "input (Dense)                (None, 2)                 22        \n",
      "_________________________________________________________________\n",
      "sigmoid (Activation)         (None, 2)                 0         \n",
      "=================================================================\n",
      "Total params: 22\n",
      "Trainable params: 22\n",
      "Non-trainable params: 0\n",
      "_________________________________________________________________\n"
     ]
    }
   ],
   "source": [
    "# sigmoid\n",
    "model_sigmoid = Sequential()\n",
    "model_sigmoid.add(Dense(2, input_shape=(10,), name=\"input\"))\n",
    "model_sigmoid.add(Activation(sigmoid, name=\"sigmoid\"))\n",
    "\n",
    "model_sigmoid.summary()"
   ]
  },
  {
   "cell_type": "code",
   "execution_count": 8,
   "metadata": {
    "scrolled": true
   },
   "outputs": [
    {
     "name": "stdout",
     "output_type": "stream",
     "text": [
      "[[0.0783531  0.57767785]\n",
      " [0.5039726  0.44585398]\n",
      " [0.18416537 0.44141895]\n",
      " [0.5183335  0.91765785]\n",
      " [0.55285835 0.86430395]]\n",
      "---\n",
      "0.91765785 0.0783531\n",
      "---\n",
      "0.50845957\n"
     ]
    }
   ],
   "source": [
    "# Let's first take a look at a few predictions of the model without training\n",
    "\n",
    "predictions = model_sigmoid.predict(x)\n",
    "print(predictions)\n",
    "print(\"---\")\n",
    "print(predictions.max(), predictions.min())\n",
    "print(\"---\")\n",
    "print(predictions.mean())"
   ]
  },
  {
   "cell_type": "markdown",
   "metadata": {},
   "source": [
    "As we can see, the random outputs of the untrained network seem to be sampled from the 0-1 interval.  \n",
    "It has a mean of 0.5X (probably woud move towards 0.5 if we had much more data samples)"
   ]
  },
  {
   "cell_type": "code",
   "execution_count": 14,
   "metadata": {},
   "outputs": [
    {
     "data": {
      "image/png": "[encoded data removed]",
      "text/plain": [
       "<matplotlib.figure.Figure at 0x1163e1438>"
      ]
     },
     "metadata": {},
     "output_type": "display_data"
    },
    {
     "data": {
      "image/png": "[encoded data removed]",
      "text/plain": [
       "<matplotlib.figure.Figure at 0x115da4e10>"
      ]
     },
     "metadata": {},
     "output_type": "display_data"
    }
   ],
   "source": [
    "import matplotlib.pyplot as plt\n",
    "# Let's train the model now.\n",
    "# Because the output is not categorical, we will use mse as the loss function, \n",
    "# and we will default to the simplest default Stochastic Gradient Descent as optimizer \n",
    "# to keep thigs as simple as possible\n",
    "\n",
    "model_sigmoid.compile(optimizer='sgd', loss='mse', metrics=['mae'])\n",
    "history = model_sigmoid.fit(x, y, epochs=1000, verbose=0)\n",
    "\n",
    "plt.plot(history.history['loss'])\n",
    "plt.legend(['loss'])\n",
    "plt.show()\n",
    "\n",
    "plt.legend(['accuracy'])\n",
    "plt.plot(history.history['mean_absolute_error'])\n",
    "plt.show()"
   ]
  },
  {
   "cell_type": "markdown",
   "metadata": {},
   "source": [
    "As we can see, after around 900 epochs the error has been reduced to less than 7%. The loss didn't seem to plateau at all so we can assume we could still keep training the model.\n",
    "\n",
    "And now, let's visualize the outputs of the trained network and see if something has changed. "
   ]
  },
  {
   "cell_type": "code",
   "execution_count": 15,
   "metadata": {},
   "outputs": [
    {
     "name": "stdout",
     "output_type": "stream",
     "text": [
      "[[0.08539537 0.5025013 ]\n",
      " [0.36139616 0.63950753]\n",
      " [0.06293987 0.9105092 ]\n",
      " [0.86371815 0.14529993]\n",
      " [0.54719824 0.44822988]]\n",
      "---\n",
      "0.9105092 0.06293987\n",
      "---\n",
      "0.45666957\n"
     ]
    }
   ],
   "source": [
    "# Let's now take a look at the same predictions after training the model\n",
    "\n",
    "predictions = model_sigmoid.predict(x)\n",
    "print(predictions)\n",
    "print(\"---\")\n",
    "print(predictions.max(), predictions.min())\n",
    "print(\"---\")\n",
    "print(predictions.mean())"
   ]
  },
  {
   "cell_type": "markdown",
   "metadata": {},
   "source": [
    "We still can see that the values are in the 0-1 interval, but surprisingly, after training (and with only 5 samples) the mean still seems to be around 0.5!!!\n",
    "\n",
    "IMO This works PRETTY GOOD for a regression problem. Keeep in mind that the output will only be able to predict values in the 0-1 range, so the predictors have to be normalized to that range before training."
   ]
  },
  {
   "cell_type": "markdown",
   "metadata": {},
   "source": [
    "-----\n",
    "Let's now do the same for **tanh**"
   ]
  },
  {
   "cell_type": "code",
   "execution_count": 19,
   "metadata": {},
   "outputs": [
    {
     "name": "stdout",
     "output_type": "stream",
     "text": [
      "_________________________________________________________________\n",
      "Layer (type)                 Output Shape              Param #   \n",
      "=================================================================\n",
      "input (Dense)                (None, 2)                 22        \n",
      "_________________________________________________________________\n",
      "tanh (Activation)            (None, 2)                 0         \n",
      "=================================================================\n",
      "Total params: 22\n",
      "Trainable params: 22\n",
      "Non-trainable params: 0\n",
      "_________________________________________________________________\n",
      "\n",
      "~~~ pre-trained predictions\n",
      "[[-0.817428    0.7983622 ]\n",
      " [-0.81588167 -0.67729676]\n",
      " [-0.8754055   0.45480895]\n",
      " [ 0.2254263  -0.12010006]\n",
      " [ 0.60672194  0.7407677 ]]\n",
      "---\n",
      "0.7983622 -0.8754055\n",
      "---\n",
      "-0.04800248\n",
      "\n",
      "~~~ model training\n"
     ]
    },
    {
     "data": {
      "image/png": "[encoded data removed]",
      "text/plain": [
       "<matplotlib.figure.Figure at 0x116a96588>"
      ]
     },
     "metadata": {},
     "output_type": "display_data"
    },
    {
     "data": {
      "image/png": "[encoded data removed]",
      "text/plain": [
       "<matplotlib.figure.Figure at 0x11669bfd0>"
      ]
     },
     "metadata": {},
     "output_type": "display_data"
    },
    {
     "name": "stdout",
     "output_type": "stream",
     "text": [
      "\n",
      "~~~ trained predictions\n",
      "[[ 0.10835187  0.85022646]\n",
      " [ 0.32666954  0.63069993]\n",
      " [-0.01816779  0.8927473 ]\n",
      " [ 0.87352437 -0.02785367]\n",
      " [ 0.5219799   0.49100485]]\n",
      "---\n",
      "0.8927473 -0.027853671\n",
      "---\n",
      "0.4649183\n"
     ]
    }
   ],
   "source": [
    "# tanh\n",
    "model_tanh = Sequential()\n",
    "model_tanh.add(Dense(2, input_shape=(10,), name=\"input\"))\n",
    "model_tanh.add(Activation(tanh, name=\"tanh\"))\n",
    "\n",
    "model_tanh.summary()\n",
    "\n",
    "# Let's first take a look at a few predictions of the model without training\n",
    "print(\"\")\n",
    "print(\"~~~ pre-trained predictions\")\n",
    "predictions = model_tanh.predict(x)\n",
    "print(predictions)\n",
    "print(\"---\")\n",
    "print(predictions.max(), predictions.min())\n",
    "print(\"---\")\n",
    "print(predictions.mean())\n",
    "\n",
    "# we now train the model\n",
    "print(\"\")\n",
    "print(\"~~~ model training\")\n",
    "model_tanh.compile(optimizer='sgd', loss='mse', metrics=['mae'])\n",
    "history = model_tanh.fit(x, y, epochs=1000, verbose=0)\n",
    "\n",
    "plt.plot(history.history['loss'])\n",
    "plt.legend(['loss'])\n",
    "plt.show()\n",
    "\n",
    "plt.legend(['accuracy'])\n",
    "plt.plot(history.history['mean_absolute_error'])\n",
    "plt.show()\n",
    "\n",
    "# Now let's see the predictions after trainign\n",
    "print(\"\")\n",
    "print(\"~~~ trained predictions\")\n",
    "predictions = model_tanh.predict(x)\n",
    "print(predictions)\n",
    "print(\"---\")\n",
    "print(predictions.max(), predictions.min())\n",
    "print(\"---\")\n",
    "print(predictions.mean())"
   ]
  },
  {
   "cell_type": "markdown",
   "metadata": {},
   "source": [
    "Unlike with Sigmoid, the training has been much faster, but the loss and accuracy curves seem to have started finding a plateau though it could still learn a little bit. The minimun accuracy is a little bit higher than with Sigmoid, so it's faster, but a little less accurate.\n",
    "\n",
    "The predictions after training seem to have shifted to the range from 0 to 1, and the mean has moved towards 0.5.\n",
    "\n",
    "We can probably guess that the model could work better if we had notmalized the the output from -1 to 1.\n",
    "\n",
    "IMO This also works PRETTY GOOD for a regression problem. Keeep in mind that the output will only be able to predict values in the -1 to 1 range, so the predictors have to be normalized to that range before training.\n"
   ]
  },
  {
   "cell_type": "markdown",
   "metadata": {},
   "source": [
    "----\n",
    "Let's go now with **softmax**"
   ]
  },
  {
   "cell_type": "code",
   "execution_count": 21,
   "metadata": {},
   "outputs": [
    {
     "name": "stdout",
     "output_type": "stream",
     "text": [
      "_________________________________________________________________\n",
      "Layer (type)                 Output Shape              Param #   \n",
      "=================================================================\n",
      "input (Dense)                (None, 2)                 22        \n",
      "_________________________________________________________________\n",
      "softmax (Activation)         (None, 2)                 0         \n",
      "=================================================================\n",
      "Total params: 22\n",
      "Trainable params: 22\n",
      "Non-trainable params: 0\n",
      "_________________________________________________________________\n",
      "\n",
      "~~~ pre-trained predictions\n",
      "[[0.48311266 0.5168873 ]\n",
      " [0.76969826 0.23030177]\n",
      " [0.8817927  0.1182073 ]\n",
      " [0.61217284 0.38782713]\n",
      " [0.09728738 0.90271264]]\n",
      "---\n",
      "0.90271264 0.09728738\n",
      "---\n",
      "0.5\n",
      "\n",
      "~~~ model training\n"
     ]
    },
    {
     "data": {
      "image/png": "[encoded data removed]",
      "text/plain": [
       "<matplotlib.figure.Figure at 0x116ee1be0>"
      ]
     },
     "metadata": {},
     "output_type": "display_data"
    },
    {
     "data": {
      "image/png": "[encoded data removed]",
      "text/plain": [
       "<matplotlib.figure.Figure at 0x115f52358>"
      ]
     },
     "metadata": {},
     "output_type": "display_data"
    },
    {
     "name": "stdout",
     "output_type": "stream",
     "text": [
      "\n",
      "~~~ trained predictions\n",
      "[[0.25590077 0.74409926]\n",
      " [0.29363558 0.70636433]\n",
      " [0.18230614 0.8176938 ]\n",
      " [0.9200447  0.07995524]\n",
      " [0.51006925 0.4899307 ]]\n",
      "---\n",
      "0.9200447 0.07995524\n",
      "---\n",
      "0.5\n"
     ]
    }
   ],
   "source": [
    "# softmax\n",
    "model_softmax = Sequential()\n",
    "model_softmax.add(Dense(2, input_shape=(10,), name=\"input\"))\n",
    "model_softmax.add(Activation(softmax, name=\"softmax\"))\n",
    "\n",
    "model_softmax.summary()\n",
    "\n",
    "# Let's first take a look at a few predictions of the model without training\n",
    "print(\"\")\n",
    "print(\"~~~ pre-trained predictions\")\n",
    "predictions = model_softmax.predict(x)\n",
    "print(predictions)\n",
    "print(\"---\")\n",
    "print(predictions.max(), predictions.min())\n",
    "print(\"---\")\n",
    "print(predictions.mean())\n",
    "\n",
    "# we now train the model\n",
    "print(\"\")\n",
    "print(\"~~~ model training\")\n",
    "model_softmax.compile(optimizer='sgd', loss='mse', metrics=['mae'])\n",
    "history = model_softmax.fit(x, y, epochs=1000, verbose=0)\n",
    "\n",
    "plt.plot(history.history['loss'])\n",
    "plt.legend(['loss'])\n",
    "plt.show()\n",
    "\n",
    "plt.legend(['accuracy'])\n",
    "plt.plot(history.history['mean_absolute_error'])\n",
    "plt.show()\n",
    "\n",
    "# Now let's see the predictions after trainign\n",
    "print(\"\")\n",
    "print(\"~~~ trained predictions\")\n",
    "predictions = model_softmax.predict(x)\n",
    "print(predictions)\n",
    "print(\"---\")\n",
    "print(predictions.max(), predictions.min())\n",
    "print(\"---\")\n",
    "print(predictions.mean())"
   ]
  },
  {
   "cell_type": "markdown",
   "metadata": {},
   "source": [
    "Let's analyze this part by part.\n",
    "\n",
    "About the pre-trained predictions, we can see that the outputs seem to move in a range of 0-1 but, even though it might seem strange, there's a mean of 0,333. This is caused by the nature of the operation, the mean should be almost aways equal to 1 divided by the number of classes, so 1/3 = 0.333.  \n",
    "Another interesting thing to note is that the values of each predictions always sum up to one (0.16+0.02+0.82 = 1) this gives us the hint that the output seems like a probability distribution.\n",
    "\n",
    "About the training, after one partial success (sigmoid) and one failure (tanh) we're very suprised to see this model train so well! We can see that the accuracy reached the 100% after only ~180 epochs (we trained it for 1000) and the shape of the loss tells us that the model is capable to fit even more. Yay!\n",
    "\n",
    "Finally, about the predictions after training, the mean and variance seem to be the same but looking at the values we can see that (because of the nature of the operation) the model has learned to power up some values close to one while keeping the rest close to 0, there is no ambiguety here like there was with sigmoid. It becomes very obvious to know what the model has learned, and what is the final prediction.\n",
    "\n",
    "IMO it seems that sigmoid works VERY WELL as a final layer of a categorycal problem! \n",
    "Be careful as it will not work as well in hidden layers, as it squishes the hidden values too much, loosing to much information due to the fading gradient !!!"
   ]
  },
  {
   "cell_type": "markdown",
   "metadata": {},
   "source": [
    "----\n",
    "Let's go now with **relu**\n",
    "\n",
    "This is the most popular and used activation, but it's generaly preferred as an activation in the hidden layers, let's see why"
   ]
  },
  {
   "cell_type": "code",
   "execution_count": 110,
   "metadata": {},
   "outputs": [
    {
     "name": "stdout",
     "output_type": "stream",
     "text": [
      "_________________________________________________________________\n",
      "Layer (type)                 Output Shape              Param #   \n",
      "=================================================================\n",
      "input (Dense)                (None, 3)                 33        \n",
      "_________________________________________________________________\n",
      "relu (Activation)            (None, 3)                 0         \n",
      "=================================================================\n",
      "Total params: 33\n",
      "Trainable params: 33\n",
      "Non-trainable params: 0\n",
      "_________________________________________________________________\n",
      "\n",
      "~~~ pre-trained predictions\n",
      "[[0.90719795 0.         2.2959151 ]\n",
      " [0.         0.33512932 0.        ]\n",
      " [0.         0.         0.50429004]\n",
      " [0.1005812  1.7293818  1.5515486 ]\n",
      " [0.         0.58397263 0.7209135 ]]\n",
      "---\n",
      "2.2959151 0.0\n",
      "---\n",
      "0.5819287\n",
      "\n",
      "~~~ model training\n"
     ]
    },
    {
     "data": {
      "image/png": "[encoded data removed]",
      "text/plain": [
       "<matplotlib.figure.Figure at 0x1249b4860>"
      ]
     },
     "metadata": {},
     "output_type": "display_data"
    },
    {
     "data": {
      "image/png": "[encoded data removed]",
      "text/plain": [
       "<matplotlib.figure.Figure at 0x1242ff6a0>"
      ]
     },
     "metadata": {},
     "output_type": "display_data"
    },
    {
     "name": "stdout",
     "output_type": "stream",
     "text": [
      "\n",
      "~~~ trained predictions\n",
      "[[0.         0.         2.016315  ]\n",
      " [0.         0.45480382 0.        ]\n",
      " [0.         0.         0.8865733 ]\n",
      " [0.         2.3501985  0.        ]\n",
      " [0.         0.7701211  0.33278725]]\n",
      "---\n",
      "2.3501985 0.0\n",
      "---\n",
      "0.45405325\n"
     ]
    }
   ],
   "source": [
    "# relu\n",
    "model_relu = Sequential()\n",
    "model_relu.add(Dense(3, input_shape=(10,), name=\"input\"))\n",
    "model_relu.add(Activation(relu, name=\"relu\"))\n",
    "\n",
    "model_relu.summary()\n",
    "\n",
    "# Let's first take a look at a few predictions of the model without training\n",
    "print(\"\")\n",
    "print(\"~~~ pre-trained predictions\")\n",
    "predictions = model_relu.predict(x)\n",
    "print(predictions)\n",
    "print(\"---\")\n",
    "print(predictions.max(), predictions.min())\n",
    "print(\"---\")\n",
    "print(predictions.mean())\n",
    "\n",
    "# we now train the model\n",
    "print(\"\")\n",
    "print(\"~~~ model training\")\n",
    "model_relu.compile(optimizer='sgd', loss='categorical_crossentropy', metrics=['acc'])\n",
    "history = model_relu.fit(x, y, epochs=1000, verbose=0)\n",
    "\n",
    "plt.plot(history.history['loss'])\n",
    "plt.legend(['loss'])\n",
    "plt.show()\n",
    "\n",
    "plt.legend(['accuracy'])\n",
    "plt.plot(history.history['acc'])\n",
    "plt.show()\n",
    "\n",
    "# Now let's see the predictions after trainign\n",
    "print(\"\")\n",
    "print(\"~~~ trained predictions\")\n",
    "predictions = model_relu.predict(x)\n",
    "print(predictions)\n",
    "print(\"---\")\n",
    "print(predictions.max(), predictions.min())\n",
    "print(\"---\")\n",
    "print(predictions.mean())"
   ]
  },
  {
   "cell_type": "markdown",
   "metadata": {},
   "source": [
    "Let's analyze this part by part.\n",
    "\n",
    "About the pre-trained predictions, the outputs are in a range of 0 to 2,3. Actually, relu doesn't impose a max for the range so the model is in the range of 0-infinity. The mean is 0.58, this doesn't seem to give any information by itself. Looking at the values we see some 0s and some positive values.\n",
    "\n",
    "About the training, the loss seemes to have hit a plateau after around 200 epochs but the accuracy didn't seem to improve at all getting stuck at 0.4, not good, not goooood :(\n",
    "\n",
    "Finally, about the predictions after training, the range seems to have increased a little bit, it's now 0 to 2.35 but the mean has decreased being now 0.45. This tells us that relu doesn't follow any kind of distribution, model learned to set some 0s and some positive values, but doesn't seem to have learned the correct predictions.\n",
    "\n",
    "Why? Because of the nature of the operation, in a single layer of ReLU if the values are 0 there is no way the model will change that, so if the correct value is in a position that the initial prediction set to 0, it will never learn.\n",
    "We can see a funny consecuence of this, and it's that if we randomize the values enough times so initially any of the correct values is predicted as 0, the model will work pretty well! But in a shallow model this doesn't work :(\n",
    "\n",
    "IMO it seems that relu doesn't work well as an activation layer for the output of a classification problem. It COULD work though, if we remove the 0s problem by adding some hidden layers, but it will never be the ideal, because it could take much more time to learn if the outputs are very high."
   ]
  },
  {
   "cell_type": "markdown",
   "metadata": {},
   "source": [
    "----\n",
    "Let's go now with **leaky relu**\n",
    "\n",
    "This is variation of the ReLU that solves the 0s problem, so I'm going to guess that it will work better than the ReLU but let's see."
   ]
  },
  {
   "cell_type": "code",
   "execution_count": 114,
   "metadata": {},
   "outputs": [
    {
     "name": "stdout",
     "output_type": "stream",
     "text": [
      "_________________________________________________________________\n",
      "Layer (type)                 Output Shape              Param #   \n",
      "=================================================================\n",
      "input (Dense)                (None, 3)                 33        \n",
      "_________________________________________________________________\n",
      "relu (Activation)            (None, 3)                 0         \n",
      "=================================================================\n",
      "Total params: 33\n",
      "Trainable params: 33\n",
      "Non-trainable params: 0\n",
      "_________________________________________________________________\n",
      "\n",
      "~~~ pre-trained predictions\n",
      "[[ 9.3719065e-01  1.9308243e+00 -2.5536511e-02]\n",
      " [-2.9509276e-04  6.1618912e-01  5.6603360e-01]\n",
      " [-9.8429620e-03  8.8597006e-01  1.6449414e+00]\n",
      " [ 2.6999810e+00  5.3981167e-01 -1.0586169e-02]\n",
      " [ 1.3728960e+00  4.5086497e-01 -1.8345760e-02]]\n",
      "---\n",
      "2.699981 -0.025536511\n",
      "---\n",
      "0.7720064\n",
      "\n",
      "~~~ model training\n"
     ]
    },
    {
     "data": {
      "image/png": "[encoded data removed]",
      "text/plain": [
       "<matplotlib.figure.Figure at 0x12099bc50>"
      ]
     },
     "metadata": {},
     "output_type": "display_data"
    },
    {
     "data": {
      "image/png": "[encoded data removed]",
      "text/plain": [
       "<matplotlib.figure.Figure at 0x12066b400>"
      ]
     },
     "metadata": {},
     "output_type": "display_data"
    },
    {
     "name": "stdout",
     "output_type": "stream",
     "text": [
      "\n",
      "~~~ trained predictions\n",
      "[[ 5.0316197e-01  1.7596383e+00 -3.2398224e-02]\n",
      " [-5.9180479e-03  4.2344630e-04  1.0608001e+00]\n",
      " [-3.3544479e-03  1.1593986e+00 -2.0972582e-05]\n",
      " [ 5.5771619e-03  2.0479093e+00 -5.7644579e-03]\n",
      " [ 8.1088138e-01  6.7752451e-03 -2.0072155e-02]]\n",
      "---\n",
      "2.0479093 -0.032398224\n",
      "---\n",
      "0.4858025\n"
     ]
    }
   ],
   "source": [
    "# lrelu\n",
    "model_lrelu = Sequential()\n",
    "model_lrelu.add(Dense(3, input_shape=(10,), name=\"input\"))\n",
    "model_lrelu.add(LeakyReLU(0.01, name=\"relu\"))\n",
    "\n",
    "model_relu.summary()\n",
    "\n",
    "# Let's first take a look at a few predictions of the model without training\n",
    "print(\"\")\n",
    "print(\"~~~ pre-trained predictions\")\n",
    "predictions = model_lrelu.predict(x)\n",
    "print(predictions)\n",
    "print(\"---\")\n",
    "print(predictions.max(), predictions.min())\n",
    "print(\"---\")\n",
    "print(predictions.mean())\n",
    "\n",
    "# we now train the model\n",
    "print(\"\")\n",
    "print(\"~~~ model training\")\n",
    "model_lrelu.compile(optimizer='sgd', loss='categorical_crossentropy', metrics=['acc'])\n",
    "history = model_lrelu.fit(x, y, epochs=1000, verbose=0)\n",
    "\n",
    "plt.plot(history.history['loss'])\n",
    "plt.legend(['loss'])\n",
    "plt.show()\n",
    "\n",
    "plt.legend(['accuracy'])\n",
    "plt.plot(history.history['acc'])\n",
    "plt.show()\n",
    "\n",
    "# Now let's see the predictions after trainign\n",
    "print(\"\")\n",
    "print(\"~~~ trained predictions\")\n",
    "predictions = model_lrelu.predict(x)\n",
    "print(predictions)\n",
    "print(\"---\")\n",
    "print(predictions.max(), predictions.min())\n",
    "print(\"---\")\n",
    "print(predictions.mean())"
   ]
  },
  {
   "cell_type": "markdown",
   "metadata": {},
   "source": [
    "Let's analyze this part by part.\n",
    "\n",
    "About the pre-trained predictions, the outputs are in a range of -0.03 to 2,7. Actually, relu doesn't impose a max nor a min for the range so the model is in the range of -infinity to infinity. \n",
    "We can see though that the movement towards negative values is much smaller, this is caused by the nature of the operation, that multiplies the negative values by x0.01 (this is a parameter, I choose this one arbitrarily).\n",
    "The mean is 0.77, but as with ReLU this doesn't seem to give any information by itself.\n",
    "\n",
    "About the training, the loss seemes to decrease properly, but sadly it hits a plateau after 380 epochs. At around 200 epochs the model hits its max accuracy of 80%\n",
    "\n",
    "Finally, about the predictions after training, the range seems to have shifter a little bit towards 0, it's now 0.033 to 2 but the mean has decreased being now 0.48. This tells us that the leaky relu also doesn't follow any kind of distribution.\n",
    "\n",
    "IMO it seems that leaky relu is also NOT THE BEST as an activation layer for the output of a classification problem. \n",
    "It solves the problem with the 0s that had the ReLU model so it works much better, but it still has a problem fitting high or low values to 0 and 1."
   ]
  },
  {
   "cell_type": "markdown",
   "metadata": {},
   "source": [
    "----\n",
    "Let's go now with **leaky elu**\n",
    "\n",
    "Finally lets try elu. It's a mistery for me as I do not know the implementation of it, but hopefully this analysis will help us undersdand it better."
   ]
  },
  {
   "cell_type": "code",
   "execution_count": 119,
   "metadata": {},
   "outputs": [
    {
     "name": "stdout",
     "output_type": "stream",
     "text": [
      "_________________________________________________________________\n",
      "Layer (type)                 Output Shape              Param #   \n",
      "=================================================================\n",
      "input (Dense)                (None, 3)                 33        \n",
      "_________________________________________________________________\n",
      "elu (Activation)             (None, 3)                 0         \n",
      "=================================================================\n",
      "Total params: 33\n",
      "Trainable params: 33\n",
      "Non-trainable params: 0\n",
      "_________________________________________________________________\n",
      "\n",
      "~~~ pre-trained predictions\n",
      "[[-0.9232144   1.8610909   0.9773937 ]\n",
      " [ 0.9129013  -0.2885369  -0.44073778]\n",
      " [ 1.5642755   1.8806123   1.7354904 ]\n",
      " [-0.7151167   0.4838999  -0.07944727]\n",
      " [-0.81829035  0.5162267   0.7964347 ]]\n",
      "---\n",
      "1.8806123 -0.9232144\n",
      "---\n",
      "0.49753216\n",
      "\n",
      "~~~ model training\n"
     ]
    },
    {
     "data": {
      "image/png": "[encoded data removed]",
      "text/plain": [
       "<matplotlib.figure.Figure at 0x125849320>"
      ]
     },
     "metadata": {},
     "output_type": "display_data"
    },
    {
     "data": {
      "image/png": "[encoded data removed]",
      "text/plain": [
       "<matplotlib.figure.Figure at 0x125bcf860>"
      ]
     },
     "metadata": {},
     "output_type": "display_data"
    },
    {
     "name": "stdout",
     "output_type": "stream",
     "text": [
      "\n",
      "~~~ trained predictions\n",
      "[[ -0.94915956  -1.           1.2272292 ]\n",
      " [  1.0288106   -1.          -0.39465106]\n",
      " [  0.33675778 251.8037       0.61315924]\n",
      " [ -0.5990375   -1.           0.6220208 ]\n",
      " [ -0.83801085  -1.           1.0730296 ]]\n",
      "---\n",
      "251.8037 -1.0\n",
      "---\n",
      "16.661589\n"
     ]
    }
   ],
   "source": [
    "# lrelu\n",
    "model_elu = Sequential()\n",
    "model_elu.add(Dense(3, input_shape=(10,), name=\"input\"))\n",
    "model_elu.add(Activation(elu, name=\"elu\"))\n",
    "\n",
    "model_elu.summary()\n",
    "\n",
    "# Let's first take a look at a few predictions of the model without training\n",
    "print(\"\")\n",
    "print(\"~~~ pre-trained predictions\")\n",
    "predictions = model_elu.predict(x)\n",
    "print(predictions)\n",
    "print(\"---\")\n",
    "print(predictions.max(), predictions.min())\n",
    "print(\"---\")\n",
    "print(predictions.mean())\n",
    "\n",
    "# we now train the model\n",
    "print(\"\")\n",
    "print(\"~~~ model training\")\n",
    "model_elu.compile(optimizer='sgd', loss='categorical_crossentropy', metrics=['acc'])\n",
    "history = model_elu.fit(x, y, epochs=1000, verbose=0)\n",
    "\n",
    "plt.plot(history.history['loss'])\n",
    "plt.legend(['loss'])\n",
    "plt.show()\n",
    "\n",
    "plt.legend(['accuracy'])\n",
    "plt.plot(history.history['acc'])\n",
    "plt.show()\n",
    "\n",
    "# Now let's see the predictions after trainign\n",
    "print(\"\")\n",
    "print(\"~~~ trained predictions\")\n",
    "predictions = model_elu.predict(x)\n",
    "print(predictions)\n",
    "print(\"---\")\n",
    "print(predictions.max(), predictions.min())\n",
    "print(\"---\")\n",
    "print(predictions.mean())"
   ]
  },
  {
   "cell_type": "markdown",
   "metadata": {},
   "source": [
    "Let's analyze this part by part.\n",
    "\n",
    "About the pre-trained predictions, the outputs are in a range of -0.93 to 1.9, the mean of 0.5 could give us some hint about the distribution as it's (max+min)/2 , though it could be just a coincidence, or could be a reflection of the intial random weight distribution if the elu operation doesn't reflect a distribution by itself.\n",
    "\n",
    "About the training, it's a total disaster, not much to say that the graphs don't tell... :(\n",
    "\n",
    "Finally, about the predictions after training, the range seems to have changed a lot, from -1 to 252!!! \n",
    "Looking at the data, there seems to be a minimum at -1 as a lot of values have taken that value and doesn't seem accidental, but it's really weird that a single value has increased to 251 while the rest seem to be kept pretty low!! I don't know the reason for that :( \n",
    "\n",
    "About the mean, it's become clear that the previous assumption was just a coincidence, and the mean doesn't seem to follow any distribution.\n",
    "\n",
    "IMO, as the other ReLU and variations, this doesn't seem like a good activation for classification. In previous experiments I've seen a good performance of this layer for regression problems, but I'm not sure why. It seems to keep some kind of smooth relation between the data like Sigmoid, keeps some properties of ReLU by keeping prositive values unaltered and avoids the 0s problem of leakyRely by setting the min to -1."
   ]
  },
  {
   "cell_type": "code",
   "execution_count": null,
   "metadata": {},
   "outputs": [],
   "source": []
  }
 ],
 "metadata": {
  "kernelspec": {
   "display_name": "Python 3",
   "language": "python",
   "name": "python3"
  },
  "language_info": {
   "codemirror_mode": {
    "name": "ipython",
    "version": 3
   },
   "file_extension": ".py",
   "mimetype": "text/x-python",
   "name": "python",
   "nbconvert_exporter": "python",
   "pygments_lexer": "ipython3",
   "version": "3.6.5"
  }
 },
 "nbformat": 4,
 "nbformat_minor": 2
}
