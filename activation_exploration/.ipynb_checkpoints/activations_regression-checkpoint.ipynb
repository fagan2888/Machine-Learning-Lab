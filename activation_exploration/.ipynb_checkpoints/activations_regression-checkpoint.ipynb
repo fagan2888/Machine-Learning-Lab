{
 "cells": [
  {
   "cell_type": "markdown",
   "metadata": {},
   "source": [
    "Let's study a little bit the available activation functions in Keras.  \n",
    "Specifically, I'll do some studies for the following:\n",
    "- sigmoid\n",
    "- tanh\n",
    "- softmax\n",
    "- relu\n",
    "- leaky relu\n",
    "- elu"
   ]
  },
  {
   "cell_type": "markdown",
   "metadata": {},
   "source": [
    "#### Classification problem"
   ]
  },
  {
   "cell_type": "code",
   "execution_count": 7,
   "metadata": {},
   "outputs": [
    {
     "name": "stdout",
     "output_type": "stream",
     "text": [
      "(5, 10) (5, 3)\n",
      "[-0.6408213  -2.12716114 -0.83025388 -0.19434761  0.63255149  0.47409373\n",
      "  0.68230783  0.93782778 -0.70996124  2.47312369]\n",
      "[0 0 1]\n"
     ]
    }
   ],
   "source": [
    "import numpy as np\n",
    "\n",
    "# Lets start by defining a fake dataset for a tipical classification problem with 3 classes\n",
    "x = np.random.randn(5, 10)\n",
    "y = np.array([[0,0,1], [0,0,1], [0,1,0], [0,1,0], [1,0,0]])\n",
    "\n",
    "# we will have 5 inputs of 10 random parameters, and 5 outputs of 3 classes using one-hot encoding\n",
    "print(x.shape, y.shape)\n",
    "print(x[0])\n",
    "print(y[0])"
   ]
  },
  {
   "cell_type": "markdown",
   "metadata": {},
   "source": [
    "Now, we can just create a very simple shallow Keras model using those activations"
   ]
  },
  {
   "cell_type": "code",
   "execution_count": 89,
   "metadata": {},
   "outputs": [],
   "source": [
    "from keras.models import Sequential\n",
    "from keras.layers import Dense, Activation, LeakyReLU\n",
    "from keras.activations import sigmoid, tanh, softmax, elu, relu"
   ]
  },
  {
   "cell_type": "code",
   "execution_count": 64,
   "metadata": {},
   "outputs": [
    {
     "name": "stdout",
     "output_type": "stream",
     "text": [
      "_________________________________________________________________\n",
      "Layer (type)                 Output Shape              Param #   \n",
      "=================================================================\n",
      "input (Dense)                (None, 3)                 33        \n",
      "_________________________________________________________________\n",
      "sigmoid (Activation)         (None, 3)                 0         \n",
      "=================================================================\n",
      "Total params: 33\n",
      "Trainable params: 33\n",
      "Non-trainable params: 0\n",
      "_________________________________________________________________\n"
     ]
    }
   ],
   "source": [
    "# sigmoid\n",
    "model_sigmoid = Sequential()\n",
    "model_sigmoid.add(Dense(3, input_shape=(10,), name=\"input\"))\n",
    "model_sigmoid.add(Activation(sigmoid, name=\"sigmoid\"))\n",
    "\n",
    "model_sigmoid.summary()"
   ]
  },
  {
   "cell_type": "code",
   "execution_count": 65,
   "metadata": {
    "scrolled": true
   },
   "outputs": [
    {
     "name": "stdout",
     "output_type": "stream",
     "text": [
      "[[0.948926   0.35752118 0.02653183]\n",
      " [0.4280658  0.54648334 0.6220165 ]\n",
      " [0.8289607  0.42473534 0.6102365 ]\n",
      " [0.60178727 0.7259306  0.3389298 ]\n",
      " [0.66332275 0.5656931  0.0648795 ]]\n",
      "---\n",
      "0.948926 0.026531829\n",
      "---\n",
      "0.5169347\n"
     ]
    }
   ],
   "source": [
    "# Let's first take a look at a few predictions of the model without training\n",
    "\n",
    "predictions = model_sigmoid.predict(x)\n",
    "print(predictions)\n",
    "print(\"---\")\n",
    "print(predictions.max(), predictions.min())\n",
    "print(\"---\")\n",
    "print(predictions.mean())"
   ]
  },
  {
   "cell_type": "markdown",
   "metadata": {},
   "source": [
    "As we can see, the random outputs of the untrained network seem to be sampled from the 0-1 interval.  \n",
    "It has a mean of 0.5X (probably woud move towards 0.5 if we had much more data samples)"
   ]
  },
  {
   "cell_type": "code",
   "execution_count": 66,
   "metadata": {},
   "outputs": [
    {
     "data": {
      "image/png": "[encoded data removed]",
      "text/plain": [
       "<matplotlib.figure.Figure at 0x11e181da0>"
      ]
     },
     "metadata": {},
     "output_type": "display_data"
    },
    {
     "data": {
      "image/png": "[encoded data removed]",
      "text/plain": [
       "<matplotlib.figure.Figure at 0x11e4e6860>"
      ]
     },
     "metadata": {},
     "output_type": "display_data"
    }
   ],
   "source": [
    "import matplotlib.pyplot as plt\n",
    "# Let's train the model now.\n",
    "# Because the output is categorical, we will use categorical_crossentropy as the loss function, \n",
    "# and we will default to the simplest default Stochastic Gradient Descent as optimizer \n",
    "# to keep thigs as simple as possible\n",
    "\n",
    "model_sigmoid.compile(optimizer='sgd', loss='categorical_crossentropy', metrics=['acc'])\n",
    "history = model_sigmoid.fit(x, y, epochs=1000, verbose=0)\n",
    "\n",
    "plt.plot(history.history['loss'])\n",
    "plt.legend(['loss'])\n",
    "plt.show()\n",
    "\n",
    "plt.legend(['accuracy'])\n",
    "plt.plot(history.history['acc'])\n",
    "plt.show()"
   ]
  },
  {
   "cell_type": "markdown",
   "metadata": {},
   "source": [
    "As we can see, after 1000 epochs the model seems to only achieve a 80% accuracy (not so good for so many epochs!!!). The loss didn't seem to plateau so we can assume we could still keep training the model to achieve a better accuracy, but let's stop here, as we'll also train the other models with 100 epochs in order to keep the experiment as objective as possible.\n",
    "\n",
    "And now, let's visualize the outputs of the trained network and see if something has changed. "
   ]
  },
  {
   "cell_type": "code",
   "execution_count": 69,
   "metadata": {},
   "outputs": [
    {
     "name": "stdout",
     "output_type": "stream",
     "text": [
      "[[0.967454   0.06282943 0.7142852 ]\n",
      " [0.13549644 0.3292494  0.6389356 ]\n",
      " [0.60638165 0.8997735  0.6588457 ]\n",
      " [0.10091308 0.6893892  0.13126442]\n",
      " [0.7162901  0.16155303 0.27444643]]\n",
      "---\n",
      "0.967454 0.06282943\n",
      "---\n",
      "0.4724738\n"
     ]
    }
   ],
   "source": [
    "# Let's now take a look at the same predictions after training the model\n",
    "\n",
    "predictions = model_sigmoid.predict(x)\n",
    "print(predictions)\n",
    "print(\"---\")\n",
    "print(predictions.max(), predictions.min())\n",
    "print(\"---\")\n",
    "print(predictions.mean())"
   ]
  },
  {
   "cell_type": "markdown",
   "metadata": {},
   "source": [
    "We still can see that the values are in the 0-1 interval, but surprisingly, after training (and with only 5 samples) the mean still seems to be around 0.5!!!\n",
    "\n",
    "We can even see that some of the predictions have fairly high values like [0.6, 0.8, 0.6] so how based on this we could thing that the predictions are pretty bad :S\n",
    "\n",
    "Let's process our utputs a little bit more to see why the accracy is 80%"
   ]
  },
  {
   "cell_type": "code",
   "execution_count": 79,
   "metadata": {},
   "outputs": [
    {
     "name": "stdout",
     "output_type": "stream",
     "text": [
      "expected: [0 1 0]\n",
      "predicted: [0.60638165 0.8997735  0.6588457 ]\n",
      "predicted (forced maz): [0 1 0]\n"
     ]
    }
   ],
   "source": [
    "def force_prediction(preds):\n",
    "    forced = []\n",
    "    for p in preds:\n",
    "        f = np.zeros((len(p)), dtype=np.int0)\n",
    "        f[p.argmax()] = 1\n",
    "        forced.append(f)\n",
    "    return forced\n",
    "\n",
    "predictions_processed = force_prediction(predictions)\n",
    "\n",
    "print(\"expected:\", y[2])\n",
    "print(\"predicted:\", predictions[2])\n",
    "print(\"predicted (forced maz):\", predictions_processed[2])"
   ]
  },
  {
   "cell_type": "markdown",
   "metadata": {},
   "source": [
    "As we can see, with this activation the model is learning to set the value at the expected position as the maximum value, but it's not very informative to have such high values, what does it mean?   \n",
    "Does it means the model is not sure?  \n",
    "It means the model is sure but that's how he learns?  \n",
    "\n",
    "IMO it seems that **sigmoid** is NOT THE BEST activation for a classification problem"
   ]
  },
  {
   "cell_type": "markdown",
   "metadata": {},
   "source": [
    "-----\n",
    "Let's now do the same for **tanh**"
   ]
  },
  {
   "cell_type": "code",
   "execution_count": 84,
   "metadata": {},
   "outputs": [
    {
     "name": "stdout",
     "output_type": "stream",
     "text": [
      "_________________________________________________________________\n",
      "Layer (type)                 Output Shape              Param #   \n",
      "=================================================================\n",
      "input (Dense)                (None, 3)                 33        \n",
      "_________________________________________________________________\n",
      "tanh (Activation)            (None, 3)                 0         \n",
      "=================================================================\n",
      "Total params: 33\n",
      "Trainable params: 33\n",
      "Non-trainable params: 0\n",
      "_________________________________________________________________\n",
      "\n",
      "~~~ pre-trained predictions\n",
      "[[-0.08869466 -0.83821374  0.98316574]\n",
      " [-0.45592272  0.58439714 -0.7200133 ]\n",
      " [ 0.68016255  0.01702786  0.9905297 ]\n",
      " [-0.38795567 -0.9820543   0.62676954]\n",
      " [-0.25264314 -0.80576444 -0.17423947]]\n",
      "---\n",
      "0.9905297 -0.9820543\n",
      "---\n",
      "-0.05489659\n",
      "\n",
      "~~~ model training\n"
     ]
    },
    {
     "data": {
      "image/png": "[encoded data removed]",
      "text/plain": [
       "<matplotlib.figure.Figure at 0x11e573c88>"
      ]
     },
     "metadata": {},
     "output_type": "display_data"
    },
    {
     "data": {
      "image/png": "[encoded data removed]",
      "text/plain": [
       "<matplotlib.figure.Figure at 0x11c7a55f8>"
      ]
     },
     "metadata": {},
     "output_type": "display_data"
    },
    {
     "name": "stdout",
     "output_type": "stream",
     "text": [
      "\n",
      "~~~ trained predictions\n",
      "[[-0.9373205  -0.07852592  0.9965413 ]\n",
      " [-0.31441328  0.51666766 -0.7112085 ]\n",
      " [-0.9849429   0.96027046  0.98493123]\n",
      " [-0.12070431 -0.9847922   0.8359474 ]\n",
      " [-0.7937813  -0.45068717  0.4675483 ]]\n",
      "---\n",
      "0.9965413 -0.9849429\n",
      "---\n",
      "-0.04096464\n"
     ]
    }
   ],
   "source": [
    "# tanh\n",
    "model_tanh = Sequential()\n",
    "model_tanh.add(Dense(3, input_shape=(10,), name=\"input\"))\n",
    "model_tanh.add(Activation(tanh, name=\"tanh\"))\n",
    "\n",
    "model_tanh.summary()\n",
    "\n",
    "# Let's first take a look at a few predictions of the model without training\n",
    "print(\"\")\n",
    "print(\"~~~ pre-trained predictions\")\n",
    "predictions = model_tanh.predict(x)\n",
    "print(predictions)\n",
    "print(\"---\")\n",
    "print(predictions.max(), predictions.min())\n",
    "print(\"---\")\n",
    "print(predictions.mean())\n",
    "\n",
    "# we now train the model\n",
    "print(\"\")\n",
    "print(\"~~~ model training\")\n",
    "model_tanh.compile(optimizer='sgd', loss='categorical_crossentropy', metrics=['acc'])\n",
    "history = model_tanh.fit(x, y, epochs=1000, verbose=0)\n",
    "\n",
    "plt.plot(history.history['loss'])\n",
    "plt.legend(['loss'])\n",
    "plt.show()\n",
    "\n",
    "plt.legend(['accuracy'])\n",
    "plt.plot(history.history['acc'])\n",
    "plt.show()\n",
    "\n",
    "# Now let's see the predictions after trainign\n",
    "print(\"\")\n",
    "print(\"~~~ trained predictions\")\n",
    "predictions = model_tanh.predict(x)\n",
    "print(predictions)\n",
    "print(\"---\")\n",
    "print(predictions.max(), predictions.min())\n",
    "print(\"---\")\n",
    "print(predictions.mean())"
   ]
  },
  {
   "cell_type": "markdown",
   "metadata": {},
   "source": [
    "Let's analyze this part by part.\n",
    "\n",
    "About the pre-trained predictions, we can see an obvious range of -1 to 1, with a mean in 0. This is not very useful for us, as our output was composed of 0s and 1s so what would a -1 represent?\n",
    "\n",
    "The training didn't go well at all, the model was not able to learn and the loss seems pretty chaotic :S\n",
    "\n",
    "Finally, the predictions after training don't seem to show anything different from the ones before, this activation doesn't seem good at all for classification problems using one-hot encoddings :(\n",
    "\n",
    "We can probably guess that the model could work better for a problem where the output goes from -1 to 1, but what kind of problem does need this? \n",
    "\n",
    "IMO it seems that tanh doesn't work for the outputs in classification problem. Would it be a good activation for a hidden layer? I don't know :S\n"
   ]
  },
  {
   "cell_type": "markdown",
   "metadata": {},
   "source": [
    "----\n",
    "Let's go now with **softmax**"
   ]
  },
  {
   "cell_type": "code",
   "execution_count": 88,
   "metadata": {},
   "outputs": [
    {
     "name": "stdout",
     "output_type": "stream",
     "text": [
      "_________________________________________________________________\n",
      "Layer (type)                 Output Shape              Param #   \n",
      "=================================================================\n",
      "input (Dense)                (None, 3)                 33        \n",
      "_________________________________________________________________\n",
      "tanh (Activation)            (None, 3)                 0         \n",
      "=================================================================\n",
      "Total params: 33\n",
      "Trainable params: 33\n",
      "Non-trainable params: 0\n",
      "_________________________________________________________________\n",
      "\n",
      "~~~ pre-trained predictions\n",
      "[[0.16439128 0.01693138 0.8186773 ]\n",
      " [0.06454331 0.61529803 0.32015863]\n",
      " [0.43503037 0.30514285 0.25982675]\n",
      " [0.04082134 0.30678067 0.652398  ]\n",
      " [0.37682855 0.08465955 0.5385119 ]]\n",
      "---\n",
      "0.8186773 0.016931383\n",
      "---\n",
      "0.3333333\n",
      "\n",
      "~~~ model training\n"
     ]
    },
    {
     "data": {
      "image/png": "[encoded data removed]",
      "text/plain": [
       "<matplotlib.figure.Figure at 0x11fb06438>"
      ]
     },
     "metadata": {},
     "output_type": "display_data"
    },
    {
     "data": {
      "image/png": "[encoded data removed]",
      "text/plain": [
       "<matplotlib.figure.Figure at 0x11f5fb0f0>"
      ]
     },
     "metadata": {},
     "output_type": "display_data"
    },
    {
     "name": "stdout",
     "output_type": "stream",
     "text": [
      "\n",
      "~~~ trained predictions\n",
      "[[0.11211765 0.03024393 0.8576385 ]\n",
      " [0.0452106  0.11318032 0.84160906]\n",
      " [0.01408959 0.95173854 0.03417192]\n",
      " [0.03021203 0.91819483 0.05159311]\n",
      " [0.7878092  0.05215246 0.16003835]]\n",
      "---\n",
      "0.95173854 0.014089586\n",
      "---\n",
      "0.33333334\n"
     ]
    }
   ],
   "source": [
    "# softmax\n",
    "model_softmax = Sequential()\n",
    "model_softmax.add(Dense(3, input_shape=(10,), name=\"input\"))\n",
    "model_softmax.add(Activation(softmax, name=\"softmax\"))\n",
    "\n",
    "model_softmax.summary()\n",
    "\n",
    "# Let's first take a look at a few predictions of the model without training\n",
    "print(\"\")\n",
    "print(\"~~~ pre-trained predictions\")\n",
    "predictions = model_softmax.predict(x)\n",
    "print(predictions)\n",
    "print(\"---\")\n",
    "print(predictions.max(), predictions.min())\n",
    "print(\"---\")\n",
    "print(predictions.mean())\n",
    "\n",
    "# we now train the model\n",
    "print(\"\")\n",
    "print(\"~~~ model training\")\n",
    "model_softmax.compile(optimizer='sgd', loss='categorical_crossentropy', metrics=['acc'])\n",
    "history = model_softmax.fit(x, y, epochs=1000, verbose=0)\n",
    "\n",
    "plt.plot(history.history['loss'])\n",
    "plt.legend(['loss'])\n",
    "plt.show()\n",
    "\n",
    "plt.legend(['accuracy'])\n",
    "plt.plot(history.history['acc'])\n",
    "plt.show()\n",
    "\n",
    "# Now let's see the predictions after trainign\n",
    "print(\"\")\n",
    "print(\"~~~ trained predictions\")\n",
    "predictions = model_softmax.predict(x)\n",
    "print(predictions)\n",
    "print(\"---\")\n",
    "print(predictions.max(), predictions.min())\n",
    "print(\"---\")\n",
    "print(predictions.mean())"
   ]
  },
  {
   "cell_type": "markdown",
   "metadata": {},
   "source": [
    "Let's analyze this part by part.\n",
    "\n",
    "About the pre-trained predictions, we can see that the outputs seem to move in a range of 0-1 but, even though it might seem strange, there's a mean of 0,333. This is caused by the nature of the operation, the mean should be almost aways equal to 1 divided by the number of classes, so 1/3 = 0.333.  \n",
    "Another interesting thing to note is that the values of each predictions always sum up to one (0.16+0.02+0.82 = 1) this gives us the hint that the output seems like a probability distribution.\n",
    "\n",
    "About the training, after one partial success (sigmoid) and one failure (tanh) we're very suprised to see this model train so well! We can see that the accuracy reached the 100% after only ~180 epochs (we trained it for 1000) and the shape of the loss tells us that the model is capable to fit even more. Yay!\n",
    "\n",
    "Finally, about the predictions after training, the mean and variance seem to be the same but looking at the values we can see that (because of the nature of the operation) the model has learned to power up some values close to one while keeping the rest close to 0, there is no ambiguety here like there was with sigmoid. It becomes very obvious to know what the model has learned, and what is the final prediction.\n",
    "\n",
    "IMO it seems that sigmoid works VERY WELL as a final layer of a categorycal problem! \n",
    "Be careful as it will not work as well in hidden layers, as it squishes the hidden values too much, loosing to much information due to the fading gradient !!!"
   ]
  },
  {
   "cell_type": "markdown",
   "metadata": {},
   "source": [
    "----\n",
    "Let's go now with **relu**\n",
    "\n",
    "This is the most popular and used activation, but it's generaly preferred as an activation in the hidden layers, let's see why"
   ]
  },
  {
   "cell_type": "code",
   "execution_count": 110,
   "metadata": {},
   "outputs": [
    {
     "name": "stdout",
     "output_type": "stream",
     "text": [
      "_________________________________________________________________\n",
      "Layer (type)                 Output Shape              Param #   \n",
      "=================================================================\n",
      "input (Dense)                (None, 3)                 33        \n",
      "_________________________________________________________________\n",
      "relu (Activation)            (None, 3)                 0         \n",
      "=================================================================\n",
      "Total params: 33\n",
      "Trainable params: 33\n",
      "Non-trainable params: 0\n",
      "_________________________________________________________________\n",
      "\n",
      "~~~ pre-trained predictions\n",
      "[[0.90719795 0.         2.2959151 ]\n",
      " [0.         0.33512932 0.        ]\n",
      " [0.         0.         0.50429004]\n",
      " [0.1005812  1.7293818  1.5515486 ]\n",
      " [0.         0.58397263 0.7209135 ]]\n",
      "---\n",
      "2.2959151 0.0\n",
      "---\n",
      "0.5819287\n",
      "\n",
      "~~~ model training\n"
     ]
    },
    {
     "data": {
      "image/png": "[encoded data removed]",
      "text/plain": [
       "<matplotlib.figure.Figure at 0x1249b4860>"
      ]
     },
     "metadata": {},
     "output_type": "display_data"
    },
    {
     "data": {
      "image/png": "[encoded data removed]",
      "text/plain": [
       "<matplotlib.figure.Figure at 0x1242ff6a0>"
      ]
     },
     "metadata": {},
     "output_type": "display_data"
    },
    {
     "name": "stdout",
     "output_type": "stream",
     "text": [
      "\n",
      "~~~ trained predictions\n",
      "[[0.         0.         2.016315  ]\n",
      " [0.         0.45480382 0.        ]\n",
      " [0.         0.         0.8865733 ]\n",
      " [0.         2.3501985  0.        ]\n",
      " [0.         0.7701211  0.33278725]]\n",
      "---\n",
      "2.3501985 0.0\n",
      "---\n",
      "0.45405325\n"
     ]
    }
   ],
   "source": [
    "# relu\n",
    "model_relu = Sequential()\n",
    "model_relu.add(Dense(3, input_shape=(10,), name=\"input\"))\n",
    "model_relu.add(Activation(relu, name=\"relu\"))\n",
    "\n",
    "model_relu.summary()\n",
    "\n",
    "# Let's first take a look at a few predictions of the model without training\n",
    "print(\"\")\n",
    "print(\"~~~ pre-trained predictions\")\n",
    "predictions = model_relu.predict(x)\n",
    "print(predictions)\n",
    "print(\"---\")\n",
    "print(predictions.max(), predictions.min())\n",
    "print(\"---\")\n",
    "print(predictions.mean())\n",
    "\n",
    "# we now train the model\n",
    "print(\"\")\n",
    "print(\"~~~ model training\")\n",
    "model_relu.compile(optimizer='sgd', loss='categorical_crossentropy', metrics=['acc'])\n",
    "history = model_relu.fit(x, y, epochs=1000, verbose=0)\n",
    "\n",
    "plt.plot(history.history['loss'])\n",
    "plt.legend(['loss'])\n",
    "plt.show()\n",
    "\n",
    "plt.legend(['accuracy'])\n",
    "plt.plot(history.history['acc'])\n",
    "plt.show()\n",
    "\n",
    "# Now let's see the predictions after trainign\n",
    "print(\"\")\n",
    "print(\"~~~ trained predictions\")\n",
    "predictions = model_relu.predict(x)\n",
    "print(predictions)\n",
    "print(\"---\")\n",
    "print(predictions.max(), predictions.min())\n",
    "print(\"---\")\n",
    "print(predictions.mean())"
   ]
  },
  {
   "cell_type": "markdown",
   "metadata": {},
   "source": [
    "Let's analyze this part by part.\n",
    "\n",
    "About the pre-trained predictions, the outputs are in a range of 0 to 2,3. Actually, relu doesn't impose a max for the range so the model is in the range of 0-infinity. The mean is 0.58, this doesn't seem to give any information by itself. Looking at the values we see some 0s and some positive values.\n",
    "\n",
    "About the training, the loss seemes to have hit a plateau after around 200 epochs but the accuracy didn't seem to improve at all getting stuck at 0.4, not good, not goooood :(\n",
    "\n",
    "Finally, about the predictions after training, the range seems to have increased a little bit, it's now 0 to 2.35 but the mean has decreased being now 0.45. This tells us that relu doesn't follow any kind of distribution, model learned to set some 0s and some positive values, but doesn't seem to have learned the correct predictions.\n",
    "\n",
    "Why? Because of the nature of the operation, in a single layer of ReLU if the values are 0 there is no way the model will change that, so if the correct value is in a position that the initial prediction set to 0, it will never learn.\n",
    "We can see a funny consecuence of this, and it's that if we randomize the values enough times so initially any of the correct values is predicted as 0, the model will work pretty well! But in a shallow model this doesn't work :(\n",
    "\n",
    "IMO it seems that relu doesn't work well as an activation layer for the output of a classification problem. It COULD work though, if we remove the 0s problem by adding some hidden layers, but it will never be the ideal, because it could take much more time to learn if the outputs are very high."
   ]
  },
  {
   "cell_type": "markdown",
   "metadata": {},
   "source": [
    "----\n",
    "Let's go now with **leaky relu**\n",
    "\n",
    "This is variation of the ReLU that solves the 0s problem, so I'm going to guess that it will work better than the ReLU but let's see."
   ]
  },
  {
   "cell_type": "code",
   "execution_count": 114,
   "metadata": {},
   "outputs": [
    {
     "name": "stdout",
     "output_type": "stream",
     "text": [
      "_________________________________________________________________\n",
      "Layer (type)                 Output Shape              Param #   \n",
      "=================================================================\n",
      "input (Dense)                (None, 3)                 33        \n",
      "_________________________________________________________________\n",
      "relu (Activation)            (None, 3)                 0         \n",
      "=================================================================\n",
      "Total params: 33\n",
      "Trainable params: 33\n",
      "Non-trainable params: 0\n",
      "_________________________________________________________________\n",
      "\n",
      "~~~ pre-trained predictions\n",
      "[[ 9.3719065e-01  1.9308243e+00 -2.5536511e-02]\n",
      " [-2.9509276e-04  6.1618912e-01  5.6603360e-01]\n",
      " [-9.8429620e-03  8.8597006e-01  1.6449414e+00]\n",
      " [ 2.6999810e+00  5.3981167e-01 -1.0586169e-02]\n",
      " [ 1.3728960e+00  4.5086497e-01 -1.8345760e-02]]\n",
      "---\n",
      "2.699981 -0.025536511\n",
      "---\n",
      "0.7720064\n",
      "\n",
      "~~~ model training\n"
     ]
    },
    {
     "data": {
      "image/png": "[encoded data removed]",
      "text/plain": [
       "<matplotlib.figure.Figure at 0x12099bc50>"
      ]
     },
     "metadata": {},
     "output_type": "display_data"
    },
    {
     "data": {
      "image/png": "[encoded data removed]",
      "text/plain": [
       "<matplotlib.figure.Figure at 0x12066b400>"
      ]
     },
     "metadata": {},
     "output_type": "display_data"
    },
    {
     "name": "stdout",
     "output_type": "stream",
     "text": [
      "\n",
      "~~~ trained predictions\n",
      "[[ 5.0316197e-01  1.7596383e+00 -3.2398224e-02]\n",
      " [-5.9180479e-03  4.2344630e-04  1.0608001e+00]\n",
      " [-3.3544479e-03  1.1593986e+00 -2.0972582e-05]\n",
      " [ 5.5771619e-03  2.0479093e+00 -5.7644579e-03]\n",
      " [ 8.1088138e-01  6.7752451e-03 -2.0072155e-02]]\n",
      "---\n",
      "2.0479093 -0.032398224\n",
      "---\n",
      "0.4858025\n"
     ]
    }
   ],
   "source": [
    "# lrelu\n",
    "model_lrelu = Sequential()\n",
    "model_lrelu.add(Dense(3, input_shape=(10,), name=\"input\"))\n",
    "model_lrelu.add(LeakyReLU(0.01, name=\"relu\"))\n",
    "\n",
    "model_relu.summary()\n",
    "\n",
    "# Let's first take a look at a few predictions of the model without training\n",
    "print(\"\")\n",
    "print(\"~~~ pre-trained predictions\")\n",
    "predictions = model_lrelu.predict(x)\n",
    "print(predictions)\n",
    "print(\"---\")\n",
    "print(predictions.max(), predictions.min())\n",
    "print(\"---\")\n",
    "print(predictions.mean())\n",
    "\n",
    "# we now train the model\n",
    "print(\"\")\n",
    "print(\"~~~ model training\")\n",
    "model_lrelu.compile(optimizer='sgd', loss='categorical_crossentropy', metrics=['acc'])\n",
    "history = model_lrelu.fit(x, y, epochs=1000, verbose=0)\n",
    "\n",
    "plt.plot(history.history['loss'])\n",
    "plt.legend(['loss'])\n",
    "plt.show()\n",
    "\n",
    "plt.legend(['accuracy'])\n",
    "plt.plot(history.history['acc'])\n",
    "plt.show()\n",
    "\n",
    "# Now let's see the predictions after trainign\n",
    "print(\"\")\n",
    "print(\"~~~ trained predictions\")\n",
    "predictions = model_lrelu.predict(x)\n",
    "print(predictions)\n",
    "print(\"---\")\n",
    "print(predictions.max(), predictions.min())\n",
    "print(\"---\")\n",
    "print(predictions.mean())"
   ]
  },
  {
   "cell_type": "markdown",
   "metadata": {},
   "source": [
    "Let's analyze this part by part.\n",
    "\n",
    "About the pre-trained predictions, the outputs are in a range of -0.03 to 2,7. Actually, relu doesn't impose a max nor a min for the range so the model is in the range of -infinity to infinity. \n",
    "We can see though that the movement towards negative values is much smaller, this is caused by the nature of the operation, that multiplies the negative values by x0.01 (this is a parameter, I choose this one arbitrarily).\n",
    "The mean is 0.77, but as with ReLU this doesn't seem to give any information by itself.\n",
    "\n",
    "About the training, the loss seemes to decrease properly, but sadly it hits a plateau after 380 epochs. At around 200 epochs the model hits its max accuracy of 80%\n",
    "\n",
    "Finally, about the predictions after training, the range seems to have shifter a little bit towards 0, it's now 0.033 to 2 but the mean has decreased being now 0.48. This tells us that the leaky relu also doesn't follow any kind of distribution.\n",
    "\n",
    "IMO it seems that leaky relu is also NOT THE BEST as an activation layer for the output of a classification problem. \n",
    "It solves the problem with the 0s that had the ReLU model so it works much better, but it still has a problem fitting high or low values to 0 and 1."
   ]
  },
  {
   "cell_type": "markdown",
   "metadata": {},
   "source": [
    "----\n",
    "Let's go now with **leaky elu**\n",
    "\n",
    "Finally lets try elu. It's a mistery for me as I do not know the implementation of it, but hopefully this analysis will help us undersdand it better."
   ]
  },
  {
   "cell_type": "code",
   "execution_count": 119,
   "metadata": {},
   "outputs": [
    {
     "name": "stdout",
     "output_type": "stream",
     "text": [
      "_________________________________________________________________\n",
      "Layer (type)                 Output Shape              Param #   \n",
      "=================================================================\n",
      "input (Dense)                (None, 3)                 33        \n",
      "_________________________________________________________________\n",
      "elu (Activation)             (None, 3)                 0         \n",
      "=================================================================\n",
      "Total params: 33\n",
      "Trainable params: 33\n",
      "Non-trainable params: 0\n",
      "_________________________________________________________________\n",
      "\n",
      "~~~ pre-trained predictions\n",
      "[[-0.9232144   1.8610909   0.9773937 ]\n",
      " [ 0.9129013  -0.2885369  -0.44073778]\n",
      " [ 1.5642755   1.8806123   1.7354904 ]\n",
      " [-0.7151167   0.4838999  -0.07944727]\n",
      " [-0.81829035  0.5162267   0.7964347 ]]\n",
      "---\n",
      "1.8806123 -0.9232144\n",
      "---\n",
      "0.49753216\n",
      "\n",
      "~~~ model training\n"
     ]
    },
    {
     "data": {
      "image/png": "[encoded data removed]",
      "text/plain": [
       "<matplotlib.figure.Figure at 0x125849320>"
      ]
     },
     "metadata": {},
     "output_type": "display_data"
    },
    {
     "data": {
      "image/png": "[encoded data removed]",
      "text/plain": [
       "<matplotlib.figure.Figure at 0x125bcf860>"
      ]
     },
     "metadata": {},
     "output_type": "display_data"
    },
    {
     "name": "stdout",
     "output_type": "stream",
     "text": [
      "\n",
      "~~~ trained predictions\n",
      "[[ -0.94915956  -1.           1.2272292 ]\n",
      " [  1.0288106   -1.          -0.39465106]\n",
      " [  0.33675778 251.8037       0.61315924]\n",
      " [ -0.5990375   -1.           0.6220208 ]\n",
      " [ -0.83801085  -1.           1.0730296 ]]\n",
      "---\n",
      "251.8037 -1.0\n",
      "---\n",
      "16.661589\n"
     ]
    }
   ],
   "source": [
    "# lrelu\n",
    "model_elu = Sequential()\n",
    "model_elu.add(Dense(3, input_shape=(10,), name=\"input\"))\n",
    "model_elu.add(Activation(elu, name=\"elu\"))\n",
    "\n",
    "model_elu.summary()\n",
    "\n",
    "# Let's first take a look at a few predictions of the model without training\n",
    "print(\"\")\n",
    "print(\"~~~ pre-trained predictions\")\n",
    "predictions = model_elu.predict(x)\n",
    "print(predictions)\n",
    "print(\"---\")\n",
    "print(predictions.max(), predictions.min())\n",
    "print(\"---\")\n",
    "print(predictions.mean())\n",
    "\n",
    "# we now train the model\n",
    "print(\"\")\n",
    "print(\"~~~ model training\")\n",
    "model_elu.compile(optimizer='sgd', loss='categorical_crossentropy', metrics=['acc'])\n",
    "history = model_elu.fit(x, y, epochs=1000, verbose=0)\n",
    "\n",
    "plt.plot(history.history['loss'])\n",
    "plt.legend(['loss'])\n",
    "plt.show()\n",
    "\n",
    "plt.legend(['accuracy'])\n",
    "plt.plot(history.history['acc'])\n",
    "plt.show()\n",
    "\n",
    "# Now let's see the predictions after trainign\n",
    "print(\"\")\n",
    "print(\"~~~ trained predictions\")\n",
    "predictions = model_elu.predict(x)\n",
    "print(predictions)\n",
    "print(\"---\")\n",
    "print(predictions.max(), predictions.min())\n",
    "print(\"---\")\n",
    "print(predictions.mean())"
   ]
  },
  {
   "cell_type": "markdown",
   "metadata": {},
   "source": [
    "Let's analyze this part by part.\n",
    "\n",
    "About the pre-trained predictions, the outputs are in a range of -0.93 to 1.9, the mean of 0.5 could give us some hint about the distribution as it's (max+min)/2 , though it could be just a coincidence, or could be a reflection of the intial random weight distribution if the elu operation doesn't reflect a distribution by itself.\n",
    "\n",
    "About the training, it's a total disaster, not much to say that the graphs don't tell... :(\n",
    "\n",
    "Finally, about the predictions after training, the range seems to have changed a lot, from -1 to 252!!! \n",
    "Looking at the data, there seems to be a minimum at -1 as a lot of values have taken that value and doesn't seem accidental, but it's really weird that a single value has increased to 251 while the rest seem to be kept pretty low!! I don't know the reason for that :( \n",
    "\n",
    "About the mean, it's become clear that the previous assumption was just a coincidence, and the mean doesn't seem to follow any distribution.\n",
    "\n",
    "IMO, as the other ReLU and variations, this doesn't seem like a good activation for classification. In previous experiments I've seen a good performance of this layer for regression problems, but I'm not sure why. It seems to keep some kind of smooth relation between the data like Sigmoid, keeps some properties of ReLU by keeping prositive values unaltered and avoids the 0s problem of leakyRely by setting the min to -1."
   ]
  },
  {
   "cell_type": "code",
   "execution_count": null,
   "metadata": {},
   "outputs": [],
   "source": []
  }
 ],
 "metadata": {
  "kernelspec": {
   "display_name": "Python 3",
   "language": "python",
   "name": "python3"
  },
  "language_info": {
   "codemirror_mode": {
    "name": "ipython",
    "version": 3
   },
   "file_extension": ".py",
   "mimetype": "text/x-python",
   "name": "python",
   "nbconvert_exporter": "python",
   "pygments_lexer": "ipython3",
   "version": "3.6.5"
  }
 },
 "nbformat": 4,
 "nbformat_minor": 2
}
