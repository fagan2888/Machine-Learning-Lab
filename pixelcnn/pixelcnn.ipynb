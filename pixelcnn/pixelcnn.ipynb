{
 "cells": [
  {
   "cell_type": "code",
   "execution_count": 175,
   "metadata": {},
   "outputs": [],
   "source": [
    "import torch\n",
    "import torchvision\n",
    "from torch import nn, optim\n",
    "from torch.utils.data import DataLoader\n",
    "import matplotlib.pyplot as plt\n",
    "import math"
   ]
  },
  {
   "cell_type": "code",
   "execution_count": 176,
   "metadata": {},
   "outputs": [],
   "source": [
    "mnist = torchvision.datasets.MNIST('data', train=True, transform=torchvision.transforms.ToTensor(), download=True)\n",
    "dataloader = DataLoader(mnist, batch_size=16, shuffle=True)"
   ]
  },
  {
   "cell_type": "code",
   "execution_count": 177,
   "metadata": {},
   "outputs": [
    {
     "data": {
      "image/png": "[encoded data removed]",
      "text/plain": [
       "<Figure size 432x288 with 1 Axes>"
      ]
     },
     "metadata": {
      "needs_background": "light"
     },
     "output_type": "display_data"
    }
   ],
   "source": [
    "images, labels = next(iter(dataloader))\n",
    "\n",
    "plt.imshow(images[0, 0], cmap='Greys')\n",
    "plt.show()"
   ]
  },
  {
   "cell_type": "code",
   "execution_count": 186,
   "metadata": {},
   "outputs": [],
   "source": [
    "class GatedConvolution(nn.Module):\n",
    "    def __init__(self, in_channels, out_channels, kernel_size, mask_center = False):\n",
    "        super(GatedConvolution, self).__init__()\n",
    "\n",
    "        mask = torch.ones(kernel_size, kernel_size)\n",
    "        mask[kernel_size // 2, kernel_size // 2 + int(mask_center == False):] = 0\n",
    "        mask[kernel_size // 2 + 1:] = 0\n",
    "        self.register_buffer('mask', mask)\n",
    "        \n",
    "        self.conv = nn.Conv2d(in_channels, out_channels, kernel_size=kernel_size, padding=kernel_size // 2, bias=False)\n",
    "        self.bn = nn.BatchNorm2d(out_channels)\n",
    "        self.relu = nn.ReLU()\n",
    "        \n",
    "    def forward(self, x):\n",
    "        # set the focus point of the convolution to 0\n",
    "        self.conv.weight.data *= self.mask\n",
    "        \n",
    "        x = self.conv(x)\n",
    "        x = self.bn(x)\n",
    "        x = self.relu(x)\n",
    "        \n",
    "        return x\n",
    "\n",
    "class PixelCNN(nn.Module):\n",
    "    def __init__(self, hidden_size=32, hidden_count=15):\n",
    "        super(PixelCNN, self).__init__()\n",
    "        \n",
    "        self.cnn = nn.Sequential(\n",
    "            GatedConvolution(1, hidden_size, kernel_size=7, mask_center=True),\n",
    "            *([GatedConvolution(hidden_size, hidden_size, kernel_size=3)]*hidden_count),\n",
    "            nn.Conv2d(hidden_size, 256, kernel_size=1, bias=False),\n",
    "        )\n",
    "        \n",
    "    def forward(self, x):\n",
    "        return self.cnn(x).permute(0, 2, 3, 1)"
   ]
  },
  {
   "cell_type": "code",
   "execution_count": 187,
   "metadata": {},
   "outputs": [
    {
     "data": {
      "text/plain": [
       "PixelCNN(\n",
       "  (cnn): Sequential(\n",
       "    (0): GatedConvolution(\n",
       "      (conv): Conv2d(1, 64, kernel_size=(7, 7), stride=(1, 1), padding=(3, 3), bias=False)\n",
       "      (bn): BatchNorm2d(64, eps=1e-05, momentum=0.1, affine=True, track_running_stats=True)\n",
       "      (relu): ReLU()\n",
       "    )\n",
       "    (1): GatedConvolution(\n",
       "      (conv): Conv2d(64, 64, kernel_size=(3, 3), stride=(1, 1), padding=(1, 1), bias=False)\n",
       "      (bn): BatchNorm2d(64, eps=1e-05, momentum=0.1, affine=True, track_running_stats=True)\n",
       "      (relu): ReLU()\n",
       "    )\n",
       "    (2): GatedConvolution(\n",
       "      (conv): Conv2d(64, 64, kernel_size=(3, 3), stride=(1, 1), padding=(1, 1), bias=False)\n",
       "      (bn): BatchNorm2d(64, eps=1e-05, momentum=0.1, affine=True, track_running_stats=True)\n",
       "      (relu): ReLU()\n",
       "    )\n",
       "    (3): GatedConvolution(\n",
       "      (conv): Conv2d(64, 64, kernel_size=(3, 3), stride=(1, 1), padding=(1, 1), bias=False)\n",
       "      (bn): BatchNorm2d(64, eps=1e-05, momentum=0.1, affine=True, track_running_stats=True)\n",
       "      (relu): ReLU()\n",
       "    )\n",
       "    (4): GatedConvolution(\n",
       "      (conv): Conv2d(64, 64, kernel_size=(3, 3), stride=(1, 1), padding=(1, 1), bias=False)\n",
       "      (bn): BatchNorm2d(64, eps=1e-05, momentum=0.1, affine=True, track_running_stats=True)\n",
       "      (relu): ReLU()\n",
       "    )\n",
       "    (5): GatedConvolution(\n",
       "      (conv): Conv2d(64, 64, kernel_size=(3, 3), stride=(1, 1), padding=(1, 1), bias=False)\n",
       "      (bn): BatchNorm2d(64, eps=1e-05, momentum=0.1, affine=True, track_running_stats=True)\n",
       "      (relu): ReLU()\n",
       "    )\n",
       "    (6): GatedConvolution(\n",
       "      (conv): Conv2d(64, 64, kernel_size=(3, 3), stride=(1, 1), padding=(1, 1), bias=False)\n",
       "      (bn): BatchNorm2d(64, eps=1e-05, momentum=0.1, affine=True, track_running_stats=True)\n",
       "      (relu): ReLU()\n",
       "    )\n",
       "    (7): GatedConvolution(\n",
       "      (conv): Conv2d(64, 64, kernel_size=(3, 3), stride=(1, 1), padding=(1, 1), bias=False)\n",
       "      (bn): BatchNorm2d(64, eps=1e-05, momentum=0.1, affine=True, track_running_stats=True)\n",
       "      (relu): ReLU()\n",
       "    )\n",
       "    (8): Conv2d(64, 256, kernel_size=(1, 1), stride=(1, 1), bias=False)\n",
       "  )\n",
       ")"
      ]
     },
     "execution_count": 187,
     "metadata": {},
     "output_type": "execute_result"
    }
   ],
   "source": [
    "pixelCNN = PixelCNN(64, 7)\n",
    "pixelCNN.cuda()"
   ]
  },
  {
   "cell_type": "code",
   "execution_count": null,
   "metadata": {},
   "outputs": [
    {
     "name": "stdout",
     "output_type": "stream",
     "text": [
      "Epoch 1 (500/3750) - loss 3.518610071897507\n",
      "Epoch 1 (1000/3750) - loss 2.297934065282345\n",
      "Epoch 1 (1500/3750) - loss 1.823931870063146\n",
      "Epoch 1 (2000/3750) - loss 1.5791080386936664\n",
      "Epoch 1 (2500/3750) - loss 1.4304657124996185\n",
      "Epoch 1 (3000/3750) - loss 1.329449253420035\n",
      "Epoch 1 (3500/3750) - loss 1.2558438196693147\n",
      "Epoch 1 (3750/3750) - loss 1.2260171822865804\n",
      "Epoch 2 (500/3750) - loss 0.8034354287385941\n",
      "Epoch 2 (1000/3750) - loss 0.8015150263309478\n",
      "Epoch 2 (1500/3750) - loss 0.800840026696523\n",
      "Epoch 2 (2000/3750) - loss 0.7999077412188054\n",
      "Epoch 2 (2500/3750) - loss 0.7985126483917236\n",
      "Epoch 2 (3000/3750) - loss 0.7971583453615506\n",
      "Epoch 2 (3500/3750) - loss 0.795571159686361\n",
      "Epoch 2 (3750/3750) - loss 0.7950209711869558\n",
      "Epoch 3 (500/3750) - loss 0.7835225384235383\n",
      "Epoch 3 (1000/3750) - loss 0.7820484685301781\n",
      "Epoch 3 (1500/3750) - loss 0.7809921594063441\n",
      "Epoch 3 (2000/3750) - loss 0.7815805571079254\n",
      "Epoch 3 (2500/3750) - loss 0.7806578437805176\n",
      "Epoch 3 (3000/3750) - loss 0.7794840499957403\n",
      "Epoch 3 (3500/3750) - loss 0.7790241908005305\n",
      "Epoch 3 (3750/3750) - loss 0.778732910044988\n",
      "Epoch 4 (500/3750) - loss 0.7760686005353927\n",
      "Epoch 4 (1000/3750) - loss 0.7736248915791512\n",
      "Epoch 4 (1500/3750) - loss 0.7730393823782603\n",
      "Epoch 4 (2000/3750) - loss 0.7725802608132363\n",
      "Epoch 4 (2500/3750) - loss 0.7713568784236908\n",
      "Epoch 4 (3000/3750) - loss 0.7707316598892212\n",
      "Epoch 4 (3500/3750) - loss 0.7707938695805413\n",
      "Epoch 4 (3750/3750) - loss 0.7707238676548004\n",
      "Epoch 5 (500/3750) - loss 0.7678042590618134\n",
      "Epoch 5 (1000/3750) - loss 0.7680454064011574\n",
      "Epoch 5 (1500/3750) - loss 0.7677325385411581\n",
      "Epoch 5 (2000/3750) - loss 0.766791980266571\n",
      "Epoch 5 (2500/3750) - loss 0.7667632609844208\n",
      "Epoch 5 (3000/3750) - loss 0.7659734602173169\n",
      "Epoch 5 (3500/3750) - loss 0.7661499668530055\n",
      "Epoch 5 (3750/3750) - loss 0.7657714172999064\n",
      "Epoch 6 (500/3750) - loss 0.763813600897789\n",
      "Epoch 6 (1000/3750) - loss 0.7646220854520798\n",
      "Epoch 6 (1500/3750) - loss 0.7641590052843094\n",
      "Epoch 6 (2000/3750) - loss 0.7639452088773251\n",
      "Epoch 6 (2500/3750) - loss 0.763062665963173\n",
      "Epoch 6 (3000/3750) - loss 0.7630053224960963\n",
      "Epoch 6 (3500/3750) - loss 0.7624382635354996\n",
      "Epoch 6 (3750/3750) - loss 0.7622520262877146\n",
      "Epoch 7 (500/3750) - loss 0.7596410715579986\n",
      "Epoch 7 (1000/3750) - loss 0.7592292007803917\n",
      "Epoch 7 (1500/3750) - loss 0.7602619382143021\n",
      "Epoch 7 (2000/3750) - loss 0.7596915042996406\n",
      "Epoch 7 (2500/3750) - loss 0.7602702331066131\n",
      "Epoch 7 (3000/3750) - loss 0.7599711321393648\n",
      "Epoch 7 (3500/3750) - loss 0.7595166370868683\n",
      "Epoch 7 (3750/3750) - loss 0.7593757637023926\n"
     ]
    }
   ],
   "source": [
    "epochs = 20\n",
    "print_every = 500\n",
    "\n",
    "optimizer = optim.Adam(pixelCNN.parameters(), lr=0.0002)\n",
    "criterion = nn.CrossEntropyLoss(weight=torch.tensor([1, 10]).cuda())\n",
    "\n",
    "for e in range(1, epochs+1):\n",
    "    total_loss = 0\n",
    "    pixelCNN.train()\n",
    "    for batch, (images, labels) in enumerate(dataloader):\n",
    "        images = images.cuda()\n",
    "        target = (images * 255).long().view(-1)\n",
    "        \n",
    "        pred = pixelCNN(images)\n",
    "        pred = pred.contiguous().view(-1, 256)\n",
    "        \n",
    "        loss = criterion(pred, target)\n",
    "        total_loss += loss.item()\n",
    "        \n",
    "        optimizer.zero_grad()\n",
    "        loss.backward()\n",
    "        optimizer.step()\n",
    "        \n",
    "        if (batch+1) % print_every == 0 or (batch+1) == len(dataloader):\n",
    "            print(f\"Epoch {e} ({batch+1}/{len(dataloader)}) - loss {total_loss/(batch+1)}\")"
   ]
  },
  {
   "cell_type": "code",
   "execution_count": null,
   "metadata": {},
   "outputs": [],
   "source": [
    "# check generation\n",
    "images, labels = next(iter(dataloader))\n",
    "pixelCNN.eval()\n",
    "with torch.no_grad():\n",
    "    pred = pixelCNN(images.cuda())\n",
    "    pred = pred.softmax(-1).argmax(-1)\n",
    "\n",
    "plt.imshow(pred[0].cpu(), cmap='Greys')\n",
    "plt.show()"
   ]
  },
  {
   "cell_type": "code",
   "execution_count": null,
   "metadata": {},
   "outputs": [],
   "source": [
    "# sample\n",
    "num_samples = 1\n",
    "sample = torch.zeros(num_samples, 1, 28, 28).cuda()\n",
    "temperature = 0.7\n",
    "\n",
    "pixelCNN.eval()\n",
    "with torch.no_grad():\n",
    "    for i in range(28):\n",
    "        for j in range(28):\n",
    "            pred = pixelCNN(sample)\n",
    "            pred = (pred[:, i, j]/temperature).softmax(dim=-1)\n",
    "            \n",
    "            pixel = torch.multinomial(pred, 1).float() / 255.\n",
    "            sample[:, :, i, j] = pixel\n",
    "            \n",
    "plt.imshow(sample[0,0].cpu(), cmap='Greys')\n",
    "plt.show()"
   ]
  },
  {
   "cell_type": "code",
   "execution_count": null,
   "metadata": {},
   "outputs": [],
   "source": []
  }
 ],
 "metadata": {
  "kernelspec": {
   "display_name": "Python 3",
   "language": "python",
   "name": "python3"
  },
  "language_info": {
   "codemirror_mode": {
    "name": "ipython",
    "version": 3
   },
   "file_extension": ".py",
   "mimetype": "text/x-python",
   "name": "python",
   "nbconvert_exporter": "python",
   "pygments_lexer": "ipython3",
   "version": "3.7.3"
  }
 },
 "nbformat": 4,
 "nbformat_minor": 2
}
