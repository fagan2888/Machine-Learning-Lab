{
  "nbformat": 4,
  "nbformat_minor": 0,
  "metadata": {
    "kernelspec": {
      "name": "python3",
      "display_name": "Python 3"
    },
    "language_info": {
      "codemirror_mode": {
        "name": "ipython",
        "version": 3
      },
      "file_extension": ".py",
      "mimetype": "text/x-python",
      "name": "python",
      "nbconvert_exporter": "python",
      "pygments_lexer": "ipython3",
      "version": "3.7.3"
    },
    "colab": {
      "name": "pixelcnn.ipynb",
      "version": "0.3.2",
      "provenance": [],
      "collapsed_sections": []
    },
    "accelerator": "GPU"
  },
  "cells": [
    {
      "cell_type": "code",
      "metadata": {
        "id": "u_Szue5FIOqk",
        "colab_type": "code",
        "colab": {}
      },
      "source": [
        "import torch\n",
        "import torchvision\n",
        "from torch import nn, optim\n",
        "from torch.utils.data import DataLoader\n",
        "import matplotlib.pyplot as plt\n",
        "import math\n",
        "import time\n",
        "import numpy as np"
      ],
      "execution_count": 0,
      "outputs": []
    },
    {
      "cell_type": "code",
      "metadata": {
        "id": "IRypZVztIOqo",
        "colab_type": "code",
        "colab": {}
      },
      "source": [
        "mnist = torchvision.datasets.MNIST('data', train=True, transform=torchvision.transforms.ToTensor(), download=True)\n",
        "dataloader = DataLoader(mnist, batch_size=128, shuffle=True)"
      ],
      "execution_count": 0,
      "outputs": []
    },
    {
      "cell_type": "code",
      "metadata": {
        "id": "8twijjFuIOqr",
        "colab_type": "code",
        "outputId": "b1839af3-6441-457e-a8da-7cb7b48d76cf",
        "colab": {
          "base_uri": "https://localhost:8080/",
          "height": 269
        }
      },
      "source": [
        "images, labels = next(iter(dataloader))\n",
        "\n",
        "plt.imshow(images[0, 0], cmap='Greys_r')\n",
        "plt.show()"
      ],
      "execution_count": 37,
      "outputs": [
        {
          "output_type": "display_data",
          "data": {
            "image/png": "[encoded data removed]",
            "text/plain": [
              "<Figure size 432x288 with 1 Axes>"
            ]
          },
          "metadata": {
            "tags": []
          }
        }
      ]
    },
    {
      "cell_type": "code",
      "metadata": {
        "id": "iJJ2ggNDIOqu",
        "colab_type": "code",
        "colab": {}
      },
      "source": [
        "class MaskedConv2d(nn.Conv2d):\n",
        "\tdef __init__(self, mask_center, *args, **kwargs):\n",
        "\t\tsuper(MaskedConv2d, self).__init__(*args, **kwargs)\n",
        "\t\tself.register_buffer('mask', self.weight.data.clone())\n",
        "\t\t_, _, kH, kW = self.weight.size()\n",
        "\t\tself.mask.fill_(1)\n",
        "\t\tself.mask[:, :, kH // 2, kW // 2 + (mask_center == False):] = 0\n",
        "\t\tself.mask[:, :, kH // 2 + 1:] = 0\n",
        "\n",
        "\tdef forward(self, x):\n",
        "\t\tself.weight.data *= self.mask\n",
        "\t\treturn super(MaskedConv2d, self).forward(x)\n",
        "\n",
        "class Upsample2D(nn.Module):\n",
        "    def __init__(self, scale_factor, mode='nearest'):\n",
        "        super(Upsample2D, self).__init__()\n",
        "        self.interp = nn.functional.interpolate\n",
        "        self.scale_factor = scale_factor\n",
        "        self.mode = mode\n",
        "        \n",
        "    def forward(self, x):\n",
        "        x = self.interp(x, scale_factor=self.scale_factor, mode=self.mode)\n",
        "        return x\n",
        "    \n",
        "class ResidualMaskedConv2d(nn.Module):\n",
        "\tdef __init__(self, hidden_size, kernel_size=3):\n",
        "\t\tsuper(ResidualMaskedConv2d, self).__init__()\n",
        "\t\t\n",
        "\t\tself.residual = nn.Sequential(\n",
        "            MaskedConv2d(False, hidden_size, hidden_size//2, kernel_size=1, bias=False), \n",
        "\t\t\tnn.BatchNorm2d(hidden_size//2),\n",
        "\t\t\tnn.ReLU(inplace=True),\n",
        "\t\t\tMaskedConv2d(False, hidden_size//2, hidden_size//2, kernel_size=kernel_size, padding=kernel_size//2, bias=False), \n",
        "\t\t\tnn.BatchNorm2d(hidden_size//2), \n",
        "\t\t\tnn.ReLU(inplace=True),\n",
        "\t\t\tMaskedConv2d(False, hidden_size//2, hidden_size, kernel_size=1, bias=False), \n",
        "\t\t\tnn.BatchNorm2d(hidden_size),\n",
        "\t\t)\t\n",
        "\n",
        "\tdef forward(self, x):\n",
        "\t\treturn x + self.residual(x)\n",
        "\n",
        "class PixelCNN(nn.Module):\n",
        "    def __init__(self, num_classes, hidden_size=64):\n",
        "        super(PixelCNN, self).__init__()\n",
        "        \n",
        "        self.initial = nn.Sequential(\n",
        "            MaskedConv2d(True, 1, hidden_size, kernel_size=7, padding=3, bias=False), \n",
        "            nn.BatchNorm2d(hidden_size), \n",
        "            nn.ReLU(inplace=True)  \n",
        "        )\n",
        "        \n",
        "        self.class_embedding = nn.Embedding(num_classes, hidden_size)\n",
        "        \n",
        "        self.cnn = nn.Sequential(          \n",
        "            MaskedConv2d(False, hidden_size, hidden_size, kernel_size=7, padding=3, bias=False), nn.BatchNorm2d(hidden_size), nn.ReLU(inplace=True),\n",
        "            MaskedConv2d(False, hidden_size, hidden_size, kernel_size=7, padding=3, bias=False), nn.BatchNorm2d(hidden_size), nn.ReLU(inplace=True),          \n",
        "            MaskedConv2d(False, hidden_size, hidden_size, kernel_size=7, padding=3, bias=False), nn.BatchNorm2d(hidden_size), nn.ReLU(inplace=True),          \n",
        "            ResidualMaskedConv2d(hidden_size),\n",
        "            ResidualMaskedConv2d(hidden_size),\n",
        "            ResidualMaskedConv2d(hidden_size),\n",
        "            MaskedConv2d(False, hidden_size, hidden_size, kernel_size=7, padding=3, bias=False), nn.BatchNorm2d(hidden_size), nn.ReLU(inplace=True),\n",
        "            MaskedConv2d(False, hidden_size, hidden_size, kernel_size=7, padding=3, bias=False), nn.BatchNorm2d(hidden_size), nn.ReLU(inplace=True),\n",
        "            MaskedConv2d(False, hidden_size, hidden_size, kernel_size=7, padding=3, bias=False), nn.BatchNorm2d(hidden_size), nn.ReLU(inplace=True),\n",
        "            \n",
        "            nn.Conv2d(hidden_size, 256, kernel_size=1),\n",
        "        )\n",
        "        \n",
        "    def forward(self, x, y=None):\n",
        "        x = self.initial(x)\n",
        "        if y is not None:\n",
        "            y = self.class_embedding(y).unsqueeze(-1).unsqueeze(-1).expand(x.shape)\n",
        "            x = x + y\n",
        "        x = self.cnn(x)\n",
        "        return x"
      ],
      "execution_count": 0,
      "outputs": []
    },
    {
      "cell_type": "code",
      "metadata": {
        "id": "do0LpmCrQOlJ",
        "colab_type": "code",
        "outputId": "fb88dcd4-bf6c-4ad9-9a25-df9f68645e72",
        "colab": {
          "base_uri": "https://localhost:8080/",
          "height": 1000
        }
      },
      "source": [
        "pixelCNN = PixelCNN(num_classes=10, hidden_size=32)\n",
        "pixelCNN.cuda()"
      ],
      "execution_count": 52,
      "outputs": [
        {
          "output_type": "execute_result",
          "data": {
            "text/plain": [
              "PixelCNN(\n",
              "  (initial): Sequential(\n",
              "    (0): MaskedConv2d(1, 32, kernel_size=(7, 7), stride=(1, 1), padding=(3, 3), bias=False)\n",
              "    (1): BatchNorm2d(32, eps=1e-05, momentum=0.1, affine=True, track_running_stats=True)\n",
              "    (2): ReLU(inplace)\n",
              "  )\n",
              "  (class_embedding): Embedding(10, 32)\n",
              "  (cnn): Sequential(\n",
              "    (0): MaskedConv2d(32, 32, kernel_size=(7, 7), stride=(1, 1), padding=(3, 3), bias=False)\n",
              "    (1): BatchNorm2d(32, eps=1e-05, momentum=0.1, affine=True, track_running_stats=True)\n",
              "    (2): ReLU(inplace)\n",
              "    (3): MaskedConv2d(32, 32, kernel_size=(7, 7), stride=(1, 1), padding=(3, 3), bias=False)\n",
              "    (4): BatchNorm2d(32, eps=1e-05, momentum=0.1, affine=True, track_running_stats=True)\n",
              "    (5): ReLU(inplace)\n",
              "    (6): MaskedConv2d(32, 32, kernel_size=(7, 7), stride=(1, 1), padding=(3, 3), bias=False)\n",
              "    (7): BatchNorm2d(32, eps=1e-05, momentum=0.1, affine=True, track_running_stats=True)\n",
              "    (8): ReLU(inplace)\n",
              "    (9): ResidualMaskedConv2d(\n",
              "      (residual): Sequential(\n",
              "        (0): MaskedConv2d(32, 16, kernel_size=(1, 1), stride=(1, 1), bias=False)\n",
              "        (1): BatchNorm2d(16, eps=1e-05, momentum=0.1, affine=True, track_running_stats=True)\n",
              "        (2): ReLU(inplace)\n",
              "        (3): MaskedConv2d(16, 16, kernel_size=(3, 3), stride=(1, 1), padding=(1, 1), bias=False)\n",
              "        (4): BatchNorm2d(16, eps=1e-05, momentum=0.1, affine=True, track_running_stats=True)\n",
              "        (5): ReLU(inplace)\n",
              "        (6): MaskedConv2d(16, 32, kernel_size=(1, 1), stride=(1, 1), bias=False)\n",
              "        (7): BatchNorm2d(32, eps=1e-05, momentum=0.1, affine=True, track_running_stats=True)\n",
              "      )\n",
              "    )\n",
              "    (10): ResidualMaskedConv2d(\n",
              "      (residual): Sequential(\n",
              "        (0): MaskedConv2d(32, 16, kernel_size=(1, 1), stride=(1, 1), bias=False)\n",
              "        (1): BatchNorm2d(16, eps=1e-05, momentum=0.1, affine=True, track_running_stats=True)\n",
              "        (2): ReLU(inplace)\n",
              "        (3): MaskedConv2d(16, 16, kernel_size=(3, 3), stride=(1, 1), padding=(1, 1), bias=False)\n",
              "        (4): BatchNorm2d(16, eps=1e-05, momentum=0.1, affine=True, track_running_stats=True)\n",
              "        (5): ReLU(inplace)\n",
              "        (6): MaskedConv2d(16, 32, kernel_size=(1, 1), stride=(1, 1), bias=False)\n",
              "        (7): BatchNorm2d(32, eps=1e-05, momentum=0.1, affine=True, track_running_stats=True)\n",
              "      )\n",
              "    )\n",
              "    (11): ResidualMaskedConv2d(\n",
              "      (residual): Sequential(\n",
              "        (0): MaskedConv2d(32, 16, kernel_size=(1, 1), stride=(1, 1), bias=False)\n",
              "        (1): BatchNorm2d(16, eps=1e-05, momentum=0.1, affine=True, track_running_stats=True)\n",
              "        (2): ReLU(inplace)\n",
              "        (3): MaskedConv2d(16, 16, kernel_size=(3, 3), stride=(1, 1), padding=(1, 1), bias=False)\n",
              "        (4): BatchNorm2d(16, eps=1e-05, momentum=0.1, affine=True, track_running_stats=True)\n",
              "        (5): ReLU(inplace)\n",
              "        (6): MaskedConv2d(16, 32, kernel_size=(1, 1), stride=(1, 1), bias=False)\n",
              "        (7): BatchNorm2d(32, eps=1e-05, momentum=0.1, affine=True, track_running_stats=True)\n",
              "      )\n",
              "    )\n",
              "    (12): MaskedConv2d(32, 32, kernel_size=(7, 7), stride=(1, 1), padding=(3, 3), bias=False)\n",
              "    (13): BatchNorm2d(32, eps=1e-05, momentum=0.1, affine=True, track_running_stats=True)\n",
              "    (14): ReLU(inplace)\n",
              "    (15): MaskedConv2d(32, 32, kernel_size=(7, 7), stride=(1, 1), padding=(3, 3), bias=False)\n",
              "    (16): BatchNorm2d(32, eps=1e-05, momentum=0.1, affine=True, track_running_stats=True)\n",
              "    (17): ReLU(inplace)\n",
              "    (18): MaskedConv2d(32, 32, kernel_size=(7, 7), stride=(1, 1), padding=(3, 3), bias=False)\n",
              "    (19): BatchNorm2d(32, eps=1e-05, momentum=0.1, affine=True, track_running_stats=True)\n",
              "    (20): ReLU(inplace)\n",
              "    (21): Conv2d(32, 256, kernel_size=(1, 1), stride=(1, 1))\n",
              "  )\n",
              ")"
            ]
          },
          "metadata": {
            "tags": []
          },
          "execution_count": 52
        }
      ]
    },
    {
      "cell_type": "code",
      "metadata": {
        "id": "2KfWc7FJIOq2",
        "colab_type": "code",
        "colab": {}
      },
      "source": [
        "# sample\n",
        "def sample(num_samples = 5, temperature = 1, label=None):   \n",
        "    sample = torch.zeros(num_samples, 1, 28, 28).cuda()\n",
        "    if label is None:\n",
        "        labels = torch.randint(0, 10, (num_samples,)).cuda()\n",
        "    else:\n",
        "        labels = torch.tensor([label]*num_samples).cuda()\n",
        "    print(labels.tolist())\n",
        "    \n",
        "    pixelCNN.eval()\n",
        "    with torch.no_grad():\n",
        "        for i in range(28):\n",
        "            for j in range(28):\n",
        "                pred = pixelCNN(sample, labels)\n",
        "                pred = (pred[:, :, i, j]/temperature).softmax(dim=-1)                \n",
        "                sample[:, :, i, j] = torch.multinomial(pred, 1).float() / 255. \n",
        "\n",
        "    plt.imshow(torch.cat([s for s in sample], dim=-1)[0].cpu() * 2, cmap='Greys_r')\n",
        "    plt.show()"
      ],
      "execution_count": 0,
      "outputs": []
    },
    {
      "cell_type": "code",
      "metadata": {
        "id": "zz7IWWUOIOqy",
        "colab_type": "code",
        "outputId": "44f57b65-4bd3-4246-c68d-2cfc6f0eaf4f",
        "colab": {
          "base_uri": "https://localhost:8080/",
          "height": 1000
        }
      },
      "source": [
        "epochs = 15\n",
        "print_every = 500\n",
        "\n",
        "optimizer = optim.Adam(pixelCNN.parameters(), lr=1e-3)\n",
        "# scheduler = optim.lr_scheduler.StepLR(optimizer, step_size=5, gamma=0.1)\n",
        "criterion = nn.CrossEntropyLoss() # weight=torch.tensor([1.0]+([2.0]*255)).cuda())\n",
        "\n",
        "for e in range(1, epochs+1):\n",
        "    total_loss = 0\n",
        "    pixelCNN.train()\n",
        "    start_time = time.time()\n",
        "    for batch, (images, labels) in enumerate(dataloader):\n",
        "        images, labels = images.cuda(), labels.cuda()\n",
        "        target = (images[:,0] * 255).long()\n",
        "        \n",
        "        pred = pixelCNN(images, labels)       \n",
        "        loss = criterion(pred, target)\n",
        "        \n",
        "        optimizer.zero_grad()\n",
        "        loss.backward()\n",
        "        optimizer.step()\n",
        "        \n",
        "        total_loss += loss.item()\n",
        "        \n",
        "        if (batch+1) % print_every == 0 or (batch+1) == len(dataloader):\n",
        "            elapsed_time = time.time() - start_time\n",
        "            start_time = time.time()\n",
        "            print(f\"Epoch {e} ({batch+1}/{len(dataloader)}) - loss {total_loss/(batch+1)} ({elapsed_time:.1f}s)\")\n",
        "    \n",
        "    sample(num_samples = 5) # sample after every epoch\n",
        "    # scheduler.step()"
      ],
      "execution_count": 70,
      "outputs": [
        {
          "output_type": "stream",
          "text": [
            "Epoch 1 (469/469) - loss 0.73353398049564 (86.3s)\n",
            "[0, 4, 5, 7, 3]\n"
          ],
          "name": "stdout"
        },
        {
          "output_type": "display_data",
          "data": {
            "image/png": "[encoded data removed]",
            "text/plain": [
              "<Figure size 432x288 with 1 Axes>"
            ]
          },
          "metadata": {
            "tags": []
          }
        },
        {
          "output_type": "stream",
          "text": [
            "Epoch 2 (469/469) - loss 0.7292657908854454 (85.6s)\n",
            "[1, 6, 2, 8, 4]\n"
          ],
          "name": "stdout"
        },
        {
          "output_type": "display_data",
          "data": {
            "image/png": "[encoded data removed]",
            "text/plain": [
              "<Figure size 432x288 with 1 Axes>"
            ]
          },
          "metadata": {
            "tags": []
          }
        },
        {
          "output_type": "stream",
          "text": [
            "Epoch 3 (469/469) - loss 0.7256703844456784 (87.4s)\n",
            "[8, 4, 4, 4, 6]\n"
          ],
          "name": "stdout"
        },
        {
          "output_type": "display_data",
          "data": {
            "image/png": "[encoded data removed]",
            "text/plain": [
              "<Figure size 432x288 with 1 Axes>"
            ]
          },
          "metadata": {
            "tags": []
          }
        },
        {
          "output_type": "stream",
          "text": [
            "Epoch 4 (469/469) - loss 0.7216813486776372 (87.0s)\n",
            "[6, 1, 7, 3, 1]\n"
          ],
          "name": "stdout"
        },
        {
          "output_type": "display_data",
          "data": {
            "image/png": "[encoded data removed]",
            "text/plain": [
              "<Figure size 432x288 with 1 Axes>"
            ]
          },
          "metadata": {
            "tags": []
          }
        },
        {
          "output_type": "stream",
          "text": [
            "Epoch 5 (469/469) - loss 0.7176754053975982 (86.2s)\n",
            "[4, 2, 6, 1, 9]\n"
          ],
          "name": "stdout"
        },
        {
          "output_type": "display_data",
          "data": {
            "image/png": "[encoded data removed]",
            "text/plain": [
              "<Figure size 432x288 with 1 Axes>"
            ]
          },
          "metadata": {
            "tags": []
          }
        },
        {
          "output_type": "stream",
          "text": [
            "Epoch 6 (469/469) - loss 0.7131405641783529 (85.6s)\n",
            "[5, 6, 2, 7, 0]\n"
          ],
          "name": "stdout"
        },
        {
          "output_type": "display_data",
          "data": {
            "image/png": "[encoded data removed]",
            "text/plain": [
              "<Figure size 432x288 with 1 Axes>"
            ]
          },
          "metadata": {
            "tags": []
          }
        },
        {
          "output_type": "stream",
          "text": [
            "Epoch 7 (469/469) - loss 0.7088394405236885 (87.6s)\n",
            "[6, 9, 1, 4, 4]\n"
          ],
          "name": "stdout"
        },
        {
          "output_type": "display_data",
          "data": {
            "image/png": "[encoded data removed]",
            "text/plain": [
              "<Figure size 432x288 with 1 Axes>"
            ]
          },
          "metadata": {
            "tags": []
          }
        },
        {
          "output_type": "stream",
          "text": [
            "Epoch 8 (469/469) - loss 0.7046304737835296 (87.1s)\n",
            "[7, 4, 9, 7, 2]\n"
          ],
          "name": "stdout"
        },
        {
          "output_type": "display_data",
          "data": {
            "image/png": "[encoded data removed]",
            "text/plain": [
              "<Figure size 432x288 with 1 Axes>"
            ]
          },
          "metadata": {
            "tags": []
          }
        },
        {
          "output_type": "stream",
          "text": [
            "Epoch 9 (469/469) - loss 0.7009813844013825 (86.4s)\n",
            "[5, 9, 8, 8, 0]\n"
          ],
          "name": "stdout"
        },
        {
          "output_type": "display_data",
          "data": {
            "image/png": "[encoded data removed]",
            "text/plain": [
              "<Figure size 432x288 with 1 Axes>"
            ]
          },
          "metadata": {
            "tags": []
          }
        },
        {
          "output_type": "stream",
          "text": [
            "Epoch 10 (469/469) - loss 0.6973755418110504 (85.6s)\n",
            "[3, 1, 3, 9, 3]\n"
          ],
          "name": "stdout"
        },
        {
          "output_type": "display_data",
          "data": {
            "image/png": "[encoded data removed]",
            "text/plain": [
              "<Figure size 432x288 with 1 Axes>"
            ]
          },
          "metadata": {
            "tags": []
          }
        },
        {
          "output_type": "stream",
          "text": [
            "Epoch 11 (469/469) - loss 0.6940178702126688 (87.3s)\n",
            "[8, 8, 0, 3, 6]\n"
          ],
          "name": "stdout"
        },
        {
          "output_type": "display_data",
          "data": {
            "image/png": "[encoded data removed]",
            "text/plain": [
              "<Figure size 432x288 with 1 Axes>"
            ]
          },
          "metadata": {
            "tags": []
          }
        },
        {
          "output_type": "stream",
          "text": [
            "Epoch 12 (469/469) - loss 0.6911420967024781 (86.9s)\n",
            "[7, 7, 2, 9, 8]\n"
          ],
          "name": "stdout"
        },
        {
          "output_type": "display_data",
          "data": {
            "image/png": "[encoded data removed]",
            "text/plain": [
              "<Figure size 432x288 with 1 Axes>"
            ]
          },
          "metadata": {
            "tags": []
          }
        },
        {
          "output_type": "stream",
          "text": [
            "Epoch 13 (469/469) - loss 0.687860563619813 (86.2s)\n",
            "[6, 5, 8, 2, 3]\n"
          ],
          "name": "stdout"
        },
        {
          "output_type": "display_data",
          "data": {
            "image/png": "[encoded data removed]",
            "text/plain": [
              "<Figure size 432x288 with 1 Axes>"
            ]
          },
          "metadata": {
            "tags": []
          }
        },
        {
          "output_type": "stream",
          "text": [
            "Epoch 14 (469/469) - loss 0.6855906821263116 (85.4s)\n",
            "[3, 9, 3, 5, 3]\n"
          ],
          "name": "stdout"
        },
        {
          "output_type": "display_data",
          "data": {
            "image/png": "[encoded data removed]",
            "text/plain": [
              "<Figure size 432x288 with 1 Axes>"
            ]
          },
          "metadata": {
            "tags": []
          }
        },
        {
          "output_type": "stream",
          "text": [
            "Epoch 15 (469/469) - loss 0.6829533111820343 (87.2s)\n",
            "[2, 2, 4, 3, 4]\n"
          ],
          "name": "stdout"
        },
        {
          "output_type": "display_data",
          "data": {
            "image/png": "[encoded data removed]",
            "text/plain": [
              "<Figure size 432x288 with 1 Axes>"
            ]
          },
          "metadata": {
            "tags": []
          }
        }
      ]
    },
    {
      "cell_type": "code",
      "metadata": {
        "id": "39P7zR1aIOq0",
        "colab_type": "code",
        "outputId": "a135cd29-1591-4ea0-e424-bb7cd9d2cc70",
        "colab": {
          "base_uri": "https://localhost:8080/",
          "height": 521
        }
      },
      "source": [
        "# check generation\n",
        "images, labels = next(iter(dataloader))\n",
        "pixelCNN.eval()\n",
        "with torch.no_grad():\n",
        "    pred = pixelCNN(images.cuda())\n",
        "    pred = pred.softmax(-3).argmax(-3)\n",
        "\n",
        "plt.imshow(images[0,0].cpu(), cmap='Greys_r')\n",
        "plt.show()\n",
        "plt.imshow(pred[0].cpu(), cmap='Greys_r')\n",
        "plt.show()"
      ],
      "execution_count": 73,
      "outputs": [
        {
          "output_type": "display_data",
          "data": {
            "image/png": "[encoded data removed]",
            "text/plain": [
              "<Figure size 432x288 with 1 Axes>"
            ]
          },
          "metadata": {
            "tags": []
          }
        },
        {
          "output_type": "display_data",
          "data": {
            "image/png": "[encoded data removed]",
            "text/plain": [
              "<Figure size 432x288 with 1 Axes>"
            ]
          },
          "metadata": {
            "tags": []
          }
        }
      ]
    },
    {
      "cell_type": "code",
      "metadata": {
        "id": "khccqQIGIOq5",
        "colab_type": "code",
        "outputId": "34c8612b-d3f2-4a6e-b3f2-26d1650d86bb",
        "colab": {
          "base_uri": "https://localhost:8080/",
          "height": 135
        }
      },
      "source": [
        "sample(num_samples = 5, temperature=1, label=9)"
      ],
      "execution_count": 91,
      "outputs": [
        {
          "output_type": "stream",
          "text": [
            "[9, 9, 9, 9, 9]\n"
          ],
          "name": "stdout"
        },
        {
          "output_type": "display_data",
          "data": {
            "image/png": "[encoded data removed]",
            "text/plain": [
              "<Figure size 432x288 with 1 Axes>"
            ]
          },
          "metadata": {
            "tags": []
          }
        }
      ]
    },
    {
      "cell_type": "code",
      "metadata": {
        "id": "uPPwXw9V1bwk",
        "colab_type": "code",
        "colab": {}
      },
      "source": [
        " class PixelSelfAttention(nn.Module):\n",
        "    def __init__(self, channels, max_size, mask_center=False, heads = 4):\n",
        "        super(PixelSelfAttention, self).__init__()       \n",
        "        self.heads = heads\n",
        "        self.head_size = channels // heads\n",
        "        \n",
        "        self.get_query = nn.Conv2d(channels, channels, kernel_size=1, bias=False)\n",
        "        self.get_key = nn.Conv2d(channels, channels, kernel_size=1, bias=False)\n",
        "        self.get_value = nn.Conv2d(channels, channels, kernel_size=1, bias=False)\n",
        "        \n",
        "        self.combine = nn.Conv2d(channels, channels, kernel_size=1, bias=False)\n",
        "        \n",
        "        self.register_buffer('mask', self.gen_mask(max_size, mask_center))       \n",
        "        \n",
        "    def gen_mask(self, max_size, mask_center):\n",
        "        masks = torch.ones(1, max_size**2, max_size, max_size)\n",
        "        for i in range(0, max_size):\n",
        "            for j in range(0, max_size):\n",
        "                masks[:, i*max_size+j, i, j + (mask_center == False):] = 0\n",
        "                masks[:, i*max_size+j, i + 1:] = 0\n",
        "        return masks.view(1, max_size**2, max_size**2)\n",
        "        \n",
        "    def forward(self, x):  \n",
        "        query = self.get_query(x).permute(0, 2, 3, 1).view(x.size(0), -1, self.heads, self.head_size).transpose(1,2)\n",
        "        key = self.get_key(x).permute(0, 2, 3, 1).view(x.size(0), -1, self.heads, self.head_size).transpose(1,2)\n",
        "        value = self.get_value(x).permute(0, 2, 3, 1).view(x.size(0), -1, self.heads, self.head_size).transpose(1,2) \n",
        "                \n",
        "        scores = torch.matmul(query, key.transpose(-2, -1)) / math.sqrt(query.size(-1))\n",
        "        scores = scores.masked_fill(self.mask.unsqueeze(0)[:,:,:scores.size(-2), :scores.size(-1)] == 0, -1e9).softmax(dim=-1)\n",
        "        scores = torch.matmul(scores, value) \n",
        "        scores = scores.transpose(1,2).contiguous().view(x.size(0), x.size(2), x.size(3), x.size(1)).permute(0, 3, 1, 2)\n",
        "        scores = self.combine(scores)\n",
        "                \n",
        "        return scores\n",
        "\n",
        "class PixelPositionalEncoder(nn.Module):\n",
        "    def __init__(self, embedding_size, max_size):\n",
        "        super(PixelPositionalEncoder, self).__init__()\n",
        "        self.embedding_size = embedding_size\n",
        "        \n",
        "        pos_encoder = torch.zeros(embedding_size, max_size, max_size)\n",
        "        \n",
        "        for k in range(0, embedding_size, 2):\n",
        "            for i in range(max_size):\n",
        "                for j in range(max_size):                \n",
        "                    pos_encoder[k, i, j] = math.sin((j+i*max_size) / (10000 ** ((2 * k)/embedding_size)))\n",
        "                    if (k + 1) < pos_encoder.size(0):\n",
        "                        pos_encoder[k + 1, i, j] = math.cos((j+i*max_size) / (10000 ** ((2 * (k + 1))/embedding_size)))\n",
        "                \n",
        "        pos_encoder = pos_encoder.unsqueeze(0)\n",
        "        self.register_buffer('pos_encoder', pos_encoder)\n",
        " \n",
        "    def forward(self, x):\n",
        "        x = x * math.sqrt(self.embedding_size)\n",
        "        seq_len = x.size(1)\n",
        "        x = x + self.pos_encoder[:, :, :x.size(-2), :x.size(-1)]\n",
        "        return x"
      ],
      "execution_count": 0,
      "outputs": []
    },
    {
      "cell_type": "code",
      "metadata": {
        "id": "kC4lf1rGOJds",
        "colab_type": "code",
        "colab": {}
      },
      "source": [
        "class PixelTransformer(nn.Module):\n",
        "    def __init__(self, hidden_size=64):\n",
        "        super(PixelTransformer, self).__init__()\n",
        "        \n",
        "        max_size = 28\n",
        "        self.expand = nn.Conv2d(1, hidden_size, kernel_size=1)\n",
        "        self.pos_encoder = PixelPositionalEncoder(hidden_size, max_size)\n",
        "        \n",
        "        self.cnn = nn.Sequential(\n",
        "            nn.BatchNorm2d(hidden_size),\n",
        "            PixelSelfAttention(hidden_size, max_size, mask_center=True, heads=4),\n",
        "            nn.ReLU(),\n",
        "            \n",
        "            nn.BatchNorm2d(hidden_size),\n",
        "            PixelSelfAttention(hidden_size, max_size, mask_center=False, heads=4),\n",
        "            nn.ReLU(),\n",
        "            \n",
        "            nn.BatchNorm2d(hidden_size),\n",
        "            PixelSelfAttention(hidden_size, max_size, mask_center=False, heads=4),\n",
        "            nn.ReLU(),\n",
        "            \n",
        "            nn.BatchNorm2d(hidden_size),\n",
        "            PixelSelfAttention(hidden_size, max_size, mask_center=False, heads=4),\n",
        "            nn.ReLU(),\n",
        "            \n",
        "            nn.BatchNorm2d(hidden_size),\n",
        "            nn.Conv2d(hidden_size, 256, kernel_size=1),\n",
        "        )\n",
        "        \n",
        "    def forward(self, x):\n",
        "        x = self.expand(x)\n",
        "        x = self.pos_encoder(x)\n",
        "        x = self.cnn(x)\n",
        "        return x"
      ],
      "execution_count": 0,
      "outputs": []
    },
    {
      "cell_type": "code",
      "metadata": {
        "id": "F0teGsWIRJiz",
        "colab_type": "code",
        "outputId": "e229ee54-468c-4697-a916-1fb2e3e42d4e",
        "colab": {
          "base_uri": "https://localhost:8080/",
          "height": 697
        }
      },
      "source": [
        "pixelTransformer = PixelTransformer(64)\n",
        "pixelTransformer.cuda()"
      ],
      "execution_count": 9,
      "outputs": [
        {
          "output_type": "execute_result",
          "data": {
            "text/plain": [
              "PixelTransformer(\n",
              "  (expand): Conv2d(1, 64, kernel_size=(1, 1), stride=(1, 1))\n",
              "  (pos_encoder): PixelPositionalEncoder()\n",
              "  (cnn): Sequential(\n",
              "    (0): BatchNorm2d(64, eps=1e-05, momentum=0.1, affine=True, track_running_stats=True)\n",
              "    (1): PixelSelfAttention(\n",
              "      (get_query): Conv2d(64, 64, kernel_size=(1, 1), stride=(1, 1), bias=False)\n",
              "      (get_key): Conv2d(64, 64, kernel_size=(1, 1), stride=(1, 1), bias=False)\n",
              "      (get_value): Conv2d(64, 64, kernel_size=(1, 1), stride=(1, 1), bias=False)\n",
              "      (combine): Conv2d(64, 64, kernel_size=(1, 1), stride=(1, 1), bias=False)\n",
              "    )\n",
              "    (2): ReLU()\n",
              "    (3): BatchNorm2d(64, eps=1e-05, momentum=0.1, affine=True, track_running_stats=True)\n",
              "    (4): PixelSelfAttention(\n",
              "      (get_query): Conv2d(64, 64, kernel_size=(1, 1), stride=(1, 1), bias=False)\n",
              "      (get_key): Conv2d(64, 64, kernel_size=(1, 1), stride=(1, 1), bias=False)\n",
              "      (get_value): Conv2d(64, 64, kernel_size=(1, 1), stride=(1, 1), bias=False)\n",
              "      (combine): Conv2d(64, 64, kernel_size=(1, 1), stride=(1, 1), bias=False)\n",
              "    )\n",
              "    (5): ReLU()\n",
              "    (6): BatchNorm2d(64, eps=1e-05, momentum=0.1, affine=True, track_running_stats=True)\n",
              "    (7): PixelSelfAttention(\n",
              "      (get_query): Conv2d(64, 64, kernel_size=(1, 1), stride=(1, 1), bias=False)\n",
              "      (get_key): Conv2d(64, 64, kernel_size=(1, 1), stride=(1, 1), bias=False)\n",
              "      (get_value): Conv2d(64, 64, kernel_size=(1, 1), stride=(1, 1), bias=False)\n",
              "      (combine): Conv2d(64, 64, kernel_size=(1, 1), stride=(1, 1), bias=False)\n",
              "    )\n",
              "    (8): ReLU()\n",
              "    (9): BatchNorm2d(64, eps=1e-05, momentum=0.1, affine=True, track_running_stats=True)\n",
              "    (10): PixelSelfAttention(\n",
              "      (get_query): Conv2d(64, 64, kernel_size=(1, 1), stride=(1, 1), bias=False)\n",
              "      (get_key): Conv2d(64, 64, kernel_size=(1, 1), stride=(1, 1), bias=False)\n",
              "      (get_value): Conv2d(64, 64, kernel_size=(1, 1), stride=(1, 1), bias=False)\n",
              "      (combine): Conv2d(64, 64, kernel_size=(1, 1), stride=(1, 1), bias=False)\n",
              "    )\n",
              "    (11): ReLU()\n",
              "    (12): BatchNorm2d(64, eps=1e-05, momentum=0.1, affine=True, track_running_stats=True)\n",
              "    (13): Conv2d(64, 256, kernel_size=(1, 1), stride=(1, 1))\n",
              "  )\n",
              ")"
            ]
          },
          "metadata": {
            "tags": []
          },
          "execution_count": 9
        }
      ]
    },
    {
      "cell_type": "code",
      "metadata": {
        "id": "vXY0yqYqRqqO",
        "colab_type": "code",
        "colab": {}
      },
      "source": [
        "# sample\n",
        "def sample(num_samples = 5, temperature = 1):   \n",
        "    sample = torch.zeros(num_samples, 1, 28, 28).cuda()\n",
        "    \n",
        "    pixelTransformer.eval()\n",
        "    with torch.no_grad():\n",
        "        for i in range(28):\n",
        "            for j in range(28):\n",
        "                pred = pixelTransformer(sample)\n",
        "                pred = (pred[:, :, i, j]/temperature).softmax(dim=-1)                \n",
        "                sample[:, :, i, j] = torch.multinomial(pred, 1).float() / 255. \n",
        "\n",
        "    plt.imshow(torch.cat([s for s in sample], dim=-1)[0].cpu() * 2, cmap='Greys_r')\n",
        "    plt.show()"
      ],
      "execution_count": 0,
      "outputs": []
    },
    {
      "cell_type": "code",
      "metadata": {
        "id": "oh6N6EwanGMt",
        "colab_type": "code",
        "colab": {}
      },
      "source": [
        "torch.cuda.empty_cache()"
      ],
      "execution_count": 0,
      "outputs": []
    },
    {
      "cell_type": "code",
      "metadata": {
        "id": "93uOSSz9RbJ5",
        "colab_type": "code",
        "colab": {
          "base_uri": "https://localhost:8080/",
          "height": 1000
        },
        "outputId": "ff91d146-4bd6-48b6-e91e-4cff467b76e5"
      },
      "source": [
        "epochs = 20\n",
        "print_every = 500\n",
        "\n",
        "optimizer = optim.Adam(pixelTransformer.parameters(), lr=1e-3)\n",
        "# scheduler = optim.lr_scheduler.StepLR(optimizer, step_size=5, gamma=0.1)\n",
        "criterion = nn.CrossEntropyLoss() # weight=torch.tensor([1.0]+([2.0]*255)).cuda())\n",
        "\n",
        "for e in range(1, epochs+1):\n",
        "    total_loss = 0\n",
        "    pixelTransformer.train()\n",
        "    start_time = time.time()\n",
        "    for batch, (images, labels) in enumerate(dataloader):\n",
        "        images = images.cuda()\n",
        "        target = (images[:,0] * 255).long()\n",
        "        \n",
        "        pred = pixelTransformer(images)       \n",
        "        loss = criterion(pred, target)\n",
        "        \n",
        "        optimizer.zero_grad()\n",
        "        loss.backward()\n",
        "        optimizer.step()\n",
        "        \n",
        "        total_loss += loss.item()\n",
        "        \n",
        "        if (batch+1) % print_every == 0 or (batch+1) == len(dataloader):\n",
        "            elapsed_time = time.time() - start_time\n",
        "            start_time = time.time()\n",
        "            print(f\"Epoch {e} ({batch+1}/{len(dataloader)}) - loss {total_loss/(batch+1)} ({elapsed_time:.1f}s)\")\n",
        "    \n",
        "    sample(num_samples = 5) # sample after every epoch\n",
        "    # scheduler.step()"
      ],
      "execution_count": 12,
      "outputs": [
        {
          "output_type": "stream",
          "text": [
            "Epoch 1 (500/1875) - loss 1.2763113232851029 (211.9s)\n",
            "Epoch 1 (1000/1875) - loss 0.8807005088329315 (211.5s)\n",
            "Epoch 1 (1500/1875) - loss 0.7224029841224352 (211.8s)\n",
            "Epoch 1 (1875/1875) - loss 0.6510951862017313 (158.5s)\n"
          ],
          "name": "stdout"
        },
        {
          "output_type": "display_data",
          "data": {
            "image/png": "[encoded data removed]",
            "text/plain": [
              "<Figure size 432x288 with 1 Axes>"
            ]
          },
          "metadata": {
            "tags": []
          }
        },
        {
          "output_type": "stream",
          "text": [
            "Epoch 2 (500/1875) - loss 0.343526752948761 (211.5s)\n",
            "Epoch 2 (1000/1875) - loss 0.3321769417822361 (211.7s)\n",
            "Epoch 2 (1500/1875) - loss 0.32474074931939445 (211.6s)\n",
            "Epoch 2 (1875/1875) - loss 0.31894466602802274 (158.7s)\n"
          ],
          "name": "stdout"
        },
        {
          "output_type": "display_data",
          "data": {
            "image/png": "[encoded data removed]",
            "text/plain": [
              "<Figure size 432x288 with 1 Axes>"
            ]
          },
          "metadata": {
            "tags": []
          }
        },
        {
          "output_type": "stream",
          "text": [
            "Epoch 3 (500/1875) - loss 0.285111782848835 (211.7s)\n",
            "Epoch 3 (1000/1875) - loss 0.2779842385351658 (211.4s)\n",
            "Epoch 3 (1500/1875) - loss 0.2733915004233519 (211.5s)\n",
            "Epoch 3 (1875/1875) - loss 0.2697439948797226 (158.6s)\n"
          ],
          "name": "stdout"
        },
        {
          "output_type": "display_data",
          "data": {
            "image/png": "[encoded data removed]",
            "text/plain": [
              "<Figure size 432x288 with 1 Axes>"
            ]
          },
          "metadata": {
            "tags": []
          }
        },
        {
          "output_type": "stream",
          "text": [
            "Epoch 4 (500/1875) - loss 0.24872218778729438 (211.4s)\n",
            "Epoch 4 (1000/1875) - loss 0.24738363699615 (211.4s)\n",
            "Epoch 4 (1500/1875) - loss 0.24570720712343852 (211.4s)\n",
            "Epoch 4 (1875/1875) - loss 0.2421254243214925 (158.6s)\n"
          ],
          "name": "stdout"
        },
        {
          "output_type": "display_data",
          "data": {
            "image/png": "[encoded data removed]",
            "text/plain": [
              "<Figure size 432x288 with 1 Axes>"
            ]
          },
          "metadata": {
            "tags": []
          }
        },
        {
          "output_type": "stream",
          "text": [
            "Epoch 5 (500/1875) - loss 0.23126932641863823 (211.6s)\n",
            "Epoch 5 (1000/1875) - loss 0.22898585399985313 (211.5s)\n",
            "Epoch 5 (1500/1875) - loss 0.23032855707407 (211.6s)\n",
            "Epoch 5 (1875/1875) - loss 0.2269358463048935 (158.7s)\n"
          ],
          "name": "stdout"
        },
        {
          "output_type": "display_data",
          "data": {
            "image/png": "[encoded data removed]",
            "text/plain": [
              "<Figure size 432x288 with 1 Axes>"
            ]
          },
          "metadata": {
            "tags": []
          }
        },
        {
          "output_type": "error",
          "ename": "KeyboardInterrupt",
          "evalue": "ignored",
          "traceback": [
            "\u001b[0;31m---------------------------------------------------------------------------\u001b[0m",
            "\u001b[0;31mKeyboardInterrupt\u001b[0m                         Traceback (most recent call last)",
            "\u001b[0;32m<ipython-input-12-07194e06a034>\u001b[0m in \u001b[0;36m<module>\u001b[0;34m()\u001b[0m\n\u001b[1;32m     21\u001b[0m         \u001b[0moptimizer\u001b[0m\u001b[0;34m.\u001b[0m\u001b[0mstep\u001b[0m\u001b[0;34m(\u001b[0m\u001b[0;34m)\u001b[0m\u001b[0;34m\u001b[0m\u001b[0;34m\u001b[0m\u001b[0m\n\u001b[1;32m     22\u001b[0m \u001b[0;34m\u001b[0m\u001b[0m\n\u001b[0;32m---> 23\u001b[0;31m         \u001b[0mtotal_loss\u001b[0m \u001b[0;34m+=\u001b[0m \u001b[0mloss\u001b[0m\u001b[0;34m.\u001b[0m\u001b[0mitem\u001b[0m\u001b[0;34m(\u001b[0m\u001b[0;34m)\u001b[0m\u001b[0;34m\u001b[0m\u001b[0;34m\u001b[0m\u001b[0m\n\u001b[0m\u001b[1;32m     24\u001b[0m \u001b[0;34m\u001b[0m\u001b[0m\n\u001b[1;32m     25\u001b[0m         \u001b[0;32mif\u001b[0m \u001b[0;34m(\u001b[0m\u001b[0mbatch\u001b[0m\u001b[0;34m+\u001b[0m\u001b[0;36m1\u001b[0m\u001b[0;34m)\u001b[0m \u001b[0;34m%\u001b[0m \u001b[0mprint_every\u001b[0m \u001b[0;34m==\u001b[0m \u001b[0;36m0\u001b[0m \u001b[0;32mor\u001b[0m \u001b[0;34m(\u001b[0m\u001b[0mbatch\u001b[0m\u001b[0;34m+\u001b[0m\u001b[0;36m1\u001b[0m\u001b[0;34m)\u001b[0m \u001b[0;34m==\u001b[0m \u001b[0mlen\u001b[0m\u001b[0;34m(\u001b[0m\u001b[0mdataloader\u001b[0m\u001b[0;34m)\u001b[0m\u001b[0;34m:\u001b[0m\u001b[0;34m\u001b[0m\u001b[0;34m\u001b[0m\u001b[0m\n",
            "\u001b[0;31mKeyboardInterrupt\u001b[0m: "
          ]
        }
      ]
    },
    {
      "cell_type": "code",
      "metadata": {
        "id": "6aVwOo4RRtoj",
        "colab_type": "code",
        "colab": {
          "base_uri": "https://localhost:8080/",
          "height": 521
        },
        "outputId": "77ffbe57-ff4a-43da-e282-69ff416a5066"
      },
      "source": [
        "# check generation\n",
        "images, labels = next(iter(dataloader))\n",
        "pixelCNN.eval()\n",
        "with torch.no_grad():\n",
        "    pred = pixelTransformer(images.cuda())\n",
        "    pred = pred.softmax(-3).argmax(-3)\n",
        "\n",
        "plt.imshow(images[0,0].cpu(), cmap='Greys_r')\n",
        "plt.show()\n",
        "plt.imshow(pred[0].cpu(), cmap='Greys_r')\n",
        "plt.show()"
      ],
      "execution_count": 13,
      "outputs": [
        {
          "output_type": "display_data",
          "data": {
            "image/png": "[encoded data removed]",
            "text/plain": [
              "<Figure size 432x288 with 1 Axes>"
            ]
          },
          "metadata": {
            "tags": []
          }
        },
        {
          "output_type": "display_data",
          "data": {
            "image/png": "[encoded data removed]",
            "text/plain": [
              "<Figure size 432x288 with 1 Axes>"
            ]
          },
          "metadata": {
            "tags": []
          }
        }
      ]
    },
    {
      "cell_type": "code",
      "metadata": {
        "id": "5w9C51r2ZPPY",
        "colab_type": "code",
        "colab": {
          "base_uri": "https://localhost:8080/",
          "height": 118
        },
        "outputId": "b6f50758-5b7f-4fb4-9513-63e05c4f99e7"
      },
      "source": [
        "sample(num_samples = 5)"
      ],
      "execution_count": 14,
      "outputs": [
        {
          "output_type": "display_data",
          "data": {
            "image/png": "[encoded data removed]",
            "text/plain": [
              "<Figure size 432x288 with 1 Axes>"
            ]
          },
          "metadata": {
            "tags": []
          }
        }
      ]
    },
    {
      "cell_type": "code",
      "metadata": {
        "id": "bVQBuKITaCkx",
        "colab_type": "code",
        "colab": {}
      },
      "source": [
        ""
      ],
      "execution_count": 0,
      "outputs": []
    }
  ]
}