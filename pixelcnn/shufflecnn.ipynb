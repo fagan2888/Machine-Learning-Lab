{
 "cells": [
  {
   "cell_type": "code",
   "execution_count": 55,
   "metadata": {},
   "outputs": [],
   "source": [
    "import torch\n",
    "import torchvision\n",
    "from torch import nn, optim\n",
    "from torch.utils.data import DataLoader, SubsetRandomSampler\n",
    "import matplotlib.pyplot as plt\n",
    "import math\n",
    "import time\n",
    "import numpy as np\n",
    "import cv2"
   ]
  },
  {
   "cell_type": "code",
   "execution_count": 56,
   "metadata": {},
   "outputs": [],
   "source": [
    "mnist = torchvision.datasets.MNIST('data', train=True, transform=torchvision.transforms.ToTensor(), download=True)\n",
    "dataloader = DataLoader(mnist, batch_size=16, shuffle=True)"
   ]
  },
  {
   "cell_type": "code",
   "execution_count": 57,
   "metadata": {},
   "outputs": [
    {
     "data": {
      "image/png": "[encoded data removed]",
      "text/plain": [
       "<Figure size 432x288 with 1 Axes>"
      ]
     },
     "metadata": {
      "needs_background": "light"
     },
     "output_type": "display_data"
    }
   ],
   "source": [
    "images, labels = next(iter(dataloader))\n",
    "\n",
    "plt.imshow(images[0, 0], cmap='Greys_r')\n",
    "plt.show()"
   ]
  },
  {
   "cell_type": "code",
   "execution_count": 89,
   "metadata": {},
   "outputs": [],
   "source": [
    "class ResidualBlock(nn.Module):\n",
    "    def __init__(self, hidden_size, kernel_size=3):\n",
    "        super(ResidualBlock, self).__init__()\n",
    "\n",
    "        self.residual = nn.Sequential(\n",
    "            nn.Conv2d(hidden_size, hidden_size//2, kernel_size=1, bias=False), \n",
    "            nn.BatchNorm2d(hidden_size//2),\n",
    "            nn.ReLU(inplace=True),\n",
    "            nn.Conv2d(hidden_size//2, hidden_size//2, kernel_size=kernel_size, padding=kernel_size//2, bias=False), \n",
    "            nn.BatchNorm2d(hidden_size//2), \n",
    "            nn.ReLU(inplace=True),\n",
    "            nn.Conv2d(hidden_size//2, hidden_size, kernel_size=1, bias=False), \n",
    "            nn.BatchNorm2d(hidden_size),\n",
    "        )\n",
    "\n",
    "    def forward(self, x):\n",
    "        return x + self.residual(x)\n",
    "\n",
    "class ShuffleCNN(nn.Module):\n",
    "    def __init__(self, num_classes, hidden_size=64):\n",
    "        super(ShuffleCNN, self).__init__()\n",
    "        \n",
    "        self.cnn = nn.Sequential(          \n",
    "            nn.Conv2d(1, hidden_size, kernel_size=7, padding=3, bias=False), nn.BatchNorm2d(hidden_size), nn.ReLU(inplace=True),\n",
    "            nn.Conv2d(hidden_size, hidden_size, kernel_size=7, padding=3, bias=False), nn.BatchNorm2d(hidden_size), nn.ReLU(inplace=True),\n",
    "            ResidualBlock(hidden_size),\n",
    "            ResidualBlock(hidden_size),\n",
    "            nn.Conv2d(hidden_size, hidden_size, kernel_size=7, padding=3, bias=False), nn.BatchNorm2d(hidden_size), nn.ReLU(inplace=True),\n",
    "            nn.Conv2d(hidden_size, hidden_size, kernel_size=7, padding=3, bias=False), nn.BatchNorm2d(hidden_size), nn.ReLU(inplace=True),\n",
    "            nn.Conv2d(hidden_size, 256, kernel_size=1),\n",
    "        )\n",
    "        \n",
    "    def forward(self, x):\n",
    "        x = self.cnn(x)\n",
    "        return x"
   ]
  },
  {
   "cell_type": "code",
   "execution_count": 92,
   "metadata": {
    "scrolled": true
   },
   "outputs": [
    {
     "data": {
      "text/plain": [
       "ShuffleCNN(\n",
       "  (cnn): Sequential(\n",
       "    (0): Conv2d(1, 32, kernel_size=(7, 7), stride=(1, 1), padding=(3, 3), bias=False)\n",
       "    (1): BatchNorm2d(32, eps=1e-05, momentum=0.1, affine=True, track_running_stats=True)\n",
       "    (2): ReLU(inplace=True)\n",
       "    (3): Conv2d(32, 32, kernel_size=(7, 7), stride=(1, 1), padding=(3, 3), bias=False)\n",
       "    (4): BatchNorm2d(32, eps=1e-05, momentum=0.1, affine=True, track_running_stats=True)\n",
       "    (5): ReLU(inplace=True)\n",
       "    (6): ResidualBlock(\n",
       "      (residual): Sequential(\n",
       "        (0): Conv2d(32, 16, kernel_size=(1, 1), stride=(1, 1), bias=False)\n",
       "        (1): BatchNorm2d(16, eps=1e-05, momentum=0.1, affine=True, track_running_stats=True)\n",
       "        (2): ReLU(inplace=True)\n",
       "        (3): Conv2d(16, 16, kernel_size=(3, 3), stride=(1, 1), padding=(1, 1), bias=False)\n",
       "        (4): BatchNorm2d(16, eps=1e-05, momentum=0.1, affine=True, track_running_stats=True)\n",
       "        (5): ReLU(inplace=True)\n",
       "        (6): Conv2d(16, 32, kernel_size=(1, 1), stride=(1, 1), bias=False)\n",
       "        (7): BatchNorm2d(32, eps=1e-05, momentum=0.1, affine=True, track_running_stats=True)\n",
       "      )\n",
       "    )\n",
       "    (7): ResidualBlock(\n",
       "      (residual): Sequential(\n",
       "        (0): Conv2d(32, 16, kernel_size=(1, 1), stride=(1, 1), bias=False)\n",
       "        (1): BatchNorm2d(16, eps=1e-05, momentum=0.1, affine=True, track_running_stats=True)\n",
       "        (2): ReLU(inplace=True)\n",
       "        (3): Conv2d(16, 16, kernel_size=(3, 3), stride=(1, 1), padding=(1, 1), bias=False)\n",
       "        (4): BatchNorm2d(16, eps=1e-05, momentum=0.1, affine=True, track_running_stats=True)\n",
       "        (5): ReLU(inplace=True)\n",
       "        (6): Conv2d(16, 32, kernel_size=(1, 1), stride=(1, 1), bias=False)\n",
       "        (7): BatchNorm2d(32, eps=1e-05, momentum=0.1, affine=True, track_running_stats=True)\n",
       "      )\n",
       "    )\n",
       "    (8): Conv2d(32, 32, kernel_size=(7, 7), stride=(1, 1), padding=(3, 3), bias=False)\n",
       "    (9): BatchNorm2d(32, eps=1e-05, momentum=0.1, affine=True, track_running_stats=True)\n",
       "    (10): ReLU(inplace=True)\n",
       "    (11): Conv2d(32, 32, kernel_size=(7, 7), stride=(1, 1), padding=(3, 3), bias=False)\n",
       "    (12): BatchNorm2d(32, eps=1e-05, momentum=0.1, affine=True, track_running_stats=True)\n",
       "    (13): ReLU(inplace=True)\n",
       "    (14): Conv2d(32, 256, kernel_size=(1, 1), stride=(1, 1))\n",
       "  )\n",
       ")"
      ]
     },
     "execution_count": 92,
     "metadata": {},
     "output_type": "execute_result"
    }
   ],
   "source": [
    "shuffleCNN = ShuffleCNN(num_classes=10, hidden_size=32)\n",
    "shuffleCNN.cuda()"
   ]
  },
  {
   "cell_type": "code",
   "execution_count": 93,
   "metadata": {},
   "outputs": [],
   "source": [
    "# sample\n",
    "def sample(num_samples = 5, temperature = 1, label=None, pixels_per_round = 8):   \n",
    "    sample = torch.zeros(num_samples, 1, 28, 28).cuda()\n",
    "    \n",
    "    pixel_positions = [(x, y) for x in range(28) for y in range(28)]  \n",
    "    np.random.shuffle(pixel_positions)\n",
    "    \n",
    "    shuffleCNN.eval()\n",
    "    for r in range(math.ceil(len(pixel_positions) / pixels_per_round)):\n",
    "        pred = shuffleCNN(sample)       \n",
    "        for x, y in pixel_positions[:pixels_per_round]:\n",
    "            pixel = (pred[:, :, x, y]/temperature).softmax(dim=-1)\n",
    "            sample[:, :, x, y] = torch.multinomial(pixel, 1).float() / 255. \n",
    "    \n",
    "        pixel_positions = pixel_positions[pixels_per_round:]\n",
    "        \n",
    "    plt.imshow(torch.cat([s for s in sample], dim=-1)[0].cpu() * 2, cmap='Greys_r')\n",
    "    plt.show()"
   ]
  },
  {
   "cell_type": "code",
   "execution_count": null,
   "metadata": {},
   "outputs": [
    {
     "name": "stdout",
     "output_type": "stream",
     "text": [
      "Epoch 1 (500/3750) - loss 1.7526528372764587 (19.0s)\n",
      "Epoch 1 (1000/3750) - loss 1.3113023884892463 (22.6s)\n",
      "Epoch 1 (1500/3750) - loss 1.1573859421014785 (24.8s)\n",
      "Epoch 1 (2000/3750) - loss 1.0686329255104066 (25.0s)\n",
      "Epoch 1 (2500/3750) - loss 1.010499144911766 (25.0s)\n",
      "Epoch 1 (3000/3750) - loss 0.9695505572954813 (25.0s)\n",
      "Epoch 1 (3500/3750) - loss 0.9388081064053945 (39.7s)\n",
      "Epoch 1 (3750/3750) - loss 0.9246129977703095 (15.6s)\n"
     ]
    },
    {
     "data": {
      "image/png": "[encoded data removed]",
      "text/plain": [
       "<Figure size 432x288 with 1 Axes>"
      ]
     },
     "metadata": {
      "needs_background": "light"
     },
     "output_type": "display_data"
    },
    {
     "name": "stdout",
     "output_type": "stream",
     "text": [
      "Epoch 2 (500/3750) - loss 0.7382531563043594 (27.1s)\n",
      "Epoch 2 (1000/3750) - loss 0.7325165974199772 (30.8s)\n",
      "Epoch 2 (1500/3750) - loss 0.7246412654717763 (25.8s)\n",
      "Epoch 2 (2000/3750) - loss 0.7221460039168597 (25.1s)\n",
      "Epoch 2 (2500/3750) - loss 0.7175570698738098 (25.5s)\n",
      "Epoch 2 (3000/3750) - loss 0.7158687155147394 (30.3s)\n",
      "Epoch 2 (3500/3750) - loss 0.7118170183471271 (36.7s)\n",
      "Epoch 2 (3750/3750) - loss 0.7106251151959101 (25.8s)\n"
     ]
    },
    {
     "data": {
      "image/png": "[encoded data removed]",
      "text/plain": [
       "<Figure size 432x288 with 1 Axes>"
      ]
     },
     "metadata": {
      "needs_background": "light"
     },
     "output_type": "display_data"
    },
    {
     "name": "stdout",
     "output_type": "stream",
     "text": [
      "Epoch 3 (500/3750) - loss 0.6760479708313942 (42.6s)\n",
      "Epoch 3 (1000/3750) - loss 0.6713933098912239 (39.7s)\n",
      "Epoch 3 (1500/3750) - loss 0.668712412973245 (43.1s)\n"
     ]
    }
   ],
   "source": [
    "epochs = 10\n",
    "print_every = 500\n",
    "\n",
    "optimizer = optim.Adam(shuffleCNN.parameters(), lr=1e-3)\n",
    "criterion = nn.CrossEntropyLoss()\n",
    "\n",
    "for e in range(1, epochs+1):\n",
    "    total_loss = 0\n",
    "    shuffleCNN.train()\n",
    "    start_time = time.time()\n",
    "    for batch, (images, labels) in enumerate(dataloader):\n",
    "        images, labels = images.cuda(), labels.cuda()\n",
    "        target = (images[:,0] * 255).long()\n",
    "        \n",
    "        random_threshold = np.random.uniform(0.01, 1)\n",
    "        mask = (torch.rand_like(images) > random_threshold).float()\n",
    "        \n",
    "        masked_images = images * mask\n",
    "        \n",
    "        pred = shuffleCNN(masked_images)       \n",
    "        loss = criterion(pred, target)\n",
    "        \n",
    "        optimizer.zero_grad()\n",
    "        loss.backward()\n",
    "        optimizer.step()\n",
    "        \n",
    "        total_loss += loss.item()\n",
    "        \n",
    "        if (batch+1) % print_every == 0 or (batch+1) == len(dataloader):\n",
    "            elapsed_time = time.time() - start_time\n",
    "            start_time = time.time()\n",
    "            print(f\"Epoch {e} ({batch+1}/{len(dataloader)}) - loss {total_loss/(batch+1)} ({elapsed_time:.1f}s)\")\n",
    "    \n",
    "    sample(num_samples = 5) # sample after every epoch\n",
    "    # scheduler.step()"
   ]
  },
  {
   "cell_type": "code",
   "execution_count": null,
   "metadata": {},
   "outputs": [],
   "source": [
    "sample(5, temperature=1.2)"
   ]
  },
  {
   "cell_type": "code",
   "execution_count": null,
   "metadata": {},
   "outputs": [],
   "source": []
  }
 ],
 "metadata": {
  "kernelspec": {
   "display_name": "Python 3",
   "language": "python",
   "name": "python3"
  },
  "language_info": {
   "codemirror_mode": {
    "name": "ipython",
    "version": 3
   },
   "file_extension": ".py",
   "mimetype": "text/x-python",
   "name": "python",
   "nbconvert_exporter": "python",
   "pygments_lexer": "ipython3",
   "version": "3.7.3"
  }
 },
 "nbformat": 4,
 "nbformat_minor": 2
}
