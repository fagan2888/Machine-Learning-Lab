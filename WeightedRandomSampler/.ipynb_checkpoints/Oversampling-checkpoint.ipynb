{
 "cells": [
  {
   "cell_type": "code",
   "execution_count": 11,
   "metadata": {},
   "outputs": [],
   "source": [
    "import torch\n",
    "from torch.utils.data import Dataset, DataLoader, WeightedRandomSampler"
   ]
  },
  {
   "cell_type": "code",
   "execution_count": 43,
   "metadata": {},
   "outputs": [],
   "source": [
    "ds = torch.randn(100, 1) # our dataset will consist of 1000 random numbers\n",
    "lbls = torch.tensor([0]*70+[1]*26+[2]*4) # we have 3 very unbalanced labels\n",
    "\n",
    "dataset = torch.utils.data.TensorDataset(ds, lbls)"
   ]
  },
  {
   "cell_type": "code",
   "execution_count": 82,
   "metadata": {},
   "outputs": [],
   "source": [
    "# let's first try undersampling the labels, so let's create a tensor with the label weights\n",
    "weights = [70, 26, 4]\n",
    "weights = torch.tensor([1.0/weights[label] for label in lbls])\n",
    "# print(weights)\n",
    "\n",
    "# now we just create the dataloader with the WeightedRandomSampler but use the undersampling method\n",
    "batch_size = 2\n",
    "element_count = 4 * 3 # 4 is our smalles class count, 3 is the number of classes\n",
    "dataloader = DataLoader(dataset, batch_size=4, sampler=WeightedRandomSampler(weights, element_count))"
   ]
  },
  {
   "cell_type": "code",
   "execution_count": 100,
   "metadata": {},
   "outputs": [
    {
     "name": "stdout",
     "output_type": "stream",
     "text": [
      "3\n",
      "[[-2.122056245803833], [-0.8459286093711853], [-0.46079280972480774], [1.240039348602295]] [1, 1, 1, 2]\n",
      "[[-0.40949711203575134], [-1.2838244438171387], [1.240039348602295], [1.1774694919586182]] [0, 2, 2, 0]\n",
      "[[1.146072268486023], [0.7432038187980652], [0.555371105670929], [0.7432038187980652]] [1, 2, 0, 2]\n"
     ]
    }
   ],
   "source": [
    "print(len(dataloader)) # by undersampling we end up with only 3 batches of size 4, so 6 elements, , of which \n",
    "for s, l in dataloader:\n",
    "    print(s.tolist(), l.tolist())"
   ]
  },
  {
   "cell_type": "code",
   "execution_count": 102,
   "metadata": {},
   "outputs": [],
   "source": [
    "# now the same, but oversampling\n",
    "batch_size = 2\n",
    "element_count = 70 * 3 # 70 is our largest class count, 3 is the number of classes\n",
    "dataloader = DataLoader(dataset, batch_size=4, sampler=WeightedRandomSampler(weights, element_count))"
   ]
  },
  {
   "cell_type": "code",
   "execution_count": 103,
   "metadata": {
    "scrolled": true
   },
   "outputs": [
    {
     "name": "stdout",
     "output_type": "stream",
     "text": [
      "53\n",
      "[[0.6577771902084351], [1.240039348602295], [0.7432038187980652], [-0.3209373354911804]] [0, 2, 2, 1]\n",
      "[[0.7432038187980652], [1.0059230327606201], [-0.40949711203575134], [-0.8459286093711853]] [2, 1, 0, 1]\n",
      "[[-0.5922260284423828], [-0.9726153016090393], [-2.0352909564971924], [0.41047900915145874]] [1, 1, 1, 2]\n",
      "[[1.0059230327606201], [-0.46079280972480774], [-0.6088237166404724], [1.1872705221176147]] [1, 1, 0, 0]\n",
      "[[-0.8459286093711853], [1.8363431692123413], [-1.2838244438171387], [1.8363431692123413]] [1, 0, 2, 0]\n",
      "[[1.240039348602295], [0.8751641511917114], [1.240039348602295], [-1.2838244438171387]] [2, 1, 2, 2]\n",
      "[[-0.5922260284423828], [0.41047900915145874], [0.7432038187980652], [0.8751641511917114]] [1, 2, 2, 1]\n",
      "[[0.7432038187980652], [1.3181135654449463], [-0.31453022360801697], [-0.10773799568414688]] [2, 0, 0, 0]\n",
      "[[1.240039348602295], [1.240039348602295], [0.8386877179145813], [0.41047900915145874]] [2, 2, 1, 2]\n",
      "[[-1.2838244438171387], [1.1774694919586182], [0.8386877179145813], [0.056858256459236145]] [2, 0, 1, 0]\n"
     ]
    }
   ],
   "source": [
    "print(len(dataloader)) # by oversampling we end up with only 53 batchesof size 4, so 6 elements, , of which \n",
    "for i in range(10): # print only 10 of the 53 batches\n",
    "    s, l = next(iter(dataloader))\n",
    "    print(s.tolist(), l.tolist())"
   ]
  },
  {
   "cell_type": "code",
   "execution_count": null,
   "metadata": {},
   "outputs": [],
   "source": []
  }
 ],
 "metadata": {
  "kernelspec": {
   "display_name": "Python 3",
   "language": "python",
   "name": "python3"
  },
  "language_info": {
   "codemirror_mode": {
    "name": "ipython",
    "version": 3
   },
   "file_extension": ".py",
   "mimetype": "text/x-python",
   "name": "python",
   "nbconvert_exporter": "python",
   "pygments_lexer": "ipython3",
   "version": "3.7.3"
  }
 },
 "nbformat": 4,
 "nbformat_minor": 2
}
