{
 "cells": [
  {
   "cell_type": "code",
   "execution_count": 237,
   "metadata": {},
   "outputs": [],
   "source": [
    "import numpy as np\n",
    "import matplotlib.pyplot as plt\n",
    "import torch\n",
    "from torch import nn, optim\n",
    "import ipywidgets as widgets\n",
    "from IPython.display import clear_output\n",
    "import time\n",
    "from sklearn.utils import shuffle"
   ]
  },
  {
   "cell_type": "code",
   "execution_count": 294,
   "metadata": {},
   "outputs": [
    {
     "data": {
      "text/plain": [
       "(39, 2, 3)"
      ]
     },
     "execution_count": 294,
     "metadata": {},
     "output_type": "execute_result"
    }
   ],
   "source": [
    "color_pairs = np.array([\n",
    "    [[34, 26, 78],[207, 92, 84]],\n",
    "    [[34, 28, 102],[125, 192, 122]],\n",
    "    [[6, 33, 87], [237, 90, 123]],\n",
    "    [[30, 37, 102],[157, 70, 107]],\n",
    "    [[35, 40, 86],[139, 101, 173]],\n",
    "    \n",
    "    [[34, 42, 86], [181, 230, 231]],\n",
    "    [[29, 37, 104], [75, 164, 114]],\n",
    "    [[37, 37, 88], [67, 137, 184]],\n",
    "    [[67, 40, 101], [164, 248, 249]],\n",
    "    [[28, 37, 66], [64, 139, 130]],\n",
    "    \n",
    "    [[66, 42, 99], [193, 205, 208]],\n",
    "    [[19, 24, 138], [234, 95, 198]],\n",
    "    [[46, 27, 84], [210, 245, 191]],\n",
    "    [[47, 28, 82], [247, 207, 78]],\n",
    "    [[91, 44, 97], [245, 213, 85]],\n",
    "    \n",
    "    [[151, 40, 70], [254, 239, 86]],\n",
    "    [[75, 21, 21], [165, 243, 252]],\n",
    "    [[86, 28, 79], [204, 160, 147]],\n",
    "    [[83, 29, 80], [192, 227, 173]],\n",
    "    [[39, 36, 54], [199, 85, 78]],\n",
    "    \n",
    "    [[233, 84, 64], [252, 232, 102]],\n",
    "    [[236, 95, 131], [244, 215, 77]],\n",
    "    [[42, 48, 93], [87, 186, 73]],\n",
    "    [[72, 150, 116], [214, 247, 186]],\n",
    "    [[35, 37, 90], [214, 247, 186]],\n",
    "    \n",
    "    [[141, 74, 128], [212, 247, 190]],\n",
    "    [[141, 78, 127], [211, 183, 150]],\n",
    "    [[140, 78, 125], [184, 229, 231]],\n",
    "    [[136, 78, 126], [248, 199, 79]],\n",
    "    [[186, 48, 113], [150, 228, 228]],\n",
    "    \n",
    "    [[224, 86, 120], [243, 210, 213]],\n",
    "    [[13, 21, 23], [91, 130, 136]],\n",
    "    [[63, 14, 26], [228, 253, 224]],\n",
    "    [[38, 28, 51], [209, 185, 149]],\n",
    "    # [[31, 8, 14], [252, 254, 253]],\n",
    "    \n",
    "    [[36, 25, 41], [228, 253, 223]],\n",
    "    [[192, 70, 60], [237, 234, 209]],\n",
    "    [[35, 97, 162], [234, 202, 218]],\n",
    "    [[9, 32, 38], [145, 153, 164]],\n",
    "    [[203, 85, 107], [173, 213, 213]]\n",
    "])\n",
    "\n",
    "color_pairs.shape"
   ]
  },
  {
   "cell_type": "code",
   "execution_count": 295,
   "metadata": {},
   "outputs": [],
   "source": [
    "left_pair = np.concatenate((color_pairs[:,0,:], color_pairs[:,1,:]), axis=0)\n",
    "right_pair = np.concatenate((color_pairs[:,1,:], color_pairs[:,0,:]), axis=0)"
   ]
  },
  {
   "cell_type": "code",
   "execution_count": 296,
   "metadata": {},
   "outputs": [
    {
     "data": {
      "text/plain": [
       "<matplotlib.image.AxesImage at 0x1237782b0>"
      ]
     },
     "execution_count": 296,
     "metadata": {},
     "output_type": "execute_result"
    },
    {
     "data": {
      "image/png": "[encoded data removed]",
      "text/plain": [
       "<matplotlib.figure.Figure at 0x122f04be0>"
      ]
     },
     "metadata": {
      "needs_background": "light"
     },
     "output_type": "display_data"
    }
   ],
   "source": [
    "image = color_pairs[0].reshape(1, 2, 3) / 255\n",
    "plt.imshow(image)"
   ]
  },
  {
   "cell_type": "code",
   "execution_count": 297,
   "metadata": {},
   "outputs": [
    {
     "name": "stdout",
     "output_type": "stream",
     "text": [
      "6595\n"
     ]
    },
    {
     "data": {
      "text/plain": [
       "Sequential(\n",
       "  (0): Linear(in_features=3, out_features=32, bias=True)\n",
       "  (1): ReLU()\n",
       "  (2): Linear(in_features=32, out_features=64, bias=True)\n",
       "  (3): ReLU()\n",
       "  (4): Linear(in_features=64, out_features=64, bias=True)\n",
       "  (5): ReLU()\n",
       "  (6): Linear(in_features=64, out_features=3, bias=True)\n",
       "  (7): Sigmoid()\n",
       ")"
      ]
     },
     "execution_count": 297,
     "metadata": {},
     "output_type": "execute_result"
    }
   ],
   "source": [
    "colornet = nn.Sequential(\n",
    "    nn.Linear(3, 32),\n",
    "    nn.ReLU(),\n",
    "    nn.Linear(32, 64),\n",
    "    nn.ReLU(),\n",
    "    nn.Linear(64, 64),\n",
    "    nn.ReLU(),\n",
    "    nn.Linear(64, 3),\n",
    "    nn.Sigmoid()\n",
    ")\n",
    "\n",
    "print(sum(p.numel() for p in colornet.parameters() if p.requires_grad))\n",
    "\n",
    "colornet"
   ]
  },
  {
   "cell_type": "code",
   "execution_count": 299,
   "metadata": {},
   "outputs": [
    {
     "name": "stdout",
     "output_type": "stream",
     "text": [
      "Epoch 5000 - loss 0.0011683914344757795\n",
      "Epoch 10000 - loss 0.0011577614350244403\n",
      "Epoch 15000 - loss 0.0011485705617815256\n",
      "Epoch 20000 - loss 0.0011385385878384113\n",
      "Epoch 25000 - loss 0.0011277955491095781\n",
      "Epoch 30000 - loss 0.0011182493763044477\n",
      "Epoch 35000 - loss 0.0011094255605712533\n",
      "Epoch 40000 - loss 0.0011009792797267437\n",
      "Epoch 45000 - loss 0.0010926639661192894\n",
      "Epoch 50000 - loss 0.0010849529644474387\n",
      "Epoch 55000 - loss 0.0010777040151879191\n",
      "Epoch 60000 - loss 0.001070614904165268\n",
      "Epoch 65000 - loss 0.0010637935483828187\n",
      "Epoch 70000 - loss 0.0010574471671134233\n",
      "Epoch 75000 - loss 0.0010514107998460531\n",
      "Epoch 80000 - loss 0.0010454695438966155\n",
      "Epoch 85000 - loss 0.001039631781168282\n",
      "Epoch 90000 - loss 0.001033842796459794\n",
      "Epoch 95000 - loss 0.0010281221475452185\n",
      "Epoch 100000 - loss 0.0010223007993772626\n"
     ]
    }
   ],
   "source": [
    "epochs = 100000\n",
    "\n",
    "optimizer = optim.Adam(colornet.parameters(), lr=0.00001)\n",
    "criterion = nn.MSELoss()\n",
    "\n",
    "for e in range(1, epochs+1):\n",
    "    optimizer.zero_grad()\n",
    "    \n",
    "    left_pair, right_pair = shuffle(left_pair, right_pair)\n",
    "    \n",
    "    x = torch.from_numpy(left_pair / 255.0).float()\n",
    "    y = torch.from_numpy(right_pair / 255.0).float()\n",
    "        \n",
    "    pred = colornet(x)\n",
    "    loss = criterion(pred, y)\n",
    "    \n",
    "    loss.backward()\n",
    "    optimizer.step()\n",
    "    \n",
    "    if e % 5000 == 0:\n",
    "        print(f\"Epoch {e} - loss {loss}\")"
   ]
  },
  {
   "cell_type": "code",
   "execution_count": 306,
   "metadata": {
    "scrolled": false
   },
   "outputs": [
    {
     "data": {
      "image/png": "[encoded data removed]",
      "text/plain": [
       "<matplotlib.figure.Figure at 0x122d7dc18>"
      ]
     },
     "metadata": {
      "needs_background": "light"
     },
     "output_type": "display_data"
    },
    {
     "data": {
      "image/png": "[encoded data removed]",
      "text/plain": [
       "<matplotlib.figure.Figure at 0x122f44780>"
      ]
     },
     "metadata": {
      "needs_background": "light"
     },
     "output_type": "display_data"
    },
    {
     "data": {
      "image/png": "[encoded data removed]",
      "text/plain": [
       "<matplotlib.figure.Figure at 0x1257e3da0>"
      ]
     },
     "metadata": {
      "needs_background": "light"
     },
     "output_type": "display_data"
    },
    {
     "data": {
      "image/png": "[encoded data removed]",
      "text/plain": [
       "<matplotlib.figure.Figure at 0x1234b57f0>"
      ]
     },
     "metadata": {
      "needs_background": "light"
     },
     "output_type": "display_data"
    },
    {
     "data": {
      "image/png": "[encoded data removed]",
      "text/plain": [
       "<matplotlib.figure.Figure at 0x120a39b38>"
      ]
     },
     "metadata": {
      "needs_background": "light"
     },
     "output_type": "display_data"
    },
    {
     "data": {
      "image/png": "[encoded data removed]",
      "text/plain": [
       "<matplotlib.figure.Figure at 0x1231567f0>"
      ]
     },
     "metadata": {
      "needs_background": "light"
     },
     "output_type": "display_data"
    },
    {
     "data": {
      "image/png": "[encoded data removed]",
      "text/plain": [
       "<matplotlib.figure.Figure at 0x1221e7ba8>"
      ]
     },
     "metadata": {
      "needs_background": "light"
     },
     "output_type": "display_data"
    },
    {
     "data": {
      "image/png": "[encoded data removed]",
      "text/plain": [
       "<matplotlib.figure.Figure at 0x122d2d6a0>"
      ]
     },
     "metadata": {
      "needs_background": "light"
     },
     "output_type": "display_data"
    },
    {
     "data": {
      "image/png": "[encoded data removed]",
      "text/plain": [
       "<matplotlib.figure.Figure at 0x123f3ef60>"
      ]
     },
     "metadata": {
      "needs_background": "light"
     },
     "output_type": "display_data"
    },
    {
     "data": {
      "image/png": "[encoded data removed]",
      "text/plain": [
       "<matplotlib.figure.Figure at 0x12591f710>"
      ]
     },
     "metadata": {
      "needs_background": "light"
     },
     "output_type": "display_data"
    }
   ],
   "source": [
    "for i in range(10):\n",
    "    test_color = np.random.randint(0, 128, (1, 3)) / 255\n",
    "\n",
    "    with torch.no_grad():\n",
    "        pred = colornet(torch.from_numpy(test_color).float()).numpy()\n",
    "        duotone = np.concatenate((test_color, pred))\n",
    "\n",
    "        image = duotone.reshape(1, 2, 3)\n",
    "        plt.imshow(image)\n",
    "        plt.show()"
   ]
  },
  {
   "cell_type": "code",
   "execution_count": null,
   "metadata": {},
   "outputs": [],
   "source": [
    "torch.save(colornet.state_dict(), 'model.pt')"
   ]
  }
 ],
 "metadata": {
  "kernelspec": {
   "display_name": "Python 3",
   "language": "python",
   "name": "python3"
  },
  "language_info": {
   "codemirror_mode": {
    "name": "ipython",
    "version": 3
   },
   "file_extension": ".py",
   "mimetype": "text/x-python",
   "name": "python",
   "nbconvert_exporter": "python",
   "pygments_lexer": "ipython3",
   "version": "3.6.5"
  }
 },
 "nbformat": 4,
 "nbformat_minor": 2
}
