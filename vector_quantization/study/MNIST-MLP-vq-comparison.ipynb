{
  "nbformat": 4,
  "nbformat_minor": 0,
  "metadata": {
    "kernelspec": {
      "display_name": "Python 3",
      "language": "python",
      "name": "python3"
    },
    "language_info": {
      "codemirror_mode": {
        "name": "ipython",
        "version": 3
      },
      "file_extension": ".py",
      "mimetype": "text/x-python",
      "name": "python",
      "nbconvert_exporter": "python",
      "pygments_lexer": "ipython3",
      "version": "3.6.5"
    },
    "colab": {
      "name": "MNIST-MLP-vq-comparison.ipynb",
      "version": "0.3.2",
      "provenance": []
    }
  },
  "cells": [
    {
      "cell_type": "code",
      "metadata": {
        "id": "D8disPlCm7yE",
        "colab_type": "code",
        "colab": {}
      },
      "source": [
        "import torchvision\n",
        "import torch\n",
        "from torch import nn, optim\n",
        "import numpy as np\n",
        "from torchtools.vq import VectorQuantize\n",
        "from torchtools.optim import RAdam\n",
        "import matplotlib.pyplot as plt"
      ],
      "execution_count": 0,
      "outputs": []
    },
    {
      "cell_type": "code",
      "metadata": {
        "id": "u3dvFnvKm7yL",
        "colab_type": "code",
        "colab": {}
      },
      "source": [
        "dataset = torchvision.datasets.MNIST('mnist/', train=True, download=True, transform=torchvision.transforms.ToTensor())\n",
        "loader = torch.utils.data.DataLoader(dataset, batch_size=16, shuffle=True)\n",
        "\n",
        "dataset_val = torchvision.datasets.MNIST('mnist/', train=False, download=True, transform=torchvision.transforms.ToTensor())\n",
        "loader_val = torch.utils.data.DataLoader(dataset_val, batch_size=16)"
      ],
      "execution_count": 0,
      "outputs": []
    },
    {
      "cell_type": "code",
      "metadata": {
        "id": "eQiiJpRYm7yN",
        "colab_type": "code",
        "colab": {}
      },
      "source": [
        "def weights_init(m):\n",
        "    classname = m.__class__.__name__\n",
        "    if classname.find('Linear') != -1:\n",
        "        try:\n",
        "            nn.init.xavier_uniform_(m.weight.data)\n",
        "            m.bias.data.fill_(0)\n",
        "        except AttributeError:\n",
        "            print(\"Skipping initialization of \", classname)"
      ],
      "execution_count": 0,
      "outputs": []
    },
    {
      "cell_type": "code",
      "metadata": {
        "id": "ria20DRRm7yP",
        "colab_type": "code",
        "colab": {}
      },
      "source": [
        "class MLP(nn.Module):\n",
        "    def __init__(self):\n",
        "        super(MLP, self).__init__()       \n",
        "        self.classifier = nn.Sequential(\n",
        "            nn.Linear(784, 512),\n",
        "            nn.ReLU(),\n",
        "            nn.Linear(512, 256),\n",
        "            nn.ReLU(),\n",
        "            nn.Linear(256, 10),\n",
        "        )\n",
        "        \n",
        "        self.apply(weights_init)\n",
        "                \n",
        "    def forward(self, x):\n",
        "        x = self.classifier(x)\n",
        "        return x\n",
        "\n",
        "mlp = MLP()\n",
        "mlp.cuda()"
      ],
      "execution_count": 0,
      "outputs": []
    },
    {
      "cell_type": "code",
      "metadata": {
        "id": "qKcwXqljm7yS",
        "colab_type": "code",
        "colab": {},
        "outputId": "a5f12b12-4ffe-44be-de78-d53248c9fee4"
      },
      "source": [
        "epochs = 10\n",
        "optimizer = optim.Adam(mlp.parameters(), lr=0.01)\n",
        "criterion = nn.CrossEntropyLoss()\n",
        "regular_losses, regular_train_losses = [], []\n",
        "regular_accuracies, regular_train_accuracies = [], []\n",
        "for e in range(1, epochs+1):\n",
        "    test_loss = 0\n",
        "    test_acc = 0\n",
        "    for images, labels in loader:\n",
        "        images, labels = images.cuda(), labels.cuda()\n",
        "        pred = mlp.forward(images.view(-1, 784))        \n",
        "        loss = criterion(pred, labels)\n",
        "        optimizer.zero_grad()\n",
        "        loss.backward()\n",
        "        optimizer.step()\n",
        "        \n",
        "        test_loss += loss.item()\n",
        "        acc = (pred.argmax(dim=-1) == labels).float().mean()\n",
        "        test_acc += acc.item()\n",
        "    \n",
        "    regular_train_losses.append(test_loss/len(loader))\n",
        "    regular_train_accuracies.append(test_acc/len(loader))\n",
        "    \n",
        "    with torch.no_grad():\n",
        "        val_loss = 0\n",
        "        val_acc = 0\n",
        "        for images, labels in loader_val:\n",
        "            images, labels = images.cuda(), labels.cuda()\n",
        "            pred = mlp.forward(images.view(-1, 784))        \n",
        "            loss = criterion(pred, labels) \n",
        "            \n",
        "            val_loss += loss.item()\n",
        "            acc = (pred.argmax(dim=-1) == labels).float().mean()\n",
        "            val_acc += acc.item()\n",
        "    \n",
        "    regular_losses.append(val_loss/len(loader_val))\n",
        "    regular_accuracies.append(val_acc/len(loader_val))\n",
        "    print(f\"EPOCH {e} - loss {val_loss/len(loader_val)} - acc {val_acc/len(loader_val)}\")"
      ],
      "execution_count": 0,
      "outputs": [
        {
          "output_type": "error",
          "ename": "AssertionError",
          "evalue": "Torch not compiled with CUDA enabled",
          "traceback": [
            "\u001b[0;31m---------------------------------------------------------------------------\u001b[0m",
            "\u001b[0;31mAssertionError\u001b[0m                            Traceback (most recent call last)",
            "\u001b[0;32m<ipython-input-14-bca87f778e68>\u001b[0m in \u001b[0;36m<module>\u001b[0;34m\u001b[0m\n\u001b[1;32m     26\u001b[0m         \u001b[0mval_acc\u001b[0m \u001b[0;34m=\u001b[0m \u001b[0;36m0\u001b[0m\u001b[0;34m\u001b[0m\u001b[0m\n\u001b[1;32m     27\u001b[0m         \u001b[0;32mfor\u001b[0m \u001b[0mimages\u001b[0m\u001b[0;34m,\u001b[0m \u001b[0mlabels\u001b[0m \u001b[0;32min\u001b[0m \u001b[0mloader_val\u001b[0m\u001b[0;34m:\u001b[0m\u001b[0;34m\u001b[0m\u001b[0m\n\u001b[0;32m---> 28\u001b[0;31m             \u001b[0mimages\u001b[0m\u001b[0;34m,\u001b[0m \u001b[0mlabels\u001b[0m \u001b[0;34m=\u001b[0m \u001b[0mimages\u001b[0m\u001b[0;34m.\u001b[0m\u001b[0mcuda\u001b[0m\u001b[0;34m(\u001b[0m\u001b[0;34m)\u001b[0m\u001b[0;34m,\u001b[0m \u001b[0mlabels\u001b[0m\u001b[0;34m.\u001b[0m\u001b[0mcuda\u001b[0m\u001b[0;34m(\u001b[0m\u001b[0;34m)\u001b[0m\u001b[0;34m\u001b[0m\u001b[0m\n\u001b[0m\u001b[1;32m     29\u001b[0m             \u001b[0mpred\u001b[0m \u001b[0;34m=\u001b[0m \u001b[0mmlp\u001b[0m\u001b[0;34m.\u001b[0m\u001b[0mforward\u001b[0m\u001b[0;34m(\u001b[0m\u001b[0mimages\u001b[0m\u001b[0;34m.\u001b[0m\u001b[0mview\u001b[0m\u001b[0;34m(\u001b[0m\u001b[0;34m-\u001b[0m\u001b[0;36m1\u001b[0m\u001b[0;34m,\u001b[0m \u001b[0;36m784\u001b[0m\u001b[0;34m)\u001b[0m\u001b[0;34m)\u001b[0m\u001b[0;34m\u001b[0m\u001b[0m\n\u001b[1;32m     30\u001b[0m             \u001b[0mloss\u001b[0m \u001b[0;34m=\u001b[0m \u001b[0mcriterion\u001b[0m\u001b[0;34m(\u001b[0m\u001b[0mpred\u001b[0m\u001b[0;34m,\u001b[0m \u001b[0mlabels\u001b[0m\u001b[0;34m)\u001b[0m\u001b[0;34m\u001b[0m\u001b[0m\n",
            "\u001b[0;32m/usr/local/lib/python3.6/site-packages/torch/cuda/__init__.py\u001b[0m in \u001b[0;36m_lazy_init\u001b[0;34m()\u001b[0m\n\u001b[1;32m    176\u001b[0m         raise RuntimeError(\n\u001b[1;32m    177\u001b[0m             \"Cannot re-initialize CUDA in forked subprocess. \" + msg)\n\u001b[0;32m--> 178\u001b[0;31m     \u001b[0m_check_driver\u001b[0m\u001b[0;34m(\u001b[0m\u001b[0;34m)\u001b[0m\u001b[0;34m\u001b[0m\u001b[0m\n\u001b[0m\u001b[1;32m    179\u001b[0m     \u001b[0mtorch\u001b[0m\u001b[0;34m.\u001b[0m\u001b[0m_C\u001b[0m\u001b[0;34m.\u001b[0m\u001b[0m_cuda_init\u001b[0m\u001b[0;34m(\u001b[0m\u001b[0;34m)\u001b[0m\u001b[0;34m\u001b[0m\u001b[0m\n\u001b[1;32m    180\u001b[0m     \u001b[0m_cudart\u001b[0m \u001b[0;34m=\u001b[0m \u001b[0m_load_cudart\u001b[0m\u001b[0;34m(\u001b[0m\u001b[0;34m)\u001b[0m\u001b[0;34m\u001b[0m\u001b[0m\n",
            "\u001b[0;32m/usr/local/lib/python3.6/site-packages/torch/cuda/__init__.py\u001b[0m in \u001b[0;36m_check_driver\u001b[0;34m()\u001b[0m\n\u001b[1;32m     90\u001b[0m \u001b[0;32mdef\u001b[0m \u001b[0m_check_driver\u001b[0m\u001b[0;34m(\u001b[0m\u001b[0;34m)\u001b[0m\u001b[0;34m:\u001b[0m\u001b[0;34m\u001b[0m\u001b[0m\n\u001b[1;32m     91\u001b[0m     \u001b[0;32mif\u001b[0m \u001b[0;32mnot\u001b[0m \u001b[0mhasattr\u001b[0m\u001b[0;34m(\u001b[0m\u001b[0mtorch\u001b[0m\u001b[0;34m.\u001b[0m\u001b[0m_C\u001b[0m\u001b[0;34m,\u001b[0m \u001b[0;34m'_cuda_isDriverSufficient'\u001b[0m\u001b[0;34m)\u001b[0m\u001b[0;34m:\u001b[0m\u001b[0;34m\u001b[0m\u001b[0m\n\u001b[0;32m---> 92\u001b[0;31m         \u001b[0;32mraise\u001b[0m \u001b[0mAssertionError\u001b[0m\u001b[0;34m(\u001b[0m\u001b[0;34m\"Torch not compiled with CUDA enabled\"\u001b[0m\u001b[0;34m)\u001b[0m\u001b[0;34m\u001b[0m\u001b[0m\n\u001b[0m\u001b[1;32m     93\u001b[0m     \u001b[0;32mif\u001b[0m \u001b[0;32mnot\u001b[0m \u001b[0mtorch\u001b[0m\u001b[0;34m.\u001b[0m\u001b[0m_C\u001b[0m\u001b[0;34m.\u001b[0m\u001b[0m_cuda_isDriverSufficient\u001b[0m\u001b[0;34m(\u001b[0m\u001b[0;34m)\u001b[0m\u001b[0;34m:\u001b[0m\u001b[0;34m\u001b[0m\u001b[0m\n\u001b[1;32m     94\u001b[0m         \u001b[0;32mif\u001b[0m \u001b[0mtorch\u001b[0m\u001b[0;34m.\u001b[0m\u001b[0m_C\u001b[0m\u001b[0;34m.\u001b[0m\u001b[0m_cuda_getDriverVersion\u001b[0m\u001b[0;34m(\u001b[0m\u001b[0;34m)\u001b[0m \u001b[0;34m==\u001b[0m \u001b[0;36m0\u001b[0m\u001b[0;34m:\u001b[0m\u001b[0;34m\u001b[0m\u001b[0m\n",
            "\u001b[0;31mAssertionError\u001b[0m: Torch not compiled with CUDA enabled"
          ]
        }
      ]
    },
    {
      "cell_type": "code",
      "metadata": {
        "id": "nHqpVs4Zm7yY",
        "colab_type": "code",
        "colab": {}
      },
      "source": [
        "epochs = 10\n",
        "optimizer = RAdam(mlp.parameters(), lr=0.01)\n",
        "criterion = nn.CrossEntropyLoss()\n",
        "regular_losses_r, regular_train_losses_r = [], []\n",
        "regular_accuracies_r, regular_train_accuracies_r = [], []\n",
        "for e in range(1, epochs+1):\n",
        "    test_loss = 0\n",
        "    test_acc = 0\n",
        "    for images, labels in loader:\n",
        "        # images, labels = images.cuda(), labels.cuda()\n",
        "        pred = mlp.forward(images.view(-1, 784))        \n",
        "        loss = criterion(pred, labels)\n",
        "        optimizer.zero_grad()\n",
        "        loss.backward()\n",
        "        optimizer.step()\n",
        "        \n",
        "        test_loss += loss.item()\n",
        "        acc = (pred.argmax(dim=-1) == labels).float().mean()\n",
        "        test_acc += acc.item()\n",
        "    \n",
        "    regular_train_losses_r.append(test_loss/len(loader))\n",
        "    regular_train_accuracies_r.append(test_acc/len(loader))\n",
        "    \n",
        "    with torch.no_grad():\n",
        "        val_loss = 0\n",
        "        val_acc = 0\n",
        "        for images, labels in loader_val:\n",
        "            images, labels = images.cuda(), labels.cuda()\n",
        "            pred = mlp.forward(images.view(-1, 784))        \n",
        "            loss = criterion(pred, labels) \n",
        "            \n",
        "            val_loss += loss.item()\n",
        "            acc = (pred.argmax(dim=-1) == labels).float().mean()\n",
        "            val_acc += acc.item()\n",
        "    \n",
        "    regular_losses_r.append(val_loss/len(loader_val))\n",
        "    regular_accuracies_r.append(val_acc/len(loader_val))\n",
        "    print(f\"EPOCH {e} - loss {val_loss/len(loader_val)} - acc {val_acc/len(loader_val)}\")"
      ],
      "execution_count": 0,
      "outputs": []
    },
    {
      "cell_type": "code",
      "metadata": {
        "id": "5ExD1ZBOm7yc",
        "colab_type": "code",
        "colab": {},
        "outputId": "7e5ea6af-9705-4300-e3ce-309620997a2a"
      },
      "source": [
        "class vqMLP(nn.Module):\n",
        "    def __init__(self):\n",
        "        super(vqMLP, self).__init__()\n",
        "        \n",
        "        self.embedding_size = 1\n",
        "        \n",
        "        self.l1 = nn.Sequential(\n",
        "            nn.Linear(784, 512),\n",
        "            nn.ReLU()\n",
        "        )\n",
        "        \n",
        "        self.vq1 = VectorQuantize(self.embedding_size, 512, ema_loss=True)\n",
        "        \n",
        "        self.l2 = nn.Sequential(\n",
        "            nn.Linear(512, 256),\n",
        "            nn.ReLU()\n",
        "        )\n",
        "        \n",
        "        self.vq2 = VectorQuantize(self.embedding_size, 256)\n",
        "        \n",
        "        self.l3 = nn.Linear(256, 10)\n",
        "        \n",
        "        self.apply(weights_init)\n",
        "        \n",
        "    def forward(self, x):\n",
        "        x = self.l1(x).view(-1, 512 // self.embedding_size, self.embedding_size)\n",
        "        x, (_, commit_loss1), _ = self.vq1(x)\n",
        "        x = x.view(-1, 512)\n",
        "        \n",
        "        x = self.l2(x).view(-1, 256 // self.embedding_size, self.embedding_size)\n",
        "        x, (_, commit_loss2), _ = self.vq2(x)\n",
        "        x = x.view(-1, 256)\n",
        "        \n",
        "        x = self.l3(x)\n",
        "        return x, (commit_loss1 + commit_loss2)\n",
        "\n",
        "vqmlp = vqMLP()\n",
        "vqmlp.cuda()"
      ],
      "execution_count": 0,
      "outputs": [
        {
          "output_type": "execute_result",
          "data": {
            "text/plain": [
              "vqMLP(\n",
              "  (l1): Sequential(\n",
              "    (0): Linear(in_features=784, out_features=512, bias=True)\n",
              "    (1): ReLU()\n",
              "  )\n",
              "  (vq1): VectorQuantize(\n",
              "    (codebook): Embedding(512, 1)\n",
              "  )\n",
              "  (l2): Sequential(\n",
              "    (0): Linear(in_features=512, out_features=256, bias=True)\n",
              "    (1): ReLU()\n",
              "  )\n",
              "  (vq2): VectorQuantize(\n",
              "    (codebook): Embedding(256, 1)\n",
              "  )\n",
              "  (l3): Linear(in_features=256, out_features=10, bias=True)\n",
              ")"
            ]
          },
          "metadata": {
            "tags": []
          },
          "execution_count": 8
        }
      ]
    },
    {
      "cell_type": "code",
      "metadata": {
        "id": "mu6TC83Hm7yi",
        "colab_type": "code",
        "colab": {},
        "outputId": "3f154c17-a946-42e2-e5e4-761d15f67b12"
      },
      "source": [
        "epochs = 10\n",
        "optimizer = optim.Adam(vqmlp.parameters(), lr=0.01)\n",
        "criterion = nn.CrossEntropyLoss()\n",
        "vq_losses, vq_train_losses = [], []\n",
        "vq_accuracies, vq_train_accuracies = [], []\n",
        "for e in range(1, epochs+1):\n",
        "    vqmlp.train()\n",
        "    test_loss = 0\n",
        "    test_acc = 0\n",
        "    for images, labels in loader:\n",
        "        images, labels = images.cuda(), labels.cuda()\n",
        "        pred, commit_loss = vqmlp.forward(images.view(-1, 784))        \n",
        "        loss = criterion(pred, labels) + commit_loss * 0.25\n",
        "        optimizer.zero_grad()\n",
        "        loss.backward()\n",
        "        optimizer.step()\n",
        "        \n",
        "        test_loss += (loss.item() - commit_loss.item() * 0.25) # remove the commit loss\n",
        "        acc = (pred.argmax(dim=-1) == labels).float().mean()\n",
        "        test_acc += acc.item()\n",
        "    \n",
        "    vq_train_losses.append(test_loss/len(loader))\n",
        "    vq_train_accuracies.append(test_acc/len(loader))\n",
        "    \n",
        "    vqmlp.eval()\n",
        "    with torch.no_grad():\n",
        "        val_loss = 0\n",
        "        val_acc = 0\n",
        "        for images, labels in loader_val:\n",
        "            images, labels = images.cuda(), labels.cuda()\n",
        "            pred, commit_loss = vqmlp.forward(images.view(-1, 784)) \n",
        "            # for comparison purposes, let's keep the commit loss out of the equation\n",
        "            loss = criterion(pred, labels) # + commit_loss * 0.25 \n",
        "            \n",
        "            val_loss += loss.item()\n",
        "            acc = (pred.argmax(dim=-1) == labels).float().mean()\n",
        "            val_acc += acc.item()\n",
        "            \n",
        "    vq_losses.append(val_loss/len(loader_val))\n",
        "    vq_accuracies.append(val_acc/len(loader_val))\n",
        "    print(f\"EPOCH {e} - loss {val_loss/len(loader_val)} - acc {val_acc/len(loader_val)}\")"
      ],
      "execution_count": 0,
      "outputs": [
        {
          "output_type": "stream",
          "text": [
            "EPOCH 1 - loss 0.43257518918514254 - acc 0.9503\n",
            "EPOCH 2 - loss 0.14212108124494552 - acc 0.9707\n",
            "EPOCH 3 - loss 0.1026342918753624 - acc 0.9748\n",
            "EPOCH 4 - loss 0.08371566772460938 - acc 0.977\n",
            "EPOCH 5 - loss 0.07975721381902695 - acc 0.9778\n",
            "EPOCH 6 - loss 0.07575446336269379 - acc 0.9786\n",
            "EPOCH 7 - loss 0.08226723456978798 - acc 0.9781\n",
            "EPOCH 8 - loss 0.08029426817893982 - acc 0.9775\n",
            "EPOCH 9 - loss 0.07288837142586709 - acc 0.9794\n",
            "EPOCH 10 - loss 0.0702545889377594 - acc 0.9811\n"
          ],
          "name": "stdout"
        }
      ]
    },
    {
      "cell_type": "code",
      "metadata": {
        "id": "k4ao7BTlm7yr",
        "colab_type": "code",
        "colab": {}
      },
      "source": [
        "epochs = 10\n",
        "optimizer = optim.Adam(vqmlp.parameters(), lr=0.01)\n",
        "criterion = nn.CrossEntropyLoss()\n",
        "vq_losses_r, vq_train_losses_r = [], []\n",
        "vq_accuracies_r, vq_train_accuracies_r = [], []\n",
        "for e in range(1, epochs+1):\n",
        "    vqmlp.train()\n",
        "    test_loss = 0\n",
        "    test_acc = 0\n",
        "    for images, labels in loader:\n",
        "        images, labels = images.cuda(), labels.cuda()\n",
        "        pred, commit_loss = vqmlp.forward(images.view(-1, 784))        \n",
        "        loss = criterion(pred, labels) + commit_loss * 0.25\n",
        "        optimizer.zero_grad()\n",
        "        loss.backward()\n",
        "        optimizer.step()\n",
        "        \n",
        "        test_loss += (loss.item() - commit_loss.item() * 0.25) # remove the commit loss\n",
        "        acc = (pred.argmax(dim=-1) == labels).float().mean()\n",
        "        test_acc += acc.item()\n",
        "    \n",
        "    vq_train_losses_r.append(test_loss/len(loader))\n",
        "    vq_train_accuracies_r.append(test_acc/len(loader))\n",
        "    \n",
        "    vqmlp.eval()\n",
        "    with torch.no_grad():\n",
        "        val_loss = 0\n",
        "        val_acc = 0\n",
        "        for images, labels in loader_val:\n",
        "            images, labels = images.cuda(), labels.cuda()\n",
        "            pred, commit_loss = vqmlp.forward(images.view(-1, 784)) \n",
        "            # for comparison purposes, let's keep the commit loss out of the equation\n",
        "            loss = criterion(pred, labels) # + commit_loss * 0.25 \n",
        "            \n",
        "            val_loss += loss.item()\n",
        "            acc = (pred.argmax(dim=-1) == labels).float().mean()\n",
        "            val_acc += acc.item()\n",
        "            \n",
        "    vq_losses_r.append(val_loss/len(loader_val))\n",
        "    vq_accuracies_r.append(val_acc/len(loader_val))\n",
        "    print(f\"EPOCH {e} - loss {val_loss/len(loader_val)} - acc {val_acc/len(loader_val)}\")"
      ],
      "execution_count": 0,
      "outputs": []
    },
    {
      "cell_type": "code",
      "metadata": {
        "id": "ZVPHriIQm7yv",
        "colab_type": "code",
        "colab": {},
        "outputId": "652d9112-ca30-4b48-983b-45b6308b49db"
      },
      "source": [
        "# Let's compare the number of parameters:\n",
        "\n",
        "mlp_param_count = sum([p.numel() for p in mlp.parameters()])\n",
        "vqmlp_param_count = sum([p.numel() for p in vqmlp.parameters()])\n",
        "\n",
        "print(\"MLP\", mlp_param_count)\n",
        "print(\"vqMLP\", vqmlp_param_count)\n",
        "print(f\"vqMLP has {vqmlp_param_count-mlp_param_count} parameters more.\")"
      ],
      "execution_count": 0,
      "outputs": [
        {
          "output_type": "stream",
          "text": [
            "MLP 535818\n",
            "vqMLP 536586\n",
            "vqMLP has 768 parameters more.\n"
          ],
          "name": "stdout"
        }
      ]
    },
    {
      "cell_type": "code",
      "metadata": {
        "scrolled": false,
        "id": "AC61VuDYm7yy",
        "colab_type": "code",
        "colab": {},
        "outputId": "7e10d471-ef33-4a9d-c503-ff350eac6371"
      },
      "source": [
        "print(regular_losses)\n",
        "\n",
        "plt.plot(regular_losses, marker='', color='red', label=\"regular\")\n",
        "plt.plot(regular_train_losses, marker='', color='red', label=\"regular train\", linestyle='--')\n",
        "plt.plot(vq_losses, marker='', color='blue', label=\"vq\")\n",
        "plt.plot(vq_train_losses, marker='', color='blue', label=\"vq train\", linestyle='--')\n",
        "plt.legend()\n",
        "plt.title('Loss')\n",
        "plt.show()\n",
        "\n",
        "plt.plot(regular_accuracies, marker='', color='red', label=\"regular\")\n",
        "plt.plot(regular_train_accuracies, marker='', color='red', label=\"regular train\", linestyle='--')\n",
        "plt.plot(vq_accuracies, marker='', color='blue', label=\"vq\")\n",
        "plt.plot(vq_train_accuracies, marker='', color='blue', label=\"vq train\", linestyle='--')\n",
        "plt.legend()\n",
        "plt.title('Accuracy')\n",
        "plt.show()"
      ],
      "execution_count": 0,
      "outputs": [
        {
          "output_type": "stream",
          "text": [
            "[0.23132744488716125, 0.20359286821484565, 0.2183299045562744, 0.20119987473487855, 0.22391787838935853, 0.22000187500715257, 0.3061968939602375, 0.202169755589962, 0.28151103110313414, 0.2539476370453835]\n"
          ],
          "name": "stdout"
        },
        {
          "output_type": "display_data",
          "data": {
            "image/png": "[encoded data removed]",
            "text/plain": [
              "<Figure size 432x288 with 1 Axes>"
            ]
          },
          "metadata": {
            "tags": [],
            "needs_background": "light"
          }
        },
        {
          "output_type": "display_data",
          "data": {
            "image/png": "[encoded data removed]",
            "text/plain": [
              "<Figure size 432x288 with 1 Axes>"
            ]
          },
          "metadata": {
            "tags": [],
            "needs_background": "light"
          }
        }
      ]
    }
  ]
}