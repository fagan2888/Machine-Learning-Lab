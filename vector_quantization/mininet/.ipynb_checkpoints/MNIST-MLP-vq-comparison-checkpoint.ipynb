{
 "cells": [
  {
   "cell_type": "code",
   "execution_count": 53,
   "metadata": {},
   "outputs": [],
   "source": [
    "import torchvision\n",
    "import torch\n",
    "from torch import nn, optim\n",
    "import numpy as np\n",
    "from torchtools.vq import VectorQuantize\n",
    "import matplotlib.pyplot as plt"
   ]
  },
  {
   "cell_type": "code",
   "execution_count": 2,
   "metadata": {},
   "outputs": [],
   "source": [
    "dataset = torchvision.datasets.MNIST('/mnist/', train=True, download=True, transform=torchvision.transforms.ToTensor())\n",
    "loader = torch.utils.data.DataLoader(dataset, batch_size=16, shuffle=True)\n",
    "\n",
    "dataset_val = torchvision.datasets.MNIST('/mnist/', train=False, download=True, transform=torchvision.transforms.ToTensor())\n",
    "loader_val = torch.utils.data.DataLoader(dataset_val, batch_size=16)"
   ]
  },
  {
   "cell_type": "code",
   "execution_count": 63,
   "metadata": {},
   "outputs": [],
   "source": [
    "def weights_init(m):\n",
    "    classname = m.__class__.__name__\n",
    "    if classname.find('Linear') != -1:\n",
    "        try:\n",
    "            nn.init.xavier_uniform_(m.weight.data)\n",
    "            m.bias.data.fill_(0)\n",
    "        except AttributeError:\n",
    "            print(\"Skipping initialization of \", classname)"
   ]
  },
  {
   "cell_type": "code",
   "execution_count": 64,
   "metadata": {},
   "outputs": [
    {
     "data": {
      "text/plain": [
       "MLP(\n",
       "  (classifier): Sequential(\n",
       "    (0): Linear(in_features=784, out_features=512, bias=True)\n",
       "    (1): ReLU()\n",
       "    (2): Linear(in_features=512, out_features=256, bias=True)\n",
       "    (3): ReLU()\n",
       "    (4): Linear(in_features=256, out_features=10, bias=True)\n",
       "  )\n",
       ")"
      ]
     },
     "execution_count": 64,
     "metadata": {},
     "output_type": "execute_result"
    }
   ],
   "source": [
    "class MLP(nn.Module):\n",
    "    def __init__(self):\n",
    "        super(MLP, self).__init__()       \n",
    "        self.classifier = nn.Sequential(\n",
    "            nn.Linear(784, 512),\n",
    "            nn.ReLU(),\n",
    "            nn.Linear(512, 256),\n",
    "            nn.ReLU(),\n",
    "            nn.Linear(256, 10),\n",
    "        )\n",
    "        \n",
    "        self.apply(weights_init)\n",
    "                \n",
    "    def forward(self, x):\n",
    "        x = self.classifier(x)\n",
    "        return x\n",
    "\n",
    "mlp = MLP()\n",
    "mlp.cuda()"
   ]
  },
  {
   "cell_type": "code",
   "execution_count": 65,
   "metadata": {},
   "outputs": [
    {
     "name": "stdout",
     "output_type": "stream",
     "text": [
      "EPOCH 1 - loss 0.2115401767849922 - acc 0.9441\n",
      "EPOCH 2 - loss 0.20457992555499077 - acc 0.9502\n",
      "EPOCH 3 - loss 0.215694216299057 - acc 0.9417\n",
      "EPOCH 4 - loss 0.23204572867155074 - acc 0.9442\n",
      "EPOCH 5 - loss 0.2175224419593811 - acc 0.956\n",
      "EPOCH 6 - loss 0.22261276255846024 - acc 0.9554\n",
      "EPOCH 7 - loss 0.2290907833099365 - acc 0.9533\n",
      "EPOCH 8 - loss 0.25321964643001554 - acc 0.9489\n",
      "EPOCH 9 - loss 0.25061676266789434 - acc 0.9481\n",
      "EPOCH 10 - loss 0.2666659568250179 - acc 0.9418\n"
     ]
    }
   ],
   "source": [
    "epochs = 10\n",
    "optimizer = optim.Adam(mlp.parameters(), lr=0.01)\n",
    "criterion = nn.CrossEntropyLoss()\n",
    "regular_losses = []\n",
    "regular_accuracies = []\n",
    "for e in range(1, epochs+1):\n",
    "    for images, labels in loader:\n",
    "        images, labels = images.cuda(), labels.cuda()\n",
    "        pred = mlp.forward(images.view(-1, 784))        \n",
    "        loss = criterion(pred, labels)\n",
    "        optimizer.zero_grad()\n",
    "        loss.backward()\n",
    "        optimizer.step()\n",
    "    \n",
    "    with torch.no_grad():\n",
    "        val_loss = 0\n",
    "        val_acc = 0\n",
    "        for images, labels in loader_val:\n",
    "            images, labels = images.cuda(), labels.cuda()\n",
    "            pred = mlp.forward(images.view(-1, 784))        \n",
    "            loss = criterion(pred, labels) \n",
    "            val_loss += loss.item()\n",
    "            acc = (pred.argmax(dim=-1) == labels).float().mean()\n",
    "            val_acc += acc.item()\n",
    "    \n",
    "    regular_losses.append(val_loss/len(loader_val))\n",
    "    regular_accuracies.append(val_acc/len(loader_val))\n",
    "    print(f\"EPOCH {e} - loss {val_loss/len(loader_val)} - acc {val_acc/len(loader_val)}\")"
   ]
  },
  {
   "cell_type": "code",
   "execution_count": 126,
   "metadata": {},
   "outputs": [
    {
     "data": {
      "text/plain": [
       "vqMLP(\n",
       "  (l1): Sequential(\n",
       "    (0): Linear(in_features=784, out_features=512, bias=True)\n",
       "    (1): ReLU()\n",
       "  )\n",
       "  (vq1): VectorQuantize(\n",
       "    (codebook): Embedding(512, 1)\n",
       "  )\n",
       "  (l2): Sequential(\n",
       "    (0): Linear(in_features=512, out_features=256, bias=True)\n",
       "    (1): ReLU()\n",
       "  )\n",
       "  (vq2): VectorQuantize(\n",
       "    (codebook): Embedding(256, 1)\n",
       "  )\n",
       "  (l3): Linear(in_features=256, out_features=10, bias=True)\n",
       ")"
      ]
     },
     "execution_count": 126,
     "metadata": {},
     "output_type": "execute_result"
    }
   ],
   "source": [
    "class vqMLP(nn.Module):\n",
    "    def __init__(self):\n",
    "        super(vqMLP, self).__init__()\n",
    "        \n",
    "        self.embedding_size = 1\n",
    "        \n",
    "        self.l1 = nn.Sequential(\n",
    "            nn.Linear(784, 512),\n",
    "            nn.ReLU()\n",
    "        )\n",
    "        \n",
    "        self.vq1 = VectorQuantize(self.embedding_size, 512, ema_loss=True)\n",
    "        \n",
    "        self.l2 = nn.Sequential(\n",
    "            nn.Linear(512, 256),\n",
    "            nn.ReLU()\n",
    "        )\n",
    "        \n",
    "        self.vq2 = VectorQuantize(self.embedding_size, 256)\n",
    "        \n",
    "        self.l3 = nn.Linear(256, 10)\n",
    "        \n",
    "        self.apply(weights_init)\n",
    "        \n",
    "    def forward(self, x):\n",
    "        x = self.l1(x).view(-1, 512 // self.embedding_size, self.embedding_size)\n",
    "        x, (_, commit_loss1), _ = self.vq1(x)\n",
    "        x = x.view(-1, 512)\n",
    "        \n",
    "        x = self.l2(x).view(-1, 256 // self.embedding_size, self.embedding_size)\n",
    "        x, (_, commit_loss2), _ = self.vq2(x)\n",
    "        x = x.view(-1, 256)\n",
    "        \n",
    "        x = self.l3(x)\n",
    "        return x, (commit_loss1 + commit_loss2)\n",
    "\n",
    "vqmlp = vqMLP()\n",
    "vqmlp.cuda()"
   ]
  },
  {
   "cell_type": "code",
   "execution_count": 127,
   "metadata": {},
   "outputs": [
    {
     "name": "stdout",
     "output_type": "stream",
     "text": [
      "EPOCH 1 - loss 0.32467074761390685 - acc 0.9537\n",
      "EPOCH 2 - loss 0.11570840238332748 - acc 0.9747\n",
      "EPOCH 3 - loss 0.08951938426494599 - acc 0.9776\n",
      "EPOCH 4 - loss 0.08535076506137848 - acc 0.9767\n",
      "EPOCH 5 - loss 0.07794239637851715 - acc 0.9778\n",
      "EPOCH 6 - loss 0.07721007231473923 - acc 0.9791\n",
      "EPOCH 7 - loss 0.0749548682332039 - acc 0.9796\n",
      "EPOCH 8 - loss 0.07753048594594002 - acc 0.9779\n",
      "EPOCH 9 - loss 0.06836795064210892 - acc 0.9811\n",
      "EPOCH 10 - loss 0.07650874952077866 - acc 0.9786\n"
     ]
    }
   ],
   "source": [
    "epochs = 10\n",
    "optimizer = optim.Adam(vqmlp.parameters(), lr=0.01)\n",
    "criterion = nn.CrossEntropyLoss()\n",
    "vq_losses = []\n",
    "vq_accuracies = []\n",
    "for e in range(1, epochs+1):\n",
    "    vqmlp.train()\n",
    "    for images, labels in loader:\n",
    "        images, labels = images.cuda(), labels.cuda()\n",
    "        pred, commit_loss = vqmlp.forward(images.view(-1, 784))        \n",
    "        loss = criterion(pred, labels) + commit_loss * 0.25\n",
    "        optimizer.zero_grad()\n",
    "        loss.backward()\n",
    "        optimizer.step()\n",
    "    \n",
    "    vqmlp.eval()\n",
    "    with torch.no_grad():\n",
    "        val_loss = 0\n",
    "        val_acc = 0\n",
    "        for images, labels in loader_val:\n",
    "            images, labels = images.cuda(), labels.cuda()\n",
    "            pred, commit_loss = vqmlp.forward(images.view(-1, 784)) \n",
    "            # for comparison purposes, let's keep the commit loss out of the equation\n",
    "            loss = criterion(pred, labels) # + commit_loss * 0.25 \n",
    "            val_loss += loss.item()\n",
    "            acc = (pred.argmax(dim=-1) == labels).float().mean()\n",
    "            val_acc += acc.item()\n",
    "            \n",
    "    vq_losses.append(val_loss/len(loader_val))\n",
    "    vq_accuracies.append(val_acc/len(loader_val))\n",
    "    print(f\"EPOCH {e} - loss {val_loss/len(loader_val)} - acc {val_acc/len(loader_val)}\")"
   ]
  },
  {
   "cell_type": "code",
   "execution_count": 130,
   "metadata": {},
   "outputs": [
    {
     "name": "stdout",
     "output_type": "stream",
     "text": [
      "MLP 535818\n",
      "vqMLP 536586\n",
      "vqMLP has 768 parameters more.\n"
     ]
    }
   ],
   "source": [
    "# Let's compare the number of parameters:\n",
    "\n",
    "mlp_param_count = sum([p.numel() for p in mlp.parameters()])\n",
    "vqmlp_param_count = sum([p.numel() for p in vqmlp.parameters()])\n",
    "\n",
    "print(\"MLP\", mlp_param_count)\n",
    "print(\"vqMLP\", vqmlp_param_count)\n",
    "print(f\"vqMLP has {vqmlp_param_count-mlp_param_count} parameters more.\")"
   ]
  },
  {
   "cell_type": "code",
   "execution_count": 131,
   "metadata": {
    "scrolled": false
   },
   "outputs": [
    {
     "name": "stdout",
     "output_type": "stream",
     "text": [
      "[0.2115401767849922, 0.20457992555499077, 0.215694216299057, 0.23204572867155074, 0.2175224419593811, 0.22261276255846024, 0.2290907833099365, 0.25321964643001554, 0.25061676266789434, 0.2666659568250179]\n"
     ]
    },
    {
     "data": {
      "image/png": "[encoded data removed]",
      "text/plain": [
       "<Figure size 432x288 with 1 Axes>"
      ]
     },
     "metadata": {
      "needs_background": "light"
     },
     "output_type": "display_data"
    },
    {
     "data": {
      "image/png": "[encoded data removed]",
      "text/plain": [
       "<Figure size 432x288 with 1 Axes>"
      ]
     },
     "metadata": {
      "needs_background": "light"
     },
     "output_type": "display_data"
    }
   ],
   "source": [
    "print(regular_losses)\n",
    "\n",
    "plt.plot(regular_losses, marker='', color='red', label=\"regular\")\n",
    "plt.plot(vq_losses, marker='', color='blue', label=\"vq\")\n",
    "plt.legend()\n",
    "plt.title('Loss')\n",
    "plt.show()\n",
    "\n",
    "plt.plot(regular_accuracies, marker='', color='red', label=\"regular\")\n",
    "plt.plot(vq_accuracies, marker='', color='blue', label=\"vq\")\n",
    "plt.legend()\n",
    "plt.title('Accuracy')\n",
    "plt.show()"
   ]
  },
  {
   "cell_type": "code",
   "execution_count": null,
   "metadata": {},
   "outputs": [],
   "source": [
    "La linea roja es un MLP con 2 capas ocultas en MNIST: \n",
    "784 > 512 > 256 > 10 \n",
    "\n",
    "La linea azul es el mismo MLP pero añadiendole vector quantization entre cada una de las capas ocultas\n",
    "\n",
    "784 > 512 [quant] > 256 [quant] > 10 \n",
    "\n",
    "Los parámetros de la cuantización son para la primera 512 y para la segunda 256 posibles valores únicos, es decir que solo añade al modelo 768 parámetros entrenables, cosa que no se nota casi (536330 vs 535818)\n",
    "\n",
    "La quantización ralentiza un poco el modelo, eso sí, pero el efecto es sin duda flipante :O"
   ]
  }
 ],
 "metadata": {
  "kernelspec": {
   "display_name": "Python 3",
   "language": "python",
   "name": "python3"
  },
  "language_info": {
   "codemirror_mode": {
    "name": "ipython",
    "version": 3
   },
   "file_extension": ".py",
   "mimetype": "text/x-python",
   "name": "python",
   "nbconvert_exporter": "python",
   "pygments_lexer": "ipython3",
   "version": "3.7.3"
  }
 },
 "nbformat": 4,
 "nbformat_minor": 2
}
